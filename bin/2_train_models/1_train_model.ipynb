{
 "cells": [
  {
   "cell_type": "code",
   "execution_count": 1,
   "metadata": {},
   "outputs": [
    {
     "name": "stdout",
     "output_type": "stream",
     "text": [
      "The history saving thread hit an unexpected error (DatabaseError('database disk image is malformed')).History will not be written to the database.\n"
     ]
    }
   ],
   "source": [
    "# Imports\n",
    "import os\n",
    "import yaml\n",
    "import torch\n",
    "import pandas as pd\n",
    "import numpy as np\n",
    "import xarray as xr\n",
    "import torch.nn as nn\n",
    "\n",
    "import seqpro as sp\n",
    "import seqmodels as sm\n",
    "import seqdata as sd"
   ]
  },
  {
   "cell_type": "code",
   "execution_count": 2,
   "metadata": {},
   "outputs": [
    {
     "name": "stdout",
     "output_type": "stream",
     "text": [
      "Using device: cuda\n"
     ]
    }
   ],
   "source": [
    "# Report cuda availability\n",
    "device = torch.device(\"cuda\" if torch.cuda.is_available() else \"cpu\")\n",
    "print('Using device:', device)"
   ]
  },
  {
   "cell_type": "code",
   "execution_count": 3,
   "metadata": {},
   "outputs": [],
   "source": [
    "# Change working directory\n",
    "os.chdir(\"/cellar/users/aklie/data/datasets/Fromel2024_hematopoietic-differentiation_MPRA/bin/2_train_models\")"
   ]
  },
  {
   "cell_type": "code",
   "execution_count": 4,
   "metadata": {},
   "outputs": [],
   "source": [
    "# Set seed\n",
    "np.random.seed(1234)"
   ]
  },
  {
   "cell_type": "markdown",
   "metadata": {},
   "source": [
    "# Data"
   ]
  },
  {
   "cell_type": "code",
   "execution_count": 5,
   "metadata": {},
   "outputs": [],
   "source": [
    "path_data = \"/cellar/users/aklie/data/datasets/Fromel2024_hematopoietic-differentiation_MPRA/processed/HSPC.libA.DATA.tsv\""
   ]
  },
  {
   "cell_type": "code",
   "execution_count": 6,
   "metadata": {},
   "outputs": [],
   "source": [
    "data = pd.read_csv(path_data, sep=\"\\t\")"
   ]
  },
  {
   "cell_type": "code",
   "execution_count": 7,
   "metadata": {},
   "outputs": [],
   "source": [
    "# Upper case\n",
    "data[\"seq\"] = data[\"Seq\"].str.upper()"
   ]
  },
  {
   "cell_type": "code",
   "execution_count": 8,
   "metadata": {},
   "outputs": [
    {
     "data": {
      "text/html": [
       "<div><svg style=\"position: absolute; width: 0; height: 0; overflow: hidden\">\n",
       "<defs>\n",
       "<symbol id=\"icon-database\" viewBox=\"0 0 32 32\">\n",
       "<path d=\"M16 0c-8.837 0-16 2.239-16 5v4c0 2.761 7.163 5 16 5s16-2.239 16-5v-4c0-2.761-7.163-5-16-5z\"></path>\n",
       "<path d=\"M16 17c-8.837 0-16-2.239-16-5v6c0 2.761 7.163 5 16 5s16-2.239 16-5v-6c0 2.761-7.163 5-16 5z\"></path>\n",
       "<path d=\"M16 26c-8.837 0-16-2.239-16-5v6c0 2.761 7.163 5 16 5s16-2.239 16-5v-6c0 2.761-7.163 5-16 5z\"></path>\n",
       "</symbol>\n",
       "<symbol id=\"icon-file-text2\" viewBox=\"0 0 32 32\">\n",
       "<path d=\"M28.681 7.159c-0.694-0.947-1.662-2.053-2.724-3.116s-2.169-2.030-3.116-2.724c-1.612-1.182-2.393-1.319-2.841-1.319h-15.5c-1.378 0-2.5 1.121-2.5 2.5v27c0 1.378 1.122 2.5 2.5 2.5h23c1.378 0 2.5-1.122 2.5-2.5v-19.5c0-0.448-0.137-1.23-1.319-2.841zM24.543 5.457c0.959 0.959 1.712 1.825 2.268 2.543h-4.811v-4.811c0.718 0.556 1.584 1.309 2.543 2.268zM28 29.5c0 0.271-0.229 0.5-0.5 0.5h-23c-0.271 0-0.5-0.229-0.5-0.5v-27c0-0.271 0.229-0.5 0.5-0.5 0 0 15.499-0 15.5 0v7c0 0.552 0.448 1 1 1h7v19.5z\"></path>\n",
       "<path d=\"M23 26h-14c-0.552 0-1-0.448-1-1s0.448-1 1-1h14c0.552 0 1 0.448 1 1s-0.448 1-1 1z\"></path>\n",
       "<path d=\"M23 22h-14c-0.552 0-1-0.448-1-1s0.448-1 1-1h14c0.552 0 1 0.448 1 1s-0.448 1-1 1z\"></path>\n",
       "<path d=\"M23 18h-14c-0.552 0-1-0.448-1-1s0.448-1 1-1h14c0.552 0 1 0.448 1 1s-0.448 1-1 1z\"></path>\n",
       "</symbol>\n",
       "</defs>\n",
       "</svg>\n",
       "<style>/* CSS stylesheet for displaying xarray objects in jupyterlab.\n",
       " *\n",
       " */\n",
       "\n",
       ":root {\n",
       "  --xr-font-color0: var(--jp-content-font-color0, rgba(0, 0, 0, 1));\n",
       "  --xr-font-color2: var(--jp-content-font-color2, rgba(0, 0, 0, 0.54));\n",
       "  --xr-font-color3: var(--jp-content-font-color3, rgba(0, 0, 0, 0.38));\n",
       "  --xr-border-color: var(--jp-border-color2, #e0e0e0);\n",
       "  --xr-disabled-color: var(--jp-layout-color3, #bdbdbd);\n",
       "  --xr-background-color: var(--jp-layout-color0, white);\n",
       "  --xr-background-color-row-even: var(--jp-layout-color1, white);\n",
       "  --xr-background-color-row-odd: var(--jp-layout-color2, #eeeeee);\n",
       "}\n",
       "\n",
       "html[theme=dark],\n",
       "body[data-theme=dark],\n",
       "body.vscode-dark {\n",
       "  --xr-font-color0: rgba(255, 255, 255, 1);\n",
       "  --xr-font-color2: rgba(255, 255, 255, 0.54);\n",
       "  --xr-font-color3: rgba(255, 255, 255, 0.38);\n",
       "  --xr-border-color: #1F1F1F;\n",
       "  --xr-disabled-color: #515151;\n",
       "  --xr-background-color: #111111;\n",
       "  --xr-background-color-row-even: #111111;\n",
       "  --xr-background-color-row-odd: #313131;\n",
       "}\n",
       "\n",
       ".xr-wrap {\n",
       "  display: block !important;\n",
       "  min-width: 300px;\n",
       "  max-width: 700px;\n",
       "}\n",
       "\n",
       ".xr-text-repr-fallback {\n",
       "  /* fallback to plain text repr when CSS is not injected (untrusted notebook) */\n",
       "  display: none;\n",
       "}\n",
       "\n",
       ".xr-header {\n",
       "  padding-top: 6px;\n",
       "  padding-bottom: 6px;\n",
       "  margin-bottom: 4px;\n",
       "  border-bottom: solid 1px var(--xr-border-color);\n",
       "}\n",
       "\n",
       ".xr-header > div,\n",
       ".xr-header > ul {\n",
       "  display: inline;\n",
       "  margin-top: 0;\n",
       "  margin-bottom: 0;\n",
       "}\n",
       "\n",
       ".xr-obj-type,\n",
       ".xr-array-name {\n",
       "  margin-left: 2px;\n",
       "  margin-right: 10px;\n",
       "}\n",
       "\n",
       ".xr-obj-type {\n",
       "  color: var(--xr-font-color2);\n",
       "}\n",
       "\n",
       ".xr-sections {\n",
       "  padding-left: 0 !important;\n",
       "  display: grid;\n",
       "  grid-template-columns: 150px auto auto 1fr 20px 20px;\n",
       "}\n",
       "\n",
       ".xr-section-item {\n",
       "  display: contents;\n",
       "}\n",
       "\n",
       ".xr-section-item input {\n",
       "  display: none;\n",
       "}\n",
       "\n",
       ".xr-section-item input + label {\n",
       "  color: var(--xr-disabled-color);\n",
       "}\n",
       "\n",
       ".xr-section-item input:enabled + label {\n",
       "  cursor: pointer;\n",
       "  color: var(--xr-font-color2);\n",
       "}\n",
       "\n",
       ".xr-section-item input:enabled + label:hover {\n",
       "  color: var(--xr-font-color0);\n",
       "}\n",
       "\n",
       ".xr-section-summary {\n",
       "  grid-column: 1;\n",
       "  color: var(--xr-font-color2);\n",
       "  font-weight: 500;\n",
       "}\n",
       "\n",
       ".xr-section-summary > span {\n",
       "  display: inline-block;\n",
       "  padding-left: 0.5em;\n",
       "}\n",
       "\n",
       ".xr-section-summary-in:disabled + label {\n",
       "  color: var(--xr-font-color2);\n",
       "}\n",
       "\n",
       ".xr-section-summary-in + label:before {\n",
       "  display: inline-block;\n",
       "  content: '►';\n",
       "  font-size: 11px;\n",
       "  width: 15px;\n",
       "  text-align: center;\n",
       "}\n",
       "\n",
       ".xr-section-summary-in:disabled + label:before {\n",
       "  color: var(--xr-disabled-color);\n",
       "}\n",
       "\n",
       ".xr-section-summary-in:checked + label:before {\n",
       "  content: '▼';\n",
       "}\n",
       "\n",
       ".xr-section-summary-in:checked + label > span {\n",
       "  display: none;\n",
       "}\n",
       "\n",
       ".xr-section-summary,\n",
       ".xr-section-inline-details {\n",
       "  padding-top: 4px;\n",
       "  padding-bottom: 4px;\n",
       "}\n",
       "\n",
       ".xr-section-inline-details {\n",
       "  grid-column: 2 / -1;\n",
       "}\n",
       "\n",
       ".xr-section-details {\n",
       "  display: none;\n",
       "  grid-column: 1 / -1;\n",
       "  margin-bottom: 5px;\n",
       "}\n",
       "\n",
       ".xr-section-summary-in:checked ~ .xr-section-details {\n",
       "  display: contents;\n",
       "}\n",
       "\n",
       ".xr-array-wrap {\n",
       "  grid-column: 1 / -1;\n",
       "  display: grid;\n",
       "  grid-template-columns: 20px auto;\n",
       "}\n",
       "\n",
       ".xr-array-wrap > label {\n",
       "  grid-column: 1;\n",
       "  vertical-align: top;\n",
       "}\n",
       "\n",
       ".xr-preview {\n",
       "  color: var(--xr-font-color3);\n",
       "}\n",
       "\n",
       ".xr-array-preview,\n",
       ".xr-array-data {\n",
       "  padding: 0 5px !important;\n",
       "  grid-column: 2;\n",
       "}\n",
       "\n",
       ".xr-array-data,\n",
       ".xr-array-in:checked ~ .xr-array-preview {\n",
       "  display: none;\n",
       "}\n",
       "\n",
       ".xr-array-in:checked ~ .xr-array-data,\n",
       ".xr-array-preview {\n",
       "  display: inline-block;\n",
       "}\n",
       "\n",
       ".xr-dim-list {\n",
       "  display: inline-block !important;\n",
       "  list-style: none;\n",
       "  padding: 0 !important;\n",
       "  margin: 0;\n",
       "}\n",
       "\n",
       ".xr-dim-list li {\n",
       "  display: inline-block;\n",
       "  padding: 0;\n",
       "  margin: 0;\n",
       "}\n",
       "\n",
       ".xr-dim-list:before {\n",
       "  content: '(';\n",
       "}\n",
       "\n",
       ".xr-dim-list:after {\n",
       "  content: ')';\n",
       "}\n",
       "\n",
       ".xr-dim-list li:not(:last-child):after {\n",
       "  content: ',';\n",
       "  padding-right: 5px;\n",
       "}\n",
       "\n",
       ".xr-has-index {\n",
       "  font-weight: bold;\n",
       "}\n",
       "\n",
       ".xr-var-list,\n",
       ".xr-var-item {\n",
       "  display: contents;\n",
       "}\n",
       "\n",
       ".xr-var-item > div,\n",
       ".xr-var-item label,\n",
       ".xr-var-item > .xr-var-name span {\n",
       "  background-color: var(--xr-background-color-row-even);\n",
       "  margin-bottom: 0;\n",
       "}\n",
       "\n",
       ".xr-var-item > .xr-var-name:hover span {\n",
       "  padding-right: 5px;\n",
       "}\n",
       "\n",
       ".xr-var-list > li:nth-child(odd) > div,\n",
       ".xr-var-list > li:nth-child(odd) > label,\n",
       ".xr-var-list > li:nth-child(odd) > .xr-var-name span {\n",
       "  background-color: var(--xr-background-color-row-odd);\n",
       "}\n",
       "\n",
       ".xr-var-name {\n",
       "  grid-column: 1;\n",
       "}\n",
       "\n",
       ".xr-var-dims {\n",
       "  grid-column: 2;\n",
       "}\n",
       "\n",
       ".xr-var-dtype {\n",
       "  grid-column: 3;\n",
       "  text-align: right;\n",
       "  color: var(--xr-font-color2);\n",
       "}\n",
       "\n",
       ".xr-var-preview {\n",
       "  grid-column: 4;\n",
       "}\n",
       "\n",
       ".xr-index-preview {\n",
       "  grid-column: 2 / 5;\n",
       "  color: var(--xr-font-color2);\n",
       "}\n",
       "\n",
       ".xr-var-name,\n",
       ".xr-var-dims,\n",
       ".xr-var-dtype,\n",
       ".xr-preview,\n",
       ".xr-attrs dt {\n",
       "  white-space: nowrap;\n",
       "  overflow: hidden;\n",
       "  text-overflow: ellipsis;\n",
       "  padding-right: 10px;\n",
       "}\n",
       "\n",
       ".xr-var-name:hover,\n",
       ".xr-var-dims:hover,\n",
       ".xr-var-dtype:hover,\n",
       ".xr-attrs dt:hover {\n",
       "  overflow: visible;\n",
       "  width: auto;\n",
       "  z-index: 1;\n",
       "}\n",
       "\n",
       ".xr-var-attrs,\n",
       ".xr-var-data,\n",
       ".xr-index-data {\n",
       "  display: none;\n",
       "  background-color: var(--xr-background-color) !important;\n",
       "  padding-bottom: 5px !important;\n",
       "}\n",
       "\n",
       ".xr-var-attrs-in:checked ~ .xr-var-attrs,\n",
       ".xr-var-data-in:checked ~ .xr-var-data,\n",
       ".xr-index-data-in:checked ~ .xr-index-data {\n",
       "  display: block;\n",
       "}\n",
       "\n",
       ".xr-var-data > table {\n",
       "  float: right;\n",
       "}\n",
       "\n",
       ".xr-var-name span,\n",
       ".xr-var-data,\n",
       ".xr-index-name div,\n",
       ".xr-index-data,\n",
       ".xr-attrs {\n",
       "  padding-left: 25px !important;\n",
       "}\n",
       "\n",
       ".xr-attrs,\n",
       ".xr-var-attrs,\n",
       ".xr-var-data,\n",
       ".xr-index-data {\n",
       "  grid-column: 1 / -1;\n",
       "}\n",
       "\n",
       "dl.xr-attrs {\n",
       "  padding: 0;\n",
       "  margin: 0;\n",
       "  display: grid;\n",
       "  grid-template-columns: 125px auto;\n",
       "}\n",
       "\n",
       ".xr-attrs dt,\n",
       ".xr-attrs dd {\n",
       "  padding: 0;\n",
       "  margin: 0;\n",
       "  float: left;\n",
       "  padding-right: 10px;\n",
       "  width: auto;\n",
       "}\n",
       "\n",
       ".xr-attrs dt {\n",
       "  font-weight: normal;\n",
       "  grid-column: 1;\n",
       "}\n",
       "\n",
       ".xr-attrs dt:hover span {\n",
       "  display: inline-block;\n",
       "  background: var(--xr-background-color);\n",
       "  padding-right: 10px;\n",
       "}\n",
       "\n",
       ".xr-attrs dd {\n",
       "  grid-column: 2;\n",
       "  white-space: pre-wrap;\n",
       "  word-break: break-all;\n",
       "}\n",
       "\n",
       ".xr-icon-database,\n",
       ".xr-icon-file-text2,\n",
       ".xr-no-icon {\n",
       "  display: inline-block;\n",
       "  vertical-align: middle;\n",
       "  width: 1em;\n",
       "  height: 1.5em !important;\n",
       "  stroke-width: 0;\n",
       "  stroke: currentColor;\n",
       "  fill: currentColor;\n",
       "}\n",
       "</style><pre class='xr-text-repr-fallback'>&lt;xarray.Dataset&gt;\n",
       "Dimensions:      (_sequence: 8492)\n",
       "Coordinates:\n",
       "  * _sequence    (_sequence) int64 0 1 2 3 4 5 ... 8486 8487 8488 8489 8490 8491\n",
       "Data variables: (12/14)\n",
       "    CRS          (_sequence) object &#x27;LibA.Seq1&#x27; &#x27;LibA.Seq10&#x27; ... &#x27;LibA.Seq9988&#x27;\n",
       "    Seq          (_sequence) object &#x27;aggaccggatcaactgctattgtggaacacataaatttca...\n",
       "    nrepeats     (_sequence) int64 1 1 4 4 4 4 4 4 5 5 5 ... 4 4 4 4 5 4 5 4 6 6\n",
       "    affinitynum  (_sequence) float64 1.0 0.8938 0.25 0.5 ... 0.8938 0.25 0.1\n",
       "    spacer       (_sequence) int64 4 4 4 4 10 20 4 10 ... 10 4 10 20 4 10 20 4\n",
       "    orientation  (_sequence) object &#x27;fwd&#x27; &#x27;rev&#x27; &#x27;rev&#x27; ... &#x27;tandem&#x27; &#x27;tandem&#x27;\n",
       "    ...           ...\n",
       "    State_3E     (_sequence) float64 -0.0473 0.1464 0.3151 ... 0.06312 -0.03689\n",
       "    State_4M     (_sequence) float64 -0.08173 0.1509 nan -0.0874 ... nan nan nan\n",
       "    State_5M     (_sequence) float64 nan nan nan nan nan ... nan nan nan nan nan\n",
       "    State_6N     (_sequence) float64 -0.196 0.1906 nan -0.1387 ... nan nan nan\n",
       "    State_7M     (_sequence) float64 nan nan nan nan nan ... nan nan nan nan nan\n",
       "    seq          (_sequence) object &#x27;AGGACCGGATCAACTGCTATTGTGGAACACATAAATTTCA...</pre><div class='xr-wrap' style='display:none'><div class='xr-header'><div class='xr-obj-type'>xarray.Dataset</div></div><ul class='xr-sections'><li class='xr-section-item'><input id='section-feea0e40-a02a-4fe3-b9aa-a70307f3a7e3' class='xr-section-summary-in' type='checkbox' disabled ><label for='section-feea0e40-a02a-4fe3-b9aa-a70307f3a7e3' class='xr-section-summary'  title='Expand/collapse section'>Dimensions:</label><div class='xr-section-inline-details'><ul class='xr-dim-list'><li><span class='xr-has-index'>_sequence</span>: 8492</li></ul></div><div class='xr-section-details'></div></li><li class='xr-section-item'><input id='section-67ea48ad-eb21-42c6-8666-1f6a456a6683' class='xr-section-summary-in' type='checkbox'  checked><label for='section-67ea48ad-eb21-42c6-8666-1f6a456a6683' class='xr-section-summary' >Coordinates: <span>(1)</span></label><div class='xr-section-inline-details'></div><div class='xr-section-details'><ul class='xr-var-list'><li class='xr-var-item'><div class='xr-var-name'><span class='xr-has-index'>_sequence</span></div><div class='xr-var-dims'>(_sequence)</div><div class='xr-var-dtype'>int64</div><div class='xr-var-preview xr-preview'>0 1 2 3 4 ... 8488 8489 8490 8491</div><input id='attrs-f0b962bf-226e-4c20-befc-82b79086a110' class='xr-var-attrs-in' type='checkbox' disabled><label for='attrs-f0b962bf-226e-4c20-befc-82b79086a110' title='Show/Hide attributes'><svg class='icon xr-icon-file-text2'><use xlink:href='#icon-file-text2'></use></svg></label><input id='data-b2000e09-75ec-42fc-9e0f-708c52e80412' class='xr-var-data-in' type='checkbox'><label for='data-b2000e09-75ec-42fc-9e0f-708c52e80412' title='Show/Hide data repr'><svg class='icon xr-icon-database'><use xlink:href='#icon-database'></use></svg></label><div class='xr-var-attrs'><dl class='xr-attrs'></dl></div><div class='xr-var-data'><pre>array([   0,    1,    2, ..., 8489, 8490, 8491])</pre></div></li></ul></div></li><li class='xr-section-item'><input id='section-9cac3da5-6e7f-43c8-a522-57a0a39da7de' class='xr-section-summary-in' type='checkbox'  checked><label for='section-9cac3da5-6e7f-43c8-a522-57a0a39da7de' class='xr-section-summary' >Data variables: <span>(14)</span></label><div class='xr-section-inline-details'></div><div class='xr-section-details'><ul class='xr-var-list'><li class='xr-var-item'><div class='xr-var-name'><span>CRS</span></div><div class='xr-var-dims'>(_sequence)</div><div class='xr-var-dtype'>object</div><div class='xr-var-preview xr-preview'>&#x27;LibA.Seq1&#x27; ... &#x27;LibA.Seq9988&#x27;</div><input id='attrs-fbfd38ac-695e-46f4-8ab0-0bae50aabcf0' class='xr-var-attrs-in' type='checkbox' disabled><label for='attrs-fbfd38ac-695e-46f4-8ab0-0bae50aabcf0' title='Show/Hide attributes'><svg class='icon xr-icon-file-text2'><use xlink:href='#icon-file-text2'></use></svg></label><input id='data-0f841149-0a92-4c0f-8ba2-73b7d43476fa' class='xr-var-data-in' type='checkbox'><label for='data-0f841149-0a92-4c0f-8ba2-73b7d43476fa' title='Show/Hide data repr'><svg class='icon xr-icon-database'><use xlink:href='#icon-database'></use></svg></label><div class='xr-var-attrs'><dl class='xr-attrs'></dl></div><div class='xr-var-data'><pre>array([&#x27;LibA.Seq1&#x27;, &#x27;LibA.Seq10&#x27;, &#x27;LibA.Seq1000&#x27;, ..., &#x27;LibA.Seq9941&#x27;,\n",
       "       &#x27;LibA.Seq9987&#x27;, &#x27;LibA.Seq9988&#x27;], dtype=object)</pre></div></li><li class='xr-var-item'><div class='xr-var-name'><span>Seq</span></div><div class='xr-var-dims'>(_sequence)</div><div class='xr-var-dtype'>object</div><div class='xr-var-preview xr-preview'>&#x27;aggaccggatcaactgctattgtggaacaca...</div><input id='attrs-313a7eef-3205-493f-ba9e-53b51f399670' class='xr-var-attrs-in' type='checkbox' disabled><label for='attrs-313a7eef-3205-493f-ba9e-53b51f399670' title='Show/Hide attributes'><svg class='icon xr-icon-file-text2'><use xlink:href='#icon-file-text2'></use></svg></label><input id='data-70316f33-65b3-4d30-a821-5ad80603d445' class='xr-var-data-in' type='checkbox'><label for='data-70316f33-65b3-4d30-a821-5ad80603d445' title='Show/Hide data repr'><svg class='icon xr-icon-database'><use xlink:href='#icon-database'></use></svg></label><div class='xr-var-attrs'><dl class='xr-attrs'></dl></div><div class='xr-var-data'><pre>array([&#x27;aggaccggatcaactgctattgtggaacacataaatttcacacaaggtatctccagacctagtctggcatcccggtgtcctactagacctagaaccatattacaacgacctaaattccatcccaagtaaccatggcaggaaaccaggagtaacgaaatctggaccattcgaaaaaaatgaagttgacttttattgctacggttaggttcactacgagggacggcgtataaaggggttacTTGCGCAAcattgcgtgaaccga&#x27;,\n",
       "       &#x27;aggaccggatcaactgaagttattcgcgaccgaatacctttgatcttacccttgaccagtgtaagtgattgcttctctgtgatcatacctcttggcctccacacatagctaaaccggaatcacgttggggtatggtaacgctctcttggggtatgacgaaagagggtgctgttgcccactgttcttaggcaccgcaacttcgtaacccagtcggcttatatgtggaaaccggcggtacgTTGCGCAAcattgcgtgaaccga&#x27;,\n",
       "       &#x27;aggaccggatcaactataaaacaaataagtgtctgctttgggatctacgtccaagcttatttgtctcttagctgcgacaaagatggcacccgggacgttgctatttaatccatccccttcgtaactatctcacaaccacttgtctagaccgcgcgtcataccctcgttagagaaatctattctttctacagCTAATTCCGGCtcgtTAAGTTCCGGTgcaaCAACTTCCAGCacgcCGAGTTCCGGTcattgcgtgaaccga&#x27;,\n",
       "       ...,\n",
       "       &#x27;aggaccggatcaactttgacaattatctcataccacctagctgtcctgttcgagtggcagaagagagcgagcaaatcaggtagaagaacctcagatagctacacgctctaccataatttagcgaacgatcgctgtttcatacgaacaaacggccgtcccctcgtagaaccttatgtgccacGCAGGTGCGagatgtagcaAACACCTGTgctcaccagtACAGGTGTGtgagggttccTACACCTGCcattgcgtgaaccga&#x27;,\n",
       "       &#x27;aggaccggatcaacttagaacgtccccatttagtactcttcgcagcgttgaaaattggtagcgaagtgtgtctaaacgttctagacgccatcaTCACATGTGatgcttgataaacgcgcaaaTCCACTTGGtacttgggcaagacctagttTCACATGTAttcccgtaatcgcataccccTACATATGGactaaaatctaaacgacggtCCAGATATTtctgtagttcagcttaggctAACATCTTCcattgcgtgaaccga&#x27;,\n",
       "       &#x27;aggaccggatcaactcgttagctttttgtatcacaccacgtcggggaaaagtgtccaagcgtaaaccctgaggctataactgattcctacttaaggggtacccaagagaatgaacgcgacaagacgtagggaaactcagttgtagccgtacgttcctttcgggaggatcgtccCAACGTGGAcccaTAGACCTGCaataGCCGCTGATatatAACATCAGAccgcAAACATGTTgctcCAAATCTGGcattgcgtgaaccga&#x27;],\n",
       "      dtype=object)</pre></div></li><li class='xr-var-item'><div class='xr-var-name'><span>nrepeats</span></div><div class='xr-var-dims'>(_sequence)</div><div class='xr-var-dtype'>int64</div><div class='xr-var-preview xr-preview'>1 1 4 4 4 4 4 4 ... 4 4 5 4 5 4 6 6</div><input id='attrs-60e84945-7410-48f2-9dba-12b1c8016a7a' class='xr-var-attrs-in' type='checkbox' disabled><label for='attrs-60e84945-7410-48f2-9dba-12b1c8016a7a' title='Show/Hide attributes'><svg class='icon xr-icon-file-text2'><use xlink:href='#icon-file-text2'></use></svg></label><input id='data-7e11b3ce-a394-41b7-99e8-cd23b26f056f' class='xr-var-data-in' type='checkbox'><label for='data-7e11b3ce-a394-41b7-99e8-cd23b26f056f' title='Show/Hide data repr'><svg class='icon xr-icon-database'><use xlink:href='#icon-database'></use></svg></label><div class='xr-var-attrs'><dl class='xr-attrs'></dl></div><div class='xr-var-data'><pre>array([1, 1, 4, ..., 4, 6, 6])</pre></div></li><li class='xr-var-item'><div class='xr-var-name'><span>affinitynum</span></div><div class='xr-var-dims'>(_sequence)</div><div class='xr-var-dtype'>float64</div><div class='xr-var-preview xr-preview'>1.0 0.8938 0.25 ... 0.8938 0.25 0.1</div><input id='attrs-165b3e49-b37d-4ba4-b372-61381b1e60b6' class='xr-var-attrs-in' type='checkbox' disabled><label for='attrs-165b3e49-b37d-4ba4-b372-61381b1e60b6' title='Show/Hide attributes'><svg class='icon xr-icon-file-text2'><use xlink:href='#icon-file-text2'></use></svg></label><input id='data-a368c1cb-4c0a-473b-a86d-44f82dfa9fb8' class='xr-var-data-in' type='checkbox'><label for='data-a368c1cb-4c0a-473b-a86d-44f82dfa9fb8' title='Show/Hide data repr'><svg class='icon xr-icon-database'><use xlink:href='#icon-database'></use></svg></label><div class='xr-var-attrs'><dl class='xr-attrs'></dl></div><div class='xr-var-data'><pre>array([1.     , 0.89375, 0.25   , ..., 0.89375, 0.25   , 0.1    ])</pre></div></li><li class='xr-var-item'><div class='xr-var-name'><span>spacer</span></div><div class='xr-var-dims'>(_sequence)</div><div class='xr-var-dtype'>int64</div><div class='xr-var-preview xr-preview'>4 4 4 4 10 20 4 ... 10 20 4 10 20 4</div><input id='attrs-dc7706a2-fda5-4506-9e77-8aceb5efc6f1' class='xr-var-attrs-in' type='checkbox' disabled><label for='attrs-dc7706a2-fda5-4506-9e77-8aceb5efc6f1' title='Show/Hide attributes'><svg class='icon xr-icon-file-text2'><use xlink:href='#icon-file-text2'></use></svg></label><input id='data-35cff8d5-d4ce-4e7c-b965-c4168a12ee7e' class='xr-var-data-in' type='checkbox'><label for='data-35cff8d5-d4ce-4e7c-b965-c4168a12ee7e' title='Show/Hide data repr'><svg class='icon xr-icon-database'><use xlink:href='#icon-database'></use></svg></label><div class='xr-var-attrs'><dl class='xr-attrs'></dl></div><div class='xr-var-data'><pre>array([ 4,  4,  4, ..., 10, 20,  4])</pre></div></li><li class='xr-var-item'><div class='xr-var-name'><span>orientation</span></div><div class='xr-var-dims'>(_sequence)</div><div class='xr-var-dtype'>object</div><div class='xr-var-preview xr-preview'>&#x27;fwd&#x27; &#x27;rev&#x27; ... &#x27;tandem&#x27; &#x27;tandem&#x27;</div><input id='attrs-447e7c01-f762-4183-934c-c4e3703bf6ec' class='xr-var-attrs-in' type='checkbox' disabled><label for='attrs-447e7c01-f762-4183-934c-c4e3703bf6ec' title='Show/Hide attributes'><svg class='icon xr-icon-file-text2'><use xlink:href='#icon-file-text2'></use></svg></label><input id='data-d6ba6c3b-35e0-422d-887b-106a618dea82' class='xr-var-data-in' type='checkbox'><label for='data-d6ba6c3b-35e0-422d-887b-106a618dea82' title='Show/Hide data repr'><svg class='icon xr-icon-database'><use xlink:href='#icon-database'></use></svg></label><div class='xr-var-attrs'><dl class='xr-attrs'></dl></div><div class='xr-var-data'><pre>array([&#x27;fwd&#x27;, &#x27;rev&#x27;, &#x27;rev&#x27;, ..., &#x27;tandem&#x27;, &#x27;tandem&#x27;, &#x27;tandem&#x27;],\n",
       "      dtype=object)</pre></div></li><li class='xr-var-item'><div class='xr-var-name'><span>State_1M</span></div><div class='xr-var-dims'>(_sequence)</div><div class='xr-var-dtype'>float64</div><div class='xr-var-preview xr-preview'>-0.0692 0.06022 0.3603 ... nan nan</div><input id='attrs-0d695fd2-698d-4418-a14a-452720f514bd' class='xr-var-attrs-in' type='checkbox' disabled><label for='attrs-0d695fd2-698d-4418-a14a-452720f514bd' title='Show/Hide attributes'><svg class='icon xr-icon-file-text2'><use xlink:href='#icon-file-text2'></use></svg></label><input id='data-6e9b2450-b106-46e0-9946-ddd8ef0e7f49' class='xr-var-data-in' type='checkbox'><label for='data-6e9b2450-b106-46e0-9946-ddd8ef0e7f49' title='Show/Hide data repr'><svg class='icon xr-icon-database'><use xlink:href='#icon-database'></use></svg></label><div class='xr-var-attrs'><dl class='xr-attrs'></dl></div><div class='xr-var-data'><pre>array([-0.06920187,  0.06022057,  0.36033176, ...,         nan,\n",
       "               nan,         nan])</pre></div></li><li class='xr-var-item'><div class='xr-var-name'><span>State_2D</span></div><div class='xr-var-dims'>(_sequence)</div><div class='xr-var-dtype'>float64</div><div class='xr-var-preview xr-preview'>0.02903 0.07247 0.2352 ... nan nan</div><input id='attrs-089c58ed-9691-41d3-8e11-d69f87af95bb' class='xr-var-attrs-in' type='checkbox' disabled><label for='attrs-089c58ed-9691-41d3-8e11-d69f87af95bb' title='Show/Hide attributes'><svg class='icon xr-icon-file-text2'><use xlink:href='#icon-file-text2'></use></svg></label><input id='data-c7f99b71-b815-4f43-8a2c-88b02f234fae' class='xr-var-data-in' type='checkbox'><label for='data-c7f99b71-b815-4f43-8a2c-88b02f234fae' title='Show/Hide data repr'><svg class='icon xr-icon-database'><use xlink:href='#icon-database'></use></svg></label><div class='xr-var-attrs'><dl class='xr-attrs'></dl></div><div class='xr-var-data'><pre>array([0.02903405, 0.07246544, 0.23523552, ...,        nan,        nan,\n",
       "              nan])</pre></div></li><li class='xr-var-item'><div class='xr-var-name'><span>State_3E</span></div><div class='xr-var-dims'>(_sequence)</div><div class='xr-var-dtype'>float64</div><div class='xr-var-preview xr-preview'>-0.0473 0.1464 ... 0.06312 -0.03689</div><input id='attrs-fc074062-7e6f-4649-8815-fefb48767125' class='xr-var-attrs-in' type='checkbox' disabled><label for='attrs-fc074062-7e6f-4649-8815-fefb48767125' title='Show/Hide attributes'><svg class='icon xr-icon-file-text2'><use xlink:href='#icon-file-text2'></use></svg></label><input id='data-e0d4cfad-4dbe-43ec-bff5-ece829221dfc' class='xr-var-data-in' type='checkbox'><label for='data-e0d4cfad-4dbe-43ec-bff5-ece829221dfc' title='Show/Hide data repr'><svg class='icon xr-icon-database'><use xlink:href='#icon-database'></use></svg></label><div class='xr-var-attrs'><dl class='xr-attrs'></dl></div><div class='xr-var-data'><pre>array([-0.04729871,  0.14636431,  0.31507223, ...,  0.19538522,\n",
       "        0.06312395, -0.03689421])</pre></div></li><li class='xr-var-item'><div class='xr-var-name'><span>State_4M</span></div><div class='xr-var-dims'>(_sequence)</div><div class='xr-var-dtype'>float64</div><div class='xr-var-preview xr-preview'>-0.08173 0.1509 nan ... nan nan nan</div><input id='attrs-5507b593-32bc-4942-906d-8fb3f25d24b0' class='xr-var-attrs-in' type='checkbox' disabled><label for='attrs-5507b593-32bc-4942-906d-8fb3f25d24b0' title='Show/Hide attributes'><svg class='icon xr-icon-file-text2'><use xlink:href='#icon-file-text2'></use></svg></label><input id='data-d82aae74-3cfa-457f-8d4c-a12355bbccd1' class='xr-var-data-in' type='checkbox'><label for='data-d82aae74-3cfa-457f-8d4c-a12355bbccd1' title='Show/Hide data repr'><svg class='icon xr-icon-database'><use xlink:href='#icon-database'></use></svg></label><div class='xr-var-attrs'><dl class='xr-attrs'></dl></div><div class='xr-var-data'><pre>array([-0.08172674,  0.1509267 ,         nan, ...,         nan,\n",
       "               nan,         nan])</pre></div></li><li class='xr-var-item'><div class='xr-var-name'><span>State_5M</span></div><div class='xr-var-dims'>(_sequence)</div><div class='xr-var-dtype'>float64</div><div class='xr-var-preview xr-preview'>nan nan nan nan ... nan nan nan nan</div><input id='attrs-d50ecb41-cb21-4b38-a380-fd33fe2f97c1' class='xr-var-attrs-in' type='checkbox' disabled><label for='attrs-d50ecb41-cb21-4b38-a380-fd33fe2f97c1' title='Show/Hide attributes'><svg class='icon xr-icon-file-text2'><use xlink:href='#icon-file-text2'></use></svg></label><input id='data-92363cbd-9cf4-4dd3-b72b-b773f4c05dca' class='xr-var-data-in' type='checkbox'><label for='data-92363cbd-9cf4-4dd3-b72b-b773f4c05dca' title='Show/Hide data repr'><svg class='icon xr-icon-database'><use xlink:href='#icon-database'></use></svg></label><div class='xr-var-attrs'><dl class='xr-attrs'></dl></div><div class='xr-var-data'><pre>array([nan, nan, nan, ..., nan, nan, nan])</pre></div></li><li class='xr-var-item'><div class='xr-var-name'><span>State_6N</span></div><div class='xr-var-dims'>(_sequence)</div><div class='xr-var-dtype'>float64</div><div class='xr-var-preview xr-preview'>-0.196 0.1906 nan ... nan nan nan</div><input id='attrs-4b81c276-27e1-4998-ab87-9573ddb248bb' class='xr-var-attrs-in' type='checkbox' disabled><label for='attrs-4b81c276-27e1-4998-ab87-9573ddb248bb' title='Show/Hide attributes'><svg class='icon xr-icon-file-text2'><use xlink:href='#icon-file-text2'></use></svg></label><input id='data-c652fa6e-f7bc-42aa-b4d6-28a133572d49' class='xr-var-data-in' type='checkbox'><label for='data-c652fa6e-f7bc-42aa-b4d6-28a133572d49' title='Show/Hide data repr'><svg class='icon xr-icon-database'><use xlink:href='#icon-database'></use></svg></label><div class='xr-var-attrs'><dl class='xr-attrs'></dl></div><div class='xr-var-data'><pre>array([-0.19599845,  0.19056242,         nan, ...,         nan,\n",
       "               nan,         nan])</pre></div></li><li class='xr-var-item'><div class='xr-var-name'><span>State_7M</span></div><div class='xr-var-dims'>(_sequence)</div><div class='xr-var-dtype'>float64</div><div class='xr-var-preview xr-preview'>nan nan nan nan ... nan nan nan nan</div><input id='attrs-148a6042-f14d-425b-9409-9e38f8f0b85d' class='xr-var-attrs-in' type='checkbox' disabled><label for='attrs-148a6042-f14d-425b-9409-9e38f8f0b85d' title='Show/Hide attributes'><svg class='icon xr-icon-file-text2'><use xlink:href='#icon-file-text2'></use></svg></label><input id='data-2d67d85f-cc06-41d4-84c0-f71261db7443' class='xr-var-data-in' type='checkbox'><label for='data-2d67d85f-cc06-41d4-84c0-f71261db7443' title='Show/Hide data repr'><svg class='icon xr-icon-database'><use xlink:href='#icon-database'></use></svg></label><div class='xr-var-attrs'><dl class='xr-attrs'></dl></div><div class='xr-var-data'><pre>array([nan, nan, nan, ..., nan, nan, nan])</pre></div></li><li class='xr-var-item'><div class='xr-var-name'><span>seq</span></div><div class='xr-var-dims'>(_sequence)</div><div class='xr-var-dtype'>object</div><div class='xr-var-preview xr-preview'>&#x27;AGGACCGGATCAACTGCTATTGTGGAACACA...</div><input id='attrs-9767b811-7735-4481-8a0f-823f8c9aa6d3' class='xr-var-attrs-in' type='checkbox' disabled><label for='attrs-9767b811-7735-4481-8a0f-823f8c9aa6d3' title='Show/Hide attributes'><svg class='icon xr-icon-file-text2'><use xlink:href='#icon-file-text2'></use></svg></label><input id='data-db3f0ff2-c725-46a3-a1bf-56ba04021c5e' class='xr-var-data-in' type='checkbox'><label for='data-db3f0ff2-c725-46a3-a1bf-56ba04021c5e' title='Show/Hide data repr'><svg class='icon xr-icon-database'><use xlink:href='#icon-database'></use></svg></label><div class='xr-var-attrs'><dl class='xr-attrs'></dl></div><div class='xr-var-data'><pre>array([&#x27;AGGACCGGATCAACTGCTATTGTGGAACACATAAATTTCACACAAGGTATCTCCAGACCTAGTCTGGCATCCCGGTGTCCTACTAGACCTAGAACCATATTACAACGACCTAAATTCCATCCCAAGTAACCATGGCAGGAAACCAGGAGTAACGAAATCTGGACCATTCGAAAAAAATGAAGTTGACTTTTATTGCTACGGTTAGGTTCACTACGAGGGACGGCGTATAAAGGGGTTACTTGCGCAACATTGCGTGAACCGA&#x27;,\n",
       "       &#x27;AGGACCGGATCAACTGAAGTTATTCGCGACCGAATACCTTTGATCTTACCCTTGACCAGTGTAAGTGATTGCTTCTCTGTGATCATACCTCTTGGCCTCCACACATAGCTAAACCGGAATCACGTTGGGGTATGGTAACGCTCTCTTGGGGTATGACGAAAGAGGGTGCTGTTGCCCACTGTTCTTAGGCACCGCAACTTCGTAACCCAGTCGGCTTATATGTGGAAACCGGCGGTACGTTGCGCAACATTGCGTGAACCGA&#x27;,\n",
       "       &#x27;AGGACCGGATCAACTATAAAACAAATAAGTGTCTGCTTTGGGATCTACGTCCAAGCTTATTTGTCTCTTAGCTGCGACAAAGATGGCACCCGGGACGTTGCTATTTAATCCATCCCCTTCGTAACTATCTCACAACCACTTGTCTAGACCGCGCGTCATACCCTCGTTAGAGAAATCTATTCTTTCTACAGCTAATTCCGGCTCGTTAAGTTCCGGTGCAACAACTTCCAGCACGCCGAGTTCCGGTCATTGCGTGAACCGA&#x27;,\n",
       "       ...,\n",
       "       &#x27;AGGACCGGATCAACTTTGACAATTATCTCATACCACCTAGCTGTCCTGTTCGAGTGGCAGAAGAGAGCGAGCAAATCAGGTAGAAGAACCTCAGATAGCTACACGCTCTACCATAATTTAGCGAACGATCGCTGTTTCATACGAACAAACGGCCGTCCCCTCGTAGAACCTTATGTGCCACGCAGGTGCGAGATGTAGCAAACACCTGTGCTCACCAGTACAGGTGTGTGAGGGTTCCTACACCTGCCATTGCGTGAACCGA&#x27;,\n",
       "       &#x27;AGGACCGGATCAACTTAGAACGTCCCCATTTAGTACTCTTCGCAGCGTTGAAAATTGGTAGCGAAGTGTGTCTAAACGTTCTAGACGCCATCATCACATGTGATGCTTGATAAACGCGCAAATCCACTTGGTACTTGGGCAAGACCTAGTTTCACATGTATTCCCGTAATCGCATACCCCTACATATGGACTAAAATCTAAACGACGGTCCAGATATTTCTGTAGTTCAGCTTAGGCTAACATCTTCCATTGCGTGAACCGA&#x27;,\n",
       "       &#x27;AGGACCGGATCAACTCGTTAGCTTTTTGTATCACACCACGTCGGGGAAAAGTGTCCAAGCGTAAACCCTGAGGCTATAACTGATTCCTACTTAAGGGGTACCCAAGAGAATGAACGCGACAAGACGTAGGGAAACTCAGTTGTAGCCGTACGTTCCTTTCGGGAGGATCGTCCCAACGTGGACCCATAGACCTGCAATAGCCGCTGATATATAACATCAGACCGCAAACATGTTGCTCCAAATCTGGCATTGCGTGAACCGA&#x27;],\n",
       "      dtype=object)</pre></div></li></ul></div></li><li class='xr-section-item'><input id='section-31554136-0a38-4176-b206-9a3a5f31bdb6' class='xr-section-summary-in' type='checkbox'  ><label for='section-31554136-0a38-4176-b206-9a3a5f31bdb6' class='xr-section-summary' >Indexes: <span>(1)</span></label><div class='xr-section-inline-details'></div><div class='xr-section-details'><ul class='xr-var-list'><li class='xr-var-item'><div class='xr-index-name'><div>_sequence</div></div><div class='xr-index-preview'>PandasIndex</div><div></div><input id='index-5a272be5-4620-4eb5-a9b5-d56cc52cb51b' class='xr-index-data-in' type='checkbox'/><label for='index-5a272be5-4620-4eb5-a9b5-d56cc52cb51b' title='Show/Hide index repr'><svg class='icon xr-icon-database'><use xlink:href='#icon-database'></use></svg></label><div class='xr-index-data'><pre>PandasIndex(RangeIndex(start=0, stop=8492, step=1, name=&#x27;_sequence&#x27;))</pre></div></li></ul></div></li><li class='xr-section-item'><input id='section-185e2d16-1e58-4f50-be95-ac428c6fa0ea' class='xr-section-summary-in' type='checkbox' disabled ><label for='section-185e2d16-1e58-4f50-be95-ac428c6fa0ea' class='xr-section-summary'  title='Expand/collapse section'>Attributes: <span>(0)</span></label><div class='xr-section-inline-details'></div><div class='xr-section-details'><dl class='xr-attrs'></dl></div></li></ul></div></div>"
      ],
      "text/plain": [
       "<xarray.Dataset>\n",
       "Dimensions:      (_sequence: 8492)\n",
       "Coordinates:\n",
       "  * _sequence    (_sequence) int64 0 1 2 3 4 5 ... 8486 8487 8488 8489 8490 8491\n",
       "Data variables: (12/14)\n",
       "    CRS          (_sequence) object 'LibA.Seq1' 'LibA.Seq10' ... 'LibA.Seq9988'\n",
       "    Seq          (_sequence) object 'aggaccggatcaactgctattgtggaacacataaatttca...\n",
       "    nrepeats     (_sequence) int64 1 1 4 4 4 4 4 4 5 5 5 ... 4 4 4 4 5 4 5 4 6 6\n",
       "    affinitynum  (_sequence) float64 1.0 0.8938 0.25 0.5 ... 0.8938 0.25 0.1\n",
       "    spacer       (_sequence) int64 4 4 4 4 10 20 4 10 ... 10 4 10 20 4 10 20 4\n",
       "    orientation  (_sequence) object 'fwd' 'rev' 'rev' ... 'tandem' 'tandem'\n",
       "    ...           ...\n",
       "    State_3E     (_sequence) float64 -0.0473 0.1464 0.3151 ... 0.06312 -0.03689\n",
       "    State_4M     (_sequence) float64 -0.08173 0.1509 nan -0.0874 ... nan nan nan\n",
       "    State_5M     (_sequence) float64 nan nan nan nan nan ... nan nan nan nan nan\n",
       "    State_6N     (_sequence) float64 -0.196 0.1906 nan -0.1387 ... nan nan nan\n",
       "    State_7M     (_sequence) float64 nan nan nan nan nan ... nan nan nan nan nan\n",
       "    seq          (_sequence) object 'AGGACCGGATCAACTGCTATTGTGGAACACATAAATTTCA..."
      ]
     },
     "execution_count": 8,
     "metadata": {},
     "output_type": "execute_result"
    }
   ],
   "source": [
    "# create xarray from pandas, with dimension named '_sequence\n",
    "sdata = xr.Dataset.from_dataframe(data)\n",
    "sdata = sdata.rename({'index': '_sequence'})\n",
    "sdata"
   ]
  },
  {
   "cell_type": "code",
   "execution_count": 9,
   "metadata": {},
   "outputs": [
    {
     "data": {
      "text/html": [
       "<div><svg style=\"position: absolute; width: 0; height: 0; overflow: hidden\">\n",
       "<defs>\n",
       "<symbol id=\"icon-database\" viewBox=\"0 0 32 32\">\n",
       "<path d=\"M16 0c-8.837 0-16 2.239-16 5v4c0 2.761 7.163 5 16 5s16-2.239 16-5v-4c0-2.761-7.163-5-16-5z\"></path>\n",
       "<path d=\"M16 17c-8.837 0-16-2.239-16-5v6c0 2.761 7.163 5 16 5s16-2.239 16-5v-6c0 2.761-7.163 5-16 5z\"></path>\n",
       "<path d=\"M16 26c-8.837 0-16-2.239-16-5v6c0 2.761 7.163 5 16 5s16-2.239 16-5v-6c0 2.761-7.163 5-16 5z\"></path>\n",
       "</symbol>\n",
       "<symbol id=\"icon-file-text2\" viewBox=\"0 0 32 32\">\n",
       "<path d=\"M28.681 7.159c-0.694-0.947-1.662-2.053-2.724-3.116s-2.169-2.030-3.116-2.724c-1.612-1.182-2.393-1.319-2.841-1.319h-15.5c-1.378 0-2.5 1.121-2.5 2.5v27c0 1.378 1.122 2.5 2.5 2.5h23c1.378 0 2.5-1.122 2.5-2.5v-19.5c0-0.448-0.137-1.23-1.319-2.841zM24.543 5.457c0.959 0.959 1.712 1.825 2.268 2.543h-4.811v-4.811c0.718 0.556 1.584 1.309 2.543 2.268zM28 29.5c0 0.271-0.229 0.5-0.5 0.5h-23c-0.271 0-0.5-0.229-0.5-0.5v-27c0-0.271 0.229-0.5 0.5-0.5 0 0 15.499-0 15.5 0v7c0 0.552 0.448 1 1 1h7v19.5z\"></path>\n",
       "<path d=\"M23 26h-14c-0.552 0-1-0.448-1-1s0.448-1 1-1h14c0.552 0 1 0.448 1 1s-0.448 1-1 1z\"></path>\n",
       "<path d=\"M23 22h-14c-0.552 0-1-0.448-1-1s0.448-1 1-1h14c0.552 0 1 0.448 1 1s-0.448 1-1 1z\"></path>\n",
       "<path d=\"M23 18h-14c-0.552 0-1-0.448-1-1s0.448-1 1-1h14c0.552 0 1 0.448 1 1s-0.448 1-1 1z\"></path>\n",
       "</symbol>\n",
       "</defs>\n",
       "</svg>\n",
       "<style>/* CSS stylesheet for displaying xarray objects in jupyterlab.\n",
       " *\n",
       " */\n",
       "\n",
       ":root {\n",
       "  --xr-font-color0: var(--jp-content-font-color0, rgba(0, 0, 0, 1));\n",
       "  --xr-font-color2: var(--jp-content-font-color2, rgba(0, 0, 0, 0.54));\n",
       "  --xr-font-color3: var(--jp-content-font-color3, rgba(0, 0, 0, 0.38));\n",
       "  --xr-border-color: var(--jp-border-color2, #e0e0e0);\n",
       "  --xr-disabled-color: var(--jp-layout-color3, #bdbdbd);\n",
       "  --xr-background-color: var(--jp-layout-color0, white);\n",
       "  --xr-background-color-row-even: var(--jp-layout-color1, white);\n",
       "  --xr-background-color-row-odd: var(--jp-layout-color2, #eeeeee);\n",
       "}\n",
       "\n",
       "html[theme=dark],\n",
       "body[data-theme=dark],\n",
       "body.vscode-dark {\n",
       "  --xr-font-color0: rgba(255, 255, 255, 1);\n",
       "  --xr-font-color2: rgba(255, 255, 255, 0.54);\n",
       "  --xr-font-color3: rgba(255, 255, 255, 0.38);\n",
       "  --xr-border-color: #1F1F1F;\n",
       "  --xr-disabled-color: #515151;\n",
       "  --xr-background-color: #111111;\n",
       "  --xr-background-color-row-even: #111111;\n",
       "  --xr-background-color-row-odd: #313131;\n",
       "}\n",
       "\n",
       ".xr-wrap {\n",
       "  display: block !important;\n",
       "  min-width: 300px;\n",
       "  max-width: 700px;\n",
       "}\n",
       "\n",
       ".xr-text-repr-fallback {\n",
       "  /* fallback to plain text repr when CSS is not injected (untrusted notebook) */\n",
       "  display: none;\n",
       "}\n",
       "\n",
       ".xr-header {\n",
       "  padding-top: 6px;\n",
       "  padding-bottom: 6px;\n",
       "  margin-bottom: 4px;\n",
       "  border-bottom: solid 1px var(--xr-border-color);\n",
       "}\n",
       "\n",
       ".xr-header > div,\n",
       ".xr-header > ul {\n",
       "  display: inline;\n",
       "  margin-top: 0;\n",
       "  margin-bottom: 0;\n",
       "}\n",
       "\n",
       ".xr-obj-type,\n",
       ".xr-array-name {\n",
       "  margin-left: 2px;\n",
       "  margin-right: 10px;\n",
       "}\n",
       "\n",
       ".xr-obj-type {\n",
       "  color: var(--xr-font-color2);\n",
       "}\n",
       "\n",
       ".xr-sections {\n",
       "  padding-left: 0 !important;\n",
       "  display: grid;\n",
       "  grid-template-columns: 150px auto auto 1fr 20px 20px;\n",
       "}\n",
       "\n",
       ".xr-section-item {\n",
       "  display: contents;\n",
       "}\n",
       "\n",
       ".xr-section-item input {\n",
       "  display: none;\n",
       "}\n",
       "\n",
       ".xr-section-item input + label {\n",
       "  color: var(--xr-disabled-color);\n",
       "}\n",
       "\n",
       ".xr-section-item input:enabled + label {\n",
       "  cursor: pointer;\n",
       "  color: var(--xr-font-color2);\n",
       "}\n",
       "\n",
       ".xr-section-item input:enabled + label:hover {\n",
       "  color: var(--xr-font-color0);\n",
       "}\n",
       "\n",
       ".xr-section-summary {\n",
       "  grid-column: 1;\n",
       "  color: var(--xr-font-color2);\n",
       "  font-weight: 500;\n",
       "}\n",
       "\n",
       ".xr-section-summary > span {\n",
       "  display: inline-block;\n",
       "  padding-left: 0.5em;\n",
       "}\n",
       "\n",
       ".xr-section-summary-in:disabled + label {\n",
       "  color: var(--xr-font-color2);\n",
       "}\n",
       "\n",
       ".xr-section-summary-in + label:before {\n",
       "  display: inline-block;\n",
       "  content: '►';\n",
       "  font-size: 11px;\n",
       "  width: 15px;\n",
       "  text-align: center;\n",
       "}\n",
       "\n",
       ".xr-section-summary-in:disabled + label:before {\n",
       "  color: var(--xr-disabled-color);\n",
       "}\n",
       "\n",
       ".xr-section-summary-in:checked + label:before {\n",
       "  content: '▼';\n",
       "}\n",
       "\n",
       ".xr-section-summary-in:checked + label > span {\n",
       "  display: none;\n",
       "}\n",
       "\n",
       ".xr-section-summary,\n",
       ".xr-section-inline-details {\n",
       "  padding-top: 4px;\n",
       "  padding-bottom: 4px;\n",
       "}\n",
       "\n",
       ".xr-section-inline-details {\n",
       "  grid-column: 2 / -1;\n",
       "}\n",
       "\n",
       ".xr-section-details {\n",
       "  display: none;\n",
       "  grid-column: 1 / -1;\n",
       "  margin-bottom: 5px;\n",
       "}\n",
       "\n",
       ".xr-section-summary-in:checked ~ .xr-section-details {\n",
       "  display: contents;\n",
       "}\n",
       "\n",
       ".xr-array-wrap {\n",
       "  grid-column: 1 / -1;\n",
       "  display: grid;\n",
       "  grid-template-columns: 20px auto;\n",
       "}\n",
       "\n",
       ".xr-array-wrap > label {\n",
       "  grid-column: 1;\n",
       "  vertical-align: top;\n",
       "}\n",
       "\n",
       ".xr-preview {\n",
       "  color: var(--xr-font-color3);\n",
       "}\n",
       "\n",
       ".xr-array-preview,\n",
       ".xr-array-data {\n",
       "  padding: 0 5px !important;\n",
       "  grid-column: 2;\n",
       "}\n",
       "\n",
       ".xr-array-data,\n",
       ".xr-array-in:checked ~ .xr-array-preview {\n",
       "  display: none;\n",
       "}\n",
       "\n",
       ".xr-array-in:checked ~ .xr-array-data,\n",
       ".xr-array-preview {\n",
       "  display: inline-block;\n",
       "}\n",
       "\n",
       ".xr-dim-list {\n",
       "  display: inline-block !important;\n",
       "  list-style: none;\n",
       "  padding: 0 !important;\n",
       "  margin: 0;\n",
       "}\n",
       "\n",
       ".xr-dim-list li {\n",
       "  display: inline-block;\n",
       "  padding: 0;\n",
       "  margin: 0;\n",
       "}\n",
       "\n",
       ".xr-dim-list:before {\n",
       "  content: '(';\n",
       "}\n",
       "\n",
       ".xr-dim-list:after {\n",
       "  content: ')';\n",
       "}\n",
       "\n",
       ".xr-dim-list li:not(:last-child):after {\n",
       "  content: ',';\n",
       "  padding-right: 5px;\n",
       "}\n",
       "\n",
       ".xr-has-index {\n",
       "  font-weight: bold;\n",
       "}\n",
       "\n",
       ".xr-var-list,\n",
       ".xr-var-item {\n",
       "  display: contents;\n",
       "}\n",
       "\n",
       ".xr-var-item > div,\n",
       ".xr-var-item label,\n",
       ".xr-var-item > .xr-var-name span {\n",
       "  background-color: var(--xr-background-color-row-even);\n",
       "  margin-bottom: 0;\n",
       "}\n",
       "\n",
       ".xr-var-item > .xr-var-name:hover span {\n",
       "  padding-right: 5px;\n",
       "}\n",
       "\n",
       ".xr-var-list > li:nth-child(odd) > div,\n",
       ".xr-var-list > li:nth-child(odd) > label,\n",
       ".xr-var-list > li:nth-child(odd) > .xr-var-name span {\n",
       "  background-color: var(--xr-background-color-row-odd);\n",
       "}\n",
       "\n",
       ".xr-var-name {\n",
       "  grid-column: 1;\n",
       "}\n",
       "\n",
       ".xr-var-dims {\n",
       "  grid-column: 2;\n",
       "}\n",
       "\n",
       ".xr-var-dtype {\n",
       "  grid-column: 3;\n",
       "  text-align: right;\n",
       "  color: var(--xr-font-color2);\n",
       "}\n",
       "\n",
       ".xr-var-preview {\n",
       "  grid-column: 4;\n",
       "}\n",
       "\n",
       ".xr-index-preview {\n",
       "  grid-column: 2 / 5;\n",
       "  color: var(--xr-font-color2);\n",
       "}\n",
       "\n",
       ".xr-var-name,\n",
       ".xr-var-dims,\n",
       ".xr-var-dtype,\n",
       ".xr-preview,\n",
       ".xr-attrs dt {\n",
       "  white-space: nowrap;\n",
       "  overflow: hidden;\n",
       "  text-overflow: ellipsis;\n",
       "  padding-right: 10px;\n",
       "}\n",
       "\n",
       ".xr-var-name:hover,\n",
       ".xr-var-dims:hover,\n",
       ".xr-var-dtype:hover,\n",
       ".xr-attrs dt:hover {\n",
       "  overflow: visible;\n",
       "  width: auto;\n",
       "  z-index: 1;\n",
       "}\n",
       "\n",
       ".xr-var-attrs,\n",
       ".xr-var-data,\n",
       ".xr-index-data {\n",
       "  display: none;\n",
       "  background-color: var(--xr-background-color) !important;\n",
       "  padding-bottom: 5px !important;\n",
       "}\n",
       "\n",
       ".xr-var-attrs-in:checked ~ .xr-var-attrs,\n",
       ".xr-var-data-in:checked ~ .xr-var-data,\n",
       ".xr-index-data-in:checked ~ .xr-index-data {\n",
       "  display: block;\n",
       "}\n",
       "\n",
       ".xr-var-data > table {\n",
       "  float: right;\n",
       "}\n",
       "\n",
       ".xr-var-name span,\n",
       ".xr-var-data,\n",
       ".xr-index-name div,\n",
       ".xr-index-data,\n",
       ".xr-attrs {\n",
       "  padding-left: 25px !important;\n",
       "}\n",
       "\n",
       ".xr-attrs,\n",
       ".xr-var-attrs,\n",
       ".xr-var-data,\n",
       ".xr-index-data {\n",
       "  grid-column: 1 / -1;\n",
       "}\n",
       "\n",
       "dl.xr-attrs {\n",
       "  padding: 0;\n",
       "  margin: 0;\n",
       "  display: grid;\n",
       "  grid-template-columns: 125px auto;\n",
       "}\n",
       "\n",
       ".xr-attrs dt,\n",
       ".xr-attrs dd {\n",
       "  padding: 0;\n",
       "  margin: 0;\n",
       "  float: left;\n",
       "  padding-right: 10px;\n",
       "  width: auto;\n",
       "}\n",
       "\n",
       ".xr-attrs dt {\n",
       "  font-weight: normal;\n",
       "  grid-column: 1;\n",
       "}\n",
       "\n",
       ".xr-attrs dt:hover span {\n",
       "  display: inline-block;\n",
       "  background: var(--xr-background-color);\n",
       "  padding-right: 10px;\n",
       "}\n",
       "\n",
       ".xr-attrs dd {\n",
       "  grid-column: 2;\n",
       "  white-space: pre-wrap;\n",
       "  word-break: break-all;\n",
       "}\n",
       "\n",
       ".xr-icon-database,\n",
       ".xr-icon-file-text2,\n",
       ".xr-no-icon {\n",
       "  display: inline-block;\n",
       "  vertical-align: middle;\n",
       "  width: 1em;\n",
       "  height: 1.5em !important;\n",
       "  stroke-width: 0;\n",
       "  stroke: currentColor;\n",
       "  fill: currentColor;\n",
       "}\n",
       "</style><pre class='xr-text-repr-fallback'>&lt;xarray.Dataset&gt;\n",
       "Dimensions:      (_sequence: 8492)\n",
       "Coordinates:\n",
       "  * _sequence    (_sequence) int64 0 1 2 3 4 5 ... 8486 8487 8488 8489 8490 8491\n",
       "Data variables: (12/15)\n",
       "    CRS          (_sequence) object &#x27;LibA.Seq1&#x27; &#x27;LibA.Seq10&#x27; ... &#x27;LibA.Seq9988&#x27;\n",
       "    Seq          (_sequence) object &#x27;aggaccggatcaactgctattgtggaacacataaatttca...\n",
       "    nrepeats     (_sequence) int64 1 1 4 4 4 4 4 4 5 5 5 ... 4 4 4 4 5 4 5 4 6 6\n",
       "    affinitynum  (_sequence) float64 1.0 0.8938 0.25 0.5 ... 0.8938 0.25 0.1\n",
       "    spacer       (_sequence) int64 4 4 4 4 10 20 4 10 ... 10 4 10 20 4 10 20 4\n",
       "    orientation  (_sequence) object &#x27;fwd&#x27; &#x27;rev&#x27; &#x27;rev&#x27; ... &#x27;tandem&#x27; &#x27;tandem&#x27;\n",
       "    ...           ...\n",
       "    State_4M     (_sequence) float64 -0.08173 0.1509 nan -0.0874 ... nan nan nan\n",
       "    State_5M     (_sequence) float64 nan nan nan nan nan ... nan nan nan nan nan\n",
       "    State_6N     (_sequence) float64 -0.196 0.1906 nan -0.1387 ... nan nan nan\n",
       "    State_7M     (_sequence) float64 nan nan nan nan nan ... nan nan nan nan nan\n",
       "    seq          (_sequence) object &#x27;AGGACCGGATCAACTGCTATTGTGGAACACATAAATTTCA...\n",
       "    target       (_sequence) float64 -0.0473 0.1464 0.3151 ... 0.06312 -0.03689</pre><div class='xr-wrap' style='display:none'><div class='xr-header'><div class='xr-obj-type'>xarray.Dataset</div></div><ul class='xr-sections'><li class='xr-section-item'><input id='section-9d1843df-5c8e-4f6d-9690-b875aca259ca' class='xr-section-summary-in' type='checkbox' disabled ><label for='section-9d1843df-5c8e-4f6d-9690-b875aca259ca' class='xr-section-summary'  title='Expand/collapse section'>Dimensions:</label><div class='xr-section-inline-details'><ul class='xr-dim-list'><li><span class='xr-has-index'>_sequence</span>: 8492</li></ul></div><div class='xr-section-details'></div></li><li class='xr-section-item'><input id='section-6c6f1e83-474a-4591-8e63-a64150a16dd0' class='xr-section-summary-in' type='checkbox'  checked><label for='section-6c6f1e83-474a-4591-8e63-a64150a16dd0' class='xr-section-summary' >Coordinates: <span>(1)</span></label><div class='xr-section-inline-details'></div><div class='xr-section-details'><ul class='xr-var-list'><li class='xr-var-item'><div class='xr-var-name'><span class='xr-has-index'>_sequence</span></div><div class='xr-var-dims'>(_sequence)</div><div class='xr-var-dtype'>int64</div><div class='xr-var-preview xr-preview'>0 1 2 3 4 ... 8488 8489 8490 8491</div><input id='attrs-2b7c9154-0635-4a57-98d0-0e4b049f4a99' class='xr-var-attrs-in' type='checkbox' disabled><label for='attrs-2b7c9154-0635-4a57-98d0-0e4b049f4a99' title='Show/Hide attributes'><svg class='icon xr-icon-file-text2'><use xlink:href='#icon-file-text2'></use></svg></label><input id='data-20d5dc82-544c-4791-bc0a-6cc497c6efbf' class='xr-var-data-in' type='checkbox'><label for='data-20d5dc82-544c-4791-bc0a-6cc497c6efbf' title='Show/Hide data repr'><svg class='icon xr-icon-database'><use xlink:href='#icon-database'></use></svg></label><div class='xr-var-attrs'><dl class='xr-attrs'></dl></div><div class='xr-var-data'><pre>array([   0,    1,    2, ..., 8489, 8490, 8491])</pre></div></li></ul></div></li><li class='xr-section-item'><input id='section-edad5ad4-412e-485f-ae22-c0100306e1d4' class='xr-section-summary-in' type='checkbox'  ><label for='section-edad5ad4-412e-485f-ae22-c0100306e1d4' class='xr-section-summary' >Data variables: <span>(15)</span></label><div class='xr-section-inline-details'></div><div class='xr-section-details'><ul class='xr-var-list'><li class='xr-var-item'><div class='xr-var-name'><span>CRS</span></div><div class='xr-var-dims'>(_sequence)</div><div class='xr-var-dtype'>object</div><div class='xr-var-preview xr-preview'>&#x27;LibA.Seq1&#x27; ... &#x27;LibA.Seq9988&#x27;</div><input id='attrs-5b7f1da9-7e62-49d3-8873-52ab461748ab' class='xr-var-attrs-in' type='checkbox' disabled><label for='attrs-5b7f1da9-7e62-49d3-8873-52ab461748ab' title='Show/Hide attributes'><svg class='icon xr-icon-file-text2'><use xlink:href='#icon-file-text2'></use></svg></label><input id='data-186fa5ab-99dd-494f-9a31-48e2aa05e06f' class='xr-var-data-in' type='checkbox'><label for='data-186fa5ab-99dd-494f-9a31-48e2aa05e06f' title='Show/Hide data repr'><svg class='icon xr-icon-database'><use xlink:href='#icon-database'></use></svg></label><div class='xr-var-attrs'><dl class='xr-attrs'></dl></div><div class='xr-var-data'><pre>array([&#x27;LibA.Seq1&#x27;, &#x27;LibA.Seq10&#x27;, &#x27;LibA.Seq1000&#x27;, ..., &#x27;LibA.Seq9941&#x27;,\n",
       "       &#x27;LibA.Seq9987&#x27;, &#x27;LibA.Seq9988&#x27;], dtype=object)</pre></div></li><li class='xr-var-item'><div class='xr-var-name'><span>Seq</span></div><div class='xr-var-dims'>(_sequence)</div><div class='xr-var-dtype'>object</div><div class='xr-var-preview xr-preview'>&#x27;aggaccggatcaactgctattgtggaacaca...</div><input id='attrs-22e359ce-3cfa-4523-aa2a-962b05d46169' class='xr-var-attrs-in' type='checkbox' disabled><label for='attrs-22e359ce-3cfa-4523-aa2a-962b05d46169' title='Show/Hide attributes'><svg class='icon xr-icon-file-text2'><use xlink:href='#icon-file-text2'></use></svg></label><input id='data-ecdbe74f-3e7e-4dbe-96e9-94596dd4a1d2' class='xr-var-data-in' type='checkbox'><label for='data-ecdbe74f-3e7e-4dbe-96e9-94596dd4a1d2' title='Show/Hide data repr'><svg class='icon xr-icon-database'><use xlink:href='#icon-database'></use></svg></label><div class='xr-var-attrs'><dl class='xr-attrs'></dl></div><div class='xr-var-data'><pre>array([&#x27;aggaccggatcaactgctattgtggaacacataaatttcacacaaggtatctccagacctagtctggcatcccggtgtcctactagacctagaaccatattacaacgacctaaattccatcccaagtaaccatggcaggaaaccaggagtaacgaaatctggaccattcgaaaaaaatgaagttgacttttattgctacggttaggttcactacgagggacggcgtataaaggggttacTTGCGCAAcattgcgtgaaccga&#x27;,\n",
       "       &#x27;aggaccggatcaactgaagttattcgcgaccgaatacctttgatcttacccttgaccagtgtaagtgattgcttctctgtgatcatacctcttggcctccacacatagctaaaccggaatcacgttggggtatggtaacgctctcttggggtatgacgaaagagggtgctgttgcccactgttcttaggcaccgcaacttcgtaacccagtcggcttatatgtggaaaccggcggtacgTTGCGCAAcattgcgtgaaccga&#x27;,\n",
       "       &#x27;aggaccggatcaactataaaacaaataagtgtctgctttgggatctacgtccaagcttatttgtctcttagctgcgacaaagatggcacccgggacgttgctatttaatccatccccttcgtaactatctcacaaccacttgtctagaccgcgcgtcataccctcgttagagaaatctattctttctacagCTAATTCCGGCtcgtTAAGTTCCGGTgcaaCAACTTCCAGCacgcCGAGTTCCGGTcattgcgtgaaccga&#x27;,\n",
       "       ...,\n",
       "       &#x27;aggaccggatcaactttgacaattatctcataccacctagctgtcctgttcgagtggcagaagagagcgagcaaatcaggtagaagaacctcagatagctacacgctctaccataatttagcgaacgatcgctgtttcatacgaacaaacggccgtcccctcgtagaaccttatgtgccacGCAGGTGCGagatgtagcaAACACCTGTgctcaccagtACAGGTGTGtgagggttccTACACCTGCcattgcgtgaaccga&#x27;,\n",
       "       &#x27;aggaccggatcaacttagaacgtccccatttagtactcttcgcagcgttgaaaattggtagcgaagtgtgtctaaacgttctagacgccatcaTCACATGTGatgcttgataaacgcgcaaaTCCACTTGGtacttgggcaagacctagttTCACATGTAttcccgtaatcgcataccccTACATATGGactaaaatctaaacgacggtCCAGATATTtctgtagttcagcttaggctAACATCTTCcattgcgtgaaccga&#x27;,\n",
       "       &#x27;aggaccggatcaactcgttagctttttgtatcacaccacgtcggggaaaagtgtccaagcgtaaaccctgaggctataactgattcctacttaaggggtacccaagagaatgaacgcgacaagacgtagggaaactcagttgtagccgtacgttcctttcgggaggatcgtccCAACGTGGAcccaTAGACCTGCaataGCCGCTGATatatAACATCAGAccgcAAACATGTTgctcCAAATCTGGcattgcgtgaaccga&#x27;],\n",
       "      dtype=object)</pre></div></li><li class='xr-var-item'><div class='xr-var-name'><span>nrepeats</span></div><div class='xr-var-dims'>(_sequence)</div><div class='xr-var-dtype'>int64</div><div class='xr-var-preview xr-preview'>1 1 4 4 4 4 4 4 ... 4 4 5 4 5 4 6 6</div><input id='attrs-7f076e49-a50c-4297-a53b-a153e734c142' class='xr-var-attrs-in' type='checkbox' disabled><label for='attrs-7f076e49-a50c-4297-a53b-a153e734c142' title='Show/Hide attributes'><svg class='icon xr-icon-file-text2'><use xlink:href='#icon-file-text2'></use></svg></label><input id='data-3bada513-c991-4e10-9374-468de98770fa' class='xr-var-data-in' type='checkbox'><label for='data-3bada513-c991-4e10-9374-468de98770fa' title='Show/Hide data repr'><svg class='icon xr-icon-database'><use xlink:href='#icon-database'></use></svg></label><div class='xr-var-attrs'><dl class='xr-attrs'></dl></div><div class='xr-var-data'><pre>array([1, 1, 4, ..., 4, 6, 6])</pre></div></li><li class='xr-var-item'><div class='xr-var-name'><span>affinitynum</span></div><div class='xr-var-dims'>(_sequence)</div><div class='xr-var-dtype'>float64</div><div class='xr-var-preview xr-preview'>1.0 0.8938 0.25 ... 0.8938 0.25 0.1</div><input id='attrs-10b68244-96ab-4e85-8d48-cb26dc67024d' class='xr-var-attrs-in' type='checkbox' disabled><label for='attrs-10b68244-96ab-4e85-8d48-cb26dc67024d' title='Show/Hide attributes'><svg class='icon xr-icon-file-text2'><use xlink:href='#icon-file-text2'></use></svg></label><input id='data-5b9910b3-5c1d-4d61-ad77-9cc4b495e9cc' class='xr-var-data-in' type='checkbox'><label for='data-5b9910b3-5c1d-4d61-ad77-9cc4b495e9cc' title='Show/Hide data repr'><svg class='icon xr-icon-database'><use xlink:href='#icon-database'></use></svg></label><div class='xr-var-attrs'><dl class='xr-attrs'></dl></div><div class='xr-var-data'><pre>array([1.     , 0.89375, 0.25   , ..., 0.89375, 0.25   , 0.1    ])</pre></div></li><li class='xr-var-item'><div class='xr-var-name'><span>spacer</span></div><div class='xr-var-dims'>(_sequence)</div><div class='xr-var-dtype'>int64</div><div class='xr-var-preview xr-preview'>4 4 4 4 10 20 4 ... 10 20 4 10 20 4</div><input id='attrs-62a79ebe-b21b-4791-965d-d8bdf34ff4e5' class='xr-var-attrs-in' type='checkbox' disabled><label for='attrs-62a79ebe-b21b-4791-965d-d8bdf34ff4e5' title='Show/Hide attributes'><svg class='icon xr-icon-file-text2'><use xlink:href='#icon-file-text2'></use></svg></label><input id='data-b7e891ba-e8f6-4250-8e71-a5c2d05b137c' class='xr-var-data-in' type='checkbox'><label for='data-b7e891ba-e8f6-4250-8e71-a5c2d05b137c' title='Show/Hide data repr'><svg class='icon xr-icon-database'><use xlink:href='#icon-database'></use></svg></label><div class='xr-var-attrs'><dl class='xr-attrs'></dl></div><div class='xr-var-data'><pre>array([ 4,  4,  4, ..., 10, 20,  4])</pre></div></li><li class='xr-var-item'><div class='xr-var-name'><span>orientation</span></div><div class='xr-var-dims'>(_sequence)</div><div class='xr-var-dtype'>object</div><div class='xr-var-preview xr-preview'>&#x27;fwd&#x27; &#x27;rev&#x27; ... &#x27;tandem&#x27; &#x27;tandem&#x27;</div><input id='attrs-0c3d89c8-6341-4a65-a6ce-34241c3b3fd5' class='xr-var-attrs-in' type='checkbox' disabled><label for='attrs-0c3d89c8-6341-4a65-a6ce-34241c3b3fd5' title='Show/Hide attributes'><svg class='icon xr-icon-file-text2'><use xlink:href='#icon-file-text2'></use></svg></label><input id='data-1c628544-b05b-4a01-8fac-beef038b9b2a' class='xr-var-data-in' type='checkbox'><label for='data-1c628544-b05b-4a01-8fac-beef038b9b2a' title='Show/Hide data repr'><svg class='icon xr-icon-database'><use xlink:href='#icon-database'></use></svg></label><div class='xr-var-attrs'><dl class='xr-attrs'></dl></div><div class='xr-var-data'><pre>array([&#x27;fwd&#x27;, &#x27;rev&#x27;, &#x27;rev&#x27;, ..., &#x27;tandem&#x27;, &#x27;tandem&#x27;, &#x27;tandem&#x27;],\n",
       "      dtype=object)</pre></div></li><li class='xr-var-item'><div class='xr-var-name'><span>State_1M</span></div><div class='xr-var-dims'>(_sequence)</div><div class='xr-var-dtype'>float64</div><div class='xr-var-preview xr-preview'>-0.0692 0.06022 0.3603 ... nan nan</div><input id='attrs-a648a850-f5c3-4fdd-8441-6f11d46ed646' class='xr-var-attrs-in' type='checkbox' disabled><label for='attrs-a648a850-f5c3-4fdd-8441-6f11d46ed646' title='Show/Hide attributes'><svg class='icon xr-icon-file-text2'><use xlink:href='#icon-file-text2'></use></svg></label><input id='data-35a6243d-a6d6-4b85-ac11-dd95a980c38a' class='xr-var-data-in' type='checkbox'><label for='data-35a6243d-a6d6-4b85-ac11-dd95a980c38a' title='Show/Hide data repr'><svg class='icon xr-icon-database'><use xlink:href='#icon-database'></use></svg></label><div class='xr-var-attrs'><dl class='xr-attrs'></dl></div><div class='xr-var-data'><pre>array([-0.06920187,  0.06022057,  0.36033176, ...,         nan,\n",
       "               nan,         nan])</pre></div></li><li class='xr-var-item'><div class='xr-var-name'><span>State_2D</span></div><div class='xr-var-dims'>(_sequence)</div><div class='xr-var-dtype'>float64</div><div class='xr-var-preview xr-preview'>0.02903 0.07247 0.2352 ... nan nan</div><input id='attrs-97eb76a5-d532-4d9c-b35f-9cf926d0f215' class='xr-var-attrs-in' type='checkbox' disabled><label for='attrs-97eb76a5-d532-4d9c-b35f-9cf926d0f215' title='Show/Hide attributes'><svg class='icon xr-icon-file-text2'><use xlink:href='#icon-file-text2'></use></svg></label><input id='data-e1ba61f8-6aaf-4161-915c-0c02e0367736' class='xr-var-data-in' type='checkbox'><label for='data-e1ba61f8-6aaf-4161-915c-0c02e0367736' title='Show/Hide data repr'><svg class='icon xr-icon-database'><use xlink:href='#icon-database'></use></svg></label><div class='xr-var-attrs'><dl class='xr-attrs'></dl></div><div class='xr-var-data'><pre>array([0.02903405, 0.07246544, 0.23523552, ...,        nan,        nan,\n",
       "              nan])</pre></div></li><li class='xr-var-item'><div class='xr-var-name'><span>State_3E</span></div><div class='xr-var-dims'>(_sequence)</div><div class='xr-var-dtype'>float64</div><div class='xr-var-preview xr-preview'>-0.0473 0.1464 ... 0.06312 -0.03689</div><input id='attrs-bc50cf18-8db4-4a0e-af36-ce58d102985e' class='xr-var-attrs-in' type='checkbox' disabled><label for='attrs-bc50cf18-8db4-4a0e-af36-ce58d102985e' title='Show/Hide attributes'><svg class='icon xr-icon-file-text2'><use xlink:href='#icon-file-text2'></use></svg></label><input id='data-2d078286-dc6a-4b95-9903-cb55d1f823fc' class='xr-var-data-in' type='checkbox'><label for='data-2d078286-dc6a-4b95-9903-cb55d1f823fc' title='Show/Hide data repr'><svg class='icon xr-icon-database'><use xlink:href='#icon-database'></use></svg></label><div class='xr-var-attrs'><dl class='xr-attrs'></dl></div><div class='xr-var-data'><pre>array([-0.04729871,  0.14636431,  0.31507223, ...,  0.19538522,\n",
       "        0.06312395, -0.03689421])</pre></div></li><li class='xr-var-item'><div class='xr-var-name'><span>State_4M</span></div><div class='xr-var-dims'>(_sequence)</div><div class='xr-var-dtype'>float64</div><div class='xr-var-preview xr-preview'>-0.08173 0.1509 nan ... nan nan nan</div><input id='attrs-c16f1ebf-cc6b-4533-92ca-181fdc0a25d8' class='xr-var-attrs-in' type='checkbox' disabled><label for='attrs-c16f1ebf-cc6b-4533-92ca-181fdc0a25d8' title='Show/Hide attributes'><svg class='icon xr-icon-file-text2'><use xlink:href='#icon-file-text2'></use></svg></label><input id='data-f8bde7d1-5ae2-49db-86c0-57e8424028e1' class='xr-var-data-in' type='checkbox'><label for='data-f8bde7d1-5ae2-49db-86c0-57e8424028e1' title='Show/Hide data repr'><svg class='icon xr-icon-database'><use xlink:href='#icon-database'></use></svg></label><div class='xr-var-attrs'><dl class='xr-attrs'></dl></div><div class='xr-var-data'><pre>array([-0.08172674,  0.1509267 ,         nan, ...,         nan,\n",
       "               nan,         nan])</pre></div></li><li class='xr-var-item'><div class='xr-var-name'><span>State_5M</span></div><div class='xr-var-dims'>(_sequence)</div><div class='xr-var-dtype'>float64</div><div class='xr-var-preview xr-preview'>nan nan nan nan ... nan nan nan nan</div><input id='attrs-99402385-efad-4810-b441-c886b5e67539' class='xr-var-attrs-in' type='checkbox' disabled><label for='attrs-99402385-efad-4810-b441-c886b5e67539' title='Show/Hide attributes'><svg class='icon xr-icon-file-text2'><use xlink:href='#icon-file-text2'></use></svg></label><input id='data-9a54f728-bae1-47c4-b810-271625847cac' class='xr-var-data-in' type='checkbox'><label for='data-9a54f728-bae1-47c4-b810-271625847cac' title='Show/Hide data repr'><svg class='icon xr-icon-database'><use xlink:href='#icon-database'></use></svg></label><div class='xr-var-attrs'><dl class='xr-attrs'></dl></div><div class='xr-var-data'><pre>array([nan, nan, nan, ..., nan, nan, nan])</pre></div></li><li class='xr-var-item'><div class='xr-var-name'><span>State_6N</span></div><div class='xr-var-dims'>(_sequence)</div><div class='xr-var-dtype'>float64</div><div class='xr-var-preview xr-preview'>-0.196 0.1906 nan ... nan nan nan</div><input id='attrs-a72064da-5a76-424e-b911-72061168091f' class='xr-var-attrs-in' type='checkbox' disabled><label for='attrs-a72064da-5a76-424e-b911-72061168091f' title='Show/Hide attributes'><svg class='icon xr-icon-file-text2'><use xlink:href='#icon-file-text2'></use></svg></label><input id='data-31811436-8cdf-4511-afbc-8e1cc1d766af' class='xr-var-data-in' type='checkbox'><label for='data-31811436-8cdf-4511-afbc-8e1cc1d766af' title='Show/Hide data repr'><svg class='icon xr-icon-database'><use xlink:href='#icon-database'></use></svg></label><div class='xr-var-attrs'><dl class='xr-attrs'></dl></div><div class='xr-var-data'><pre>array([-0.19599845,  0.19056242,         nan, ...,         nan,\n",
       "               nan,         nan])</pre></div></li><li class='xr-var-item'><div class='xr-var-name'><span>State_7M</span></div><div class='xr-var-dims'>(_sequence)</div><div class='xr-var-dtype'>float64</div><div class='xr-var-preview xr-preview'>nan nan nan nan ... nan nan nan nan</div><input id='attrs-5d5b3f80-96fb-4ffc-a014-a14d9a5c1e09' class='xr-var-attrs-in' type='checkbox' disabled><label for='attrs-5d5b3f80-96fb-4ffc-a014-a14d9a5c1e09' title='Show/Hide attributes'><svg class='icon xr-icon-file-text2'><use xlink:href='#icon-file-text2'></use></svg></label><input id='data-5b838727-9287-4ae3-83a1-8ff9b4d8f0c0' class='xr-var-data-in' type='checkbox'><label for='data-5b838727-9287-4ae3-83a1-8ff9b4d8f0c0' title='Show/Hide data repr'><svg class='icon xr-icon-database'><use xlink:href='#icon-database'></use></svg></label><div class='xr-var-attrs'><dl class='xr-attrs'></dl></div><div class='xr-var-data'><pre>array([nan, nan, nan, ..., nan, nan, nan])</pre></div></li><li class='xr-var-item'><div class='xr-var-name'><span>seq</span></div><div class='xr-var-dims'>(_sequence)</div><div class='xr-var-dtype'>object</div><div class='xr-var-preview xr-preview'>&#x27;AGGACCGGATCAACTGCTATTGTGGAACACA...</div><input id='attrs-a62007a4-ba65-451c-87f6-e4e21f3c4459' class='xr-var-attrs-in' type='checkbox' disabled><label for='attrs-a62007a4-ba65-451c-87f6-e4e21f3c4459' title='Show/Hide attributes'><svg class='icon xr-icon-file-text2'><use xlink:href='#icon-file-text2'></use></svg></label><input id='data-343bb4b9-57db-4b19-9d91-94d389e6cb22' class='xr-var-data-in' type='checkbox'><label for='data-343bb4b9-57db-4b19-9d91-94d389e6cb22' title='Show/Hide data repr'><svg class='icon xr-icon-database'><use xlink:href='#icon-database'></use></svg></label><div class='xr-var-attrs'><dl class='xr-attrs'></dl></div><div class='xr-var-data'><pre>array([&#x27;AGGACCGGATCAACTGCTATTGTGGAACACATAAATTTCACACAAGGTATCTCCAGACCTAGTCTGGCATCCCGGTGTCCTACTAGACCTAGAACCATATTACAACGACCTAAATTCCATCCCAAGTAACCATGGCAGGAAACCAGGAGTAACGAAATCTGGACCATTCGAAAAAAATGAAGTTGACTTTTATTGCTACGGTTAGGTTCACTACGAGGGACGGCGTATAAAGGGGTTACTTGCGCAACATTGCGTGAACCGA&#x27;,\n",
       "       &#x27;AGGACCGGATCAACTGAAGTTATTCGCGACCGAATACCTTTGATCTTACCCTTGACCAGTGTAAGTGATTGCTTCTCTGTGATCATACCTCTTGGCCTCCACACATAGCTAAACCGGAATCACGTTGGGGTATGGTAACGCTCTCTTGGGGTATGACGAAAGAGGGTGCTGTTGCCCACTGTTCTTAGGCACCGCAACTTCGTAACCCAGTCGGCTTATATGTGGAAACCGGCGGTACGTTGCGCAACATTGCGTGAACCGA&#x27;,\n",
       "       &#x27;AGGACCGGATCAACTATAAAACAAATAAGTGTCTGCTTTGGGATCTACGTCCAAGCTTATTTGTCTCTTAGCTGCGACAAAGATGGCACCCGGGACGTTGCTATTTAATCCATCCCCTTCGTAACTATCTCACAACCACTTGTCTAGACCGCGCGTCATACCCTCGTTAGAGAAATCTATTCTTTCTACAGCTAATTCCGGCTCGTTAAGTTCCGGTGCAACAACTTCCAGCACGCCGAGTTCCGGTCATTGCGTGAACCGA&#x27;,\n",
       "       ...,\n",
       "       &#x27;AGGACCGGATCAACTTTGACAATTATCTCATACCACCTAGCTGTCCTGTTCGAGTGGCAGAAGAGAGCGAGCAAATCAGGTAGAAGAACCTCAGATAGCTACACGCTCTACCATAATTTAGCGAACGATCGCTGTTTCATACGAACAAACGGCCGTCCCCTCGTAGAACCTTATGTGCCACGCAGGTGCGAGATGTAGCAAACACCTGTGCTCACCAGTACAGGTGTGTGAGGGTTCCTACACCTGCCATTGCGTGAACCGA&#x27;,\n",
       "       &#x27;AGGACCGGATCAACTTAGAACGTCCCCATTTAGTACTCTTCGCAGCGTTGAAAATTGGTAGCGAAGTGTGTCTAAACGTTCTAGACGCCATCATCACATGTGATGCTTGATAAACGCGCAAATCCACTTGGTACTTGGGCAAGACCTAGTTTCACATGTATTCCCGTAATCGCATACCCCTACATATGGACTAAAATCTAAACGACGGTCCAGATATTTCTGTAGTTCAGCTTAGGCTAACATCTTCCATTGCGTGAACCGA&#x27;,\n",
       "       &#x27;AGGACCGGATCAACTCGTTAGCTTTTTGTATCACACCACGTCGGGGAAAAGTGTCCAAGCGTAAACCCTGAGGCTATAACTGATTCCTACTTAAGGGGTACCCAAGAGAATGAACGCGACAAGACGTAGGGAAACTCAGTTGTAGCCGTACGTTCCTTTCGGGAGGATCGTCCCAACGTGGACCCATAGACCTGCAATAGCCGCTGATATATAACATCAGACCGCAAACATGTTGCTCCAAATCTGGCATTGCGTGAACCGA&#x27;],\n",
       "      dtype=object)</pre></div></li><li class='xr-var-item'><div class='xr-var-name'><span>target</span></div><div class='xr-var-dims'>(_sequence)</div><div class='xr-var-dtype'>float64</div><div class='xr-var-preview xr-preview'>-0.0473 0.1464 ... 0.06312 -0.03689</div><input id='attrs-087f5267-be58-4104-bb64-3c6261445612' class='xr-var-attrs-in' type='checkbox' disabled><label for='attrs-087f5267-be58-4104-bb64-3c6261445612' title='Show/Hide attributes'><svg class='icon xr-icon-file-text2'><use xlink:href='#icon-file-text2'></use></svg></label><input id='data-4959adf9-1880-4bdd-b671-dbccd8dea7e3' class='xr-var-data-in' type='checkbox'><label for='data-4959adf9-1880-4bdd-b671-dbccd8dea7e3' title='Show/Hide data repr'><svg class='icon xr-icon-database'><use xlink:href='#icon-database'></use></svg></label><div class='xr-var-attrs'><dl class='xr-attrs'></dl></div><div class='xr-var-data'><pre>array([-0.04729871,  0.14636431,  0.31507223, ...,  0.19538522,\n",
       "        0.06312395, -0.03689421])</pre></div></li></ul></div></li><li class='xr-section-item'><input id='section-36f15f55-aff8-4d35-8a73-4d5f8d7506a3' class='xr-section-summary-in' type='checkbox'  ><label for='section-36f15f55-aff8-4d35-8a73-4d5f8d7506a3' class='xr-section-summary' >Indexes: <span>(1)</span></label><div class='xr-section-inline-details'></div><div class='xr-section-details'><ul class='xr-var-list'><li class='xr-var-item'><div class='xr-index-name'><div>_sequence</div></div><div class='xr-index-preview'>PandasIndex</div><div></div><input id='index-ef1d2679-a274-44cd-ad71-2a5bc25513ab' class='xr-index-data-in' type='checkbox'/><label for='index-ef1d2679-a274-44cd-ad71-2a5bc25513ab' title='Show/Hide index repr'><svg class='icon xr-icon-database'><use xlink:href='#icon-database'></use></svg></label><div class='xr-index-data'><pre>PandasIndex(RangeIndex(start=0, stop=8492, step=1, name=&#x27;_sequence&#x27;))</pre></div></li></ul></div></li><li class='xr-section-item'><input id='section-3321e735-f240-45da-8510-2966dfa9e7fd' class='xr-section-summary-in' type='checkbox' disabled ><label for='section-3321e735-f240-45da-8510-2966dfa9e7fd' class='xr-section-summary'  title='Expand/collapse section'>Attributes: <span>(0)</span></label><div class='xr-section-inline-details'></div><div class='xr-section-details'><dl class='xr-attrs'></dl></div></li></ul></div></div>"
      ],
      "text/plain": [
       "<xarray.Dataset>\n",
       "Dimensions:      (_sequence: 8492)\n",
       "Coordinates:\n",
       "  * _sequence    (_sequence) int64 0 1 2 3 4 5 ... 8486 8487 8488 8489 8490 8491\n",
       "Data variables: (12/15)\n",
       "    CRS          (_sequence) object 'LibA.Seq1' 'LibA.Seq10' ... 'LibA.Seq9988'\n",
       "    Seq          (_sequence) object 'aggaccggatcaactgctattgtggaacacataaatttca...\n",
       "    nrepeats     (_sequence) int64 1 1 4 4 4 4 4 4 5 5 5 ... 4 4 4 4 5 4 5 4 6 6\n",
       "    affinitynum  (_sequence) float64 1.0 0.8938 0.25 0.5 ... 0.8938 0.25 0.1\n",
       "    spacer       (_sequence) int64 4 4 4 4 10 20 4 10 ... 10 4 10 20 4 10 20 4\n",
       "    orientation  (_sequence) object 'fwd' 'rev' 'rev' ... 'tandem' 'tandem'\n",
       "    ...           ...\n",
       "    State_4M     (_sequence) float64 -0.08173 0.1509 nan -0.0874 ... nan nan nan\n",
       "    State_5M     (_sequence) float64 nan nan nan nan nan ... nan nan nan nan nan\n",
       "    State_6N     (_sequence) float64 -0.196 0.1906 nan -0.1387 ... nan nan nan\n",
       "    State_7M     (_sequence) float64 nan nan nan nan nan ... nan nan nan nan nan\n",
       "    seq          (_sequence) object 'AGGACCGGATCAACTGCTATTGTGGAACACATAAATTTCA...\n",
       "    target       (_sequence) float64 -0.0473 0.1464 0.3151 ... 0.06312 -0.03689"
      ]
     },
     "execution_count": 9,
     "metadata": {},
     "output_type": "execute_result"
    }
   ],
   "source": [
    "# Create a single target variable to predict\n",
    "sdata[\"target\"] = sdata[\"State_3E\"]\n",
    "sdata"
   ]
  },
  {
   "cell_type": "code",
   "execution_count": 10,
   "metadata": {},
   "outputs": [],
   "source": [
    "# Ohe\n",
    "sdata[\"ohe_seq\"] = xr.DataArray(sp.ohe(sdata[\"seq\"].values, alphabet=sp.DNA), dims=[\"_sequence\", \"_length\", \"_alphabet\"]).transpose(\"_sequence\", \"_alphabet\", \"_length\")"
   ]
  },
  {
   "cell_type": "code",
   "execution_count": 11,
   "metadata": {},
   "outputs": [],
   "source": [
    "# Grab some test seqs\n",
    "test_seqs = torch.tensor(sdata[\"ohe_seq\"][:10].values, dtype=torch.float32)\n",
    "test_dict = {\"ohe_seq\": test_seqs}"
   ]
  },
  {
   "cell_type": "markdown",
   "metadata": {},
   "source": [
    "# Architecture"
   ]
  },
  {
   "cell_type": "code",
   "execution_count": 12,
   "metadata": {},
   "outputs": [],
   "source": [
    "from ResidualBind import ResidualBind\n",
    "from eugene.models import zoo"
   ]
  },
  {
   "cell_type": "code",
   "execution_count": 13,
   "metadata": {},
   "outputs": [
    {
     "data": {
      "text/plain": [
       "(ResidualBind(\n",
       "   (conv1d_tower): Conv1DTower(\n",
       "     (layers): Sequential(\n",
       "       (0): Conv1d(4, 96, kernel_size=(11,), stride=(1,), padding=valid)\n",
       "       (1): BatchNorm1d(96, eps=1e-05, momentum=0.1, affine=True, track_running_stats=True)\n",
       "       (2): ReLU()\n",
       "       (3): Dropout(p=0.1, inplace=False)\n",
       "     )\n",
       "   )\n",
       "   (residual_block): Residual(\n",
       "     (wrapped): Conv1DTower(\n",
       "       (layers): Sequential(\n",
       "         (0): Conv1d(96, 96, kernel_size=(3,), stride=(1,), padding=same)\n",
       "         (1): BatchNorm1d(96, eps=1e-05, momentum=0.1, affine=True, track_running_stats=True)\n",
       "         (2): ReLU()\n",
       "         (3): Dropout(p=0.1, inplace=False)\n",
       "         (4): Conv1d(96, 96, kernel_size=(3,), stride=(1,), padding=same, dilation=(2,))\n",
       "         (5): BatchNorm1d(96, eps=1e-05, momentum=0.1, affine=True, track_running_stats=True)\n",
       "         (6): ReLU()\n",
       "         (7): Dropout(p=0.1, inplace=False)\n",
       "         (8): Conv1d(96, 96, kernel_size=(3,), stride=(1,), padding=same, dilation=(4,))\n",
       "         (9): BatchNorm1d(96, eps=1e-05, momentum=0.1, affine=True, track_running_stats=True)\n",
       "         (10): ReLU()\n",
       "         (11): Dropout(p=0.1, inplace=False)\n",
       "       )\n",
       "     )\n",
       "   )\n",
       "   (average_pool): AvgPool1d(kernel_size=(10,), stride=(1,), padding=(0,))\n",
       "   (dropout): Dropout(p=0.2, inplace=False)\n",
       "   (flatten): Flatten(start_dim=1, end_dim=-1)\n",
       "   (dense_block): DenseBlock(\n",
       "     (layers): Sequential(\n",
       "       (0): Linear(in_features=23328, out_features=256, bias=False)\n",
       "       (1): BatchNorm1d(256, eps=1e-05, momentum=0.1, affine=True, track_running_stats=True)\n",
       "       (2): ReLU()\n",
       "       (3): Dropout(p=0.5, inplace=False)\n",
       "       (4): Linear(in_features=256, out_features=1, bias=False)\n",
       "     )\n",
       "   )\n",
       " ),\n",
       " torch.Size([10, 1]))"
      ]
     },
     "execution_count": 13,
     "metadata": {},
     "output_type": "execute_result"
    }
   ],
   "source": [
    "# Load model architecture\n",
    "arch = zoo.ResidualBind(input_len=262, output_dim=1)\n",
    "arch, arch(test_seqs).shape"
   ]
  },
  {
   "cell_type": "markdown",
   "metadata": {},
   "source": [
    "# Training module"
   ]
  },
  {
   "cell_type": "code",
   "execution_count": 14,
   "metadata": {},
   "outputs": [],
   "source": [
    "from seqmodels import Module"
   ]
  },
  {
   "cell_type": "code",
   "execution_count": 15,
   "metadata": {},
   "outputs": [
    {
     "data": {
      "text/plain": [
       "(Module(\n",
       "   (arch): ResidualBind(\n",
       "     (conv1d_tower): Conv1DTower(\n",
       "       (layers): Sequential(\n",
       "         (0): Conv1d(4, 96, kernel_size=(11,), stride=(1,), padding=valid)\n",
       "         (1): BatchNorm1d(96, eps=1e-05, momentum=0.1, affine=True, track_running_stats=True)\n",
       "         (2): ReLU()\n",
       "         (3): Dropout(p=0.1, inplace=False)\n",
       "       )\n",
       "     )\n",
       "     (residual_block): Residual(\n",
       "       (wrapped): Conv1DTower(\n",
       "         (layers): Sequential(\n",
       "           (0): Conv1d(96, 96, kernel_size=(3,), stride=(1,), padding=same)\n",
       "           (1): BatchNorm1d(96, eps=1e-05, momentum=0.1, affine=True, track_running_stats=True)\n",
       "           (2): ReLU()\n",
       "           (3): Dropout(p=0.1, inplace=False)\n",
       "           (4): Conv1d(96, 96, kernel_size=(3,), stride=(1,), padding=same, dilation=(2,))\n",
       "           (5): BatchNorm1d(96, eps=1e-05, momentum=0.1, affine=True, track_running_stats=True)\n",
       "           (6): ReLU()\n",
       "           (7): Dropout(p=0.1, inplace=False)\n",
       "           (8): Conv1d(96, 96, kernel_size=(3,), stride=(1,), padding=same, dilation=(4,))\n",
       "           (9): BatchNorm1d(96, eps=1e-05, momentum=0.1, affine=True, track_running_stats=True)\n",
       "           (10): ReLU()\n",
       "           (11): Dropout(p=0.1, inplace=False)\n",
       "         )\n",
       "       )\n",
       "     )\n",
       "     (average_pool): AvgPool1d(kernel_size=(10,), stride=(1,), padding=(0,))\n",
       "     (dropout): Dropout(p=0.2, inplace=False)\n",
       "     (flatten): Flatten(start_dim=1, end_dim=-1)\n",
       "     (dense_block): DenseBlock(\n",
       "       (layers): Sequential(\n",
       "         (0): Linear(in_features=23328, out_features=256, bias=False)\n",
       "         (1): BatchNorm1d(256, eps=1e-05, momentum=0.1, affine=True, track_running_stats=True)\n",
       "         (2): ReLU()\n",
       "         (3): Dropout(p=0.5, inplace=False)\n",
       "         (4): Linear(in_features=256, out_features=1, bias=False)\n",
       "       )\n",
       "     )\n",
       "   )\n",
       "   (loss_fxn): GeneralLoss()\n",
       "   (train_metrics_fxn): GeneralMetric()\n",
       "   (val_metrics_fxn): GeneralMetric()\n",
       " ),\n",
       " torch.Size([10, 1]))"
      ]
     },
     "execution_count": 15,
     "metadata": {},
     "output_type": "execute_result"
    }
   ],
   "source": [
    "# Create module for training\n",
    "module = Module(\n",
    "    arch=arch,\n",
    "    input_vars=[\"ohe_seq\"],\n",
    "    output_vars=[\"output\"],\n",
    "    target_vars=[\"target\"],\n",
    "    squeeze_output=True,\n",
    "    loss_fxn=\"mse\",\n",
    "    train_metrics_fxn=[\"r2\", \"pearson\", \"spearman\"],\n",
    "    val_metrics_fxn=[\"r2\", \"pearson\", \"spearman\"],\n",
    "    scheduler=\"reduce_lr_on_plateau\",\n",
    ")\n",
    "module, module(test_dict).shape"
   ]
  },
  {
   "cell_type": "code",
   "execution_count": 16,
   "metadata": {},
   "outputs": [
    {
     "data": {
      "text/plain": [
       "tensor([[-0.3266],\n",
       "        [-0.4092],\n",
       "        [-0.5464],\n",
       "        [-0.2164],\n",
       "        [-0.3449],\n",
       "        [-0.7074],\n",
       "        [-0.2086],\n",
       "        [ 0.4033],\n",
       "        [ 0.3989],\n",
       "        [-0.2904]], grad_fn=<MmBackward0>)"
      ]
     },
     "execution_count": 16,
     "metadata": {},
     "output_type": "execute_result"
    }
   ],
   "source": [
    "module(test_dict)"
   ]
  },
  {
   "cell_type": "markdown",
   "metadata": {},
   "source": [
    "# DataLoaders"
   ]
  },
  {
   "cell_type": "code",
   "execution_count": 17,
   "metadata": {},
   "outputs": [],
   "source": [
    "# Randomly split the data\n",
    "def split_xarray(\n",
    "    data: xr.Dataset, frac: float = 0.8, shuffle: bool = True\n",
    ") -> xr.Dataset:\n",
    "    if shuffle:\n",
    "        idx = np.random.permutation(data[\"_sequence\"])\n",
    "        data = data.sel(_sequence=idx)\n",
    "    split_idx = int(frac * data.dims[\"_sequence\"])\n",
    "    train_data = data.sel(_sequence=data[\"_sequence\"][:split_idx])\n",
    "    val_data = data.sel(_sequence=data[\"_sequence\"][split_idx:])\n",
    "    return train_data, val_data"
   ]
  },
  {
   "cell_type": "code",
   "execution_count": 18,
   "metadata": {},
   "outputs": [
    {
     "name": "stderr",
     "output_type": "stream",
     "text": [
      "/cellar/users/aklie/opt/miniconda3/envs/ml4gland/lib/python3.9/site-packages/xarray/core/utils.py:494: FutureWarning: The return type of `Dataset.dims` will be changed to return a set of dimension names in future, in order to be more consistent with `DataArray.dims`. To access a mapping from dimension names to lengths, please use `Dataset.sizes`.\n",
      "  warnings.warn(\n",
      "/cellar/users/aklie/opt/miniconda3/envs/ml4gland/lib/python3.9/site-packages/xarray/core/utils.py:494: FutureWarning: The return type of `Dataset.dims` will be changed to return a set of dimension names in future, in order to be more consistent with `DataArray.dims`. To access a mapping from dimension names to lengths, please use `Dataset.sizes`.\n",
      "  warnings.warn(\n"
     ]
    },
    {
     "data": {
      "text/plain": [
       "(6793, 1699)"
      ]
     },
     "execution_count": 18,
     "metadata": {},
     "output_type": "execute_result"
    }
   ],
   "source": [
    "train_sdata, valid_sdata = split_xarray(sdata, frac=0.8)\n",
    "train_sdata.dims[\"_sequence\"], valid_sdata.dims[\"_sequence\"]"
   ]
  },
  {
   "cell_type": "code",
   "execution_count": 19,
   "metadata": {},
   "outputs": [
    {
     "data": {
      "text/html": [
       "<div><svg style=\"position: absolute; width: 0; height: 0; overflow: hidden\">\n",
       "<defs>\n",
       "<symbol id=\"icon-database\" viewBox=\"0 0 32 32\">\n",
       "<path d=\"M16 0c-8.837 0-16 2.239-16 5v4c0 2.761 7.163 5 16 5s16-2.239 16-5v-4c0-2.761-7.163-5-16-5z\"></path>\n",
       "<path d=\"M16 17c-8.837 0-16-2.239-16-5v6c0 2.761 7.163 5 16 5s16-2.239 16-5v-6c0 2.761-7.163 5-16 5z\"></path>\n",
       "<path d=\"M16 26c-8.837 0-16-2.239-16-5v6c0 2.761 7.163 5 16 5s16-2.239 16-5v-6c0 2.761-7.163 5-16 5z\"></path>\n",
       "</symbol>\n",
       "<symbol id=\"icon-file-text2\" viewBox=\"0 0 32 32\">\n",
       "<path d=\"M28.681 7.159c-0.694-0.947-1.662-2.053-2.724-3.116s-2.169-2.030-3.116-2.724c-1.612-1.182-2.393-1.319-2.841-1.319h-15.5c-1.378 0-2.5 1.121-2.5 2.5v27c0 1.378 1.122 2.5 2.5 2.5h23c1.378 0 2.5-1.122 2.5-2.5v-19.5c0-0.448-0.137-1.23-1.319-2.841zM24.543 5.457c0.959 0.959 1.712 1.825 2.268 2.543h-4.811v-4.811c0.718 0.556 1.584 1.309 2.543 2.268zM28 29.5c0 0.271-0.229 0.5-0.5 0.5h-23c-0.271 0-0.5-0.229-0.5-0.5v-27c0-0.271 0.229-0.5 0.5-0.5 0 0 15.499-0 15.5 0v7c0 0.552 0.448 1 1 1h7v19.5z\"></path>\n",
       "<path d=\"M23 26h-14c-0.552 0-1-0.448-1-1s0.448-1 1-1h14c0.552 0 1 0.448 1 1s-0.448 1-1 1z\"></path>\n",
       "<path d=\"M23 22h-14c-0.552 0-1-0.448-1-1s0.448-1 1-1h14c0.552 0 1 0.448 1 1s-0.448 1-1 1z\"></path>\n",
       "<path d=\"M23 18h-14c-0.552 0-1-0.448-1-1s0.448-1 1-1h14c0.552 0 1 0.448 1 1s-0.448 1-1 1z\"></path>\n",
       "</symbol>\n",
       "</defs>\n",
       "</svg>\n",
       "<style>/* CSS stylesheet for displaying xarray objects in jupyterlab.\n",
       " *\n",
       " */\n",
       "\n",
       ":root {\n",
       "  --xr-font-color0: var(--jp-content-font-color0, rgba(0, 0, 0, 1));\n",
       "  --xr-font-color2: var(--jp-content-font-color2, rgba(0, 0, 0, 0.54));\n",
       "  --xr-font-color3: var(--jp-content-font-color3, rgba(0, 0, 0, 0.38));\n",
       "  --xr-border-color: var(--jp-border-color2, #e0e0e0);\n",
       "  --xr-disabled-color: var(--jp-layout-color3, #bdbdbd);\n",
       "  --xr-background-color: var(--jp-layout-color0, white);\n",
       "  --xr-background-color-row-even: var(--jp-layout-color1, white);\n",
       "  --xr-background-color-row-odd: var(--jp-layout-color2, #eeeeee);\n",
       "}\n",
       "\n",
       "html[theme=dark],\n",
       "body[data-theme=dark],\n",
       "body.vscode-dark {\n",
       "  --xr-font-color0: rgba(255, 255, 255, 1);\n",
       "  --xr-font-color2: rgba(255, 255, 255, 0.54);\n",
       "  --xr-font-color3: rgba(255, 255, 255, 0.38);\n",
       "  --xr-border-color: #1F1F1F;\n",
       "  --xr-disabled-color: #515151;\n",
       "  --xr-background-color: #111111;\n",
       "  --xr-background-color-row-even: #111111;\n",
       "  --xr-background-color-row-odd: #313131;\n",
       "}\n",
       "\n",
       ".xr-wrap {\n",
       "  display: block !important;\n",
       "  min-width: 300px;\n",
       "  max-width: 700px;\n",
       "}\n",
       "\n",
       ".xr-text-repr-fallback {\n",
       "  /* fallback to plain text repr when CSS is not injected (untrusted notebook) */\n",
       "  display: none;\n",
       "}\n",
       "\n",
       ".xr-header {\n",
       "  padding-top: 6px;\n",
       "  padding-bottom: 6px;\n",
       "  margin-bottom: 4px;\n",
       "  border-bottom: solid 1px var(--xr-border-color);\n",
       "}\n",
       "\n",
       ".xr-header > div,\n",
       ".xr-header > ul {\n",
       "  display: inline;\n",
       "  margin-top: 0;\n",
       "  margin-bottom: 0;\n",
       "}\n",
       "\n",
       ".xr-obj-type,\n",
       ".xr-array-name {\n",
       "  margin-left: 2px;\n",
       "  margin-right: 10px;\n",
       "}\n",
       "\n",
       ".xr-obj-type {\n",
       "  color: var(--xr-font-color2);\n",
       "}\n",
       "\n",
       ".xr-sections {\n",
       "  padding-left: 0 !important;\n",
       "  display: grid;\n",
       "  grid-template-columns: 150px auto auto 1fr 20px 20px;\n",
       "}\n",
       "\n",
       ".xr-section-item {\n",
       "  display: contents;\n",
       "}\n",
       "\n",
       ".xr-section-item input {\n",
       "  display: none;\n",
       "}\n",
       "\n",
       ".xr-section-item input + label {\n",
       "  color: var(--xr-disabled-color);\n",
       "}\n",
       "\n",
       ".xr-section-item input:enabled + label {\n",
       "  cursor: pointer;\n",
       "  color: var(--xr-font-color2);\n",
       "}\n",
       "\n",
       ".xr-section-item input:enabled + label:hover {\n",
       "  color: var(--xr-font-color0);\n",
       "}\n",
       "\n",
       ".xr-section-summary {\n",
       "  grid-column: 1;\n",
       "  color: var(--xr-font-color2);\n",
       "  font-weight: 500;\n",
       "}\n",
       "\n",
       ".xr-section-summary > span {\n",
       "  display: inline-block;\n",
       "  padding-left: 0.5em;\n",
       "}\n",
       "\n",
       ".xr-section-summary-in:disabled + label {\n",
       "  color: var(--xr-font-color2);\n",
       "}\n",
       "\n",
       ".xr-section-summary-in + label:before {\n",
       "  display: inline-block;\n",
       "  content: '►';\n",
       "  font-size: 11px;\n",
       "  width: 15px;\n",
       "  text-align: center;\n",
       "}\n",
       "\n",
       ".xr-section-summary-in:disabled + label:before {\n",
       "  color: var(--xr-disabled-color);\n",
       "}\n",
       "\n",
       ".xr-section-summary-in:checked + label:before {\n",
       "  content: '▼';\n",
       "}\n",
       "\n",
       ".xr-section-summary-in:checked + label > span {\n",
       "  display: none;\n",
       "}\n",
       "\n",
       ".xr-section-summary,\n",
       ".xr-section-inline-details {\n",
       "  padding-top: 4px;\n",
       "  padding-bottom: 4px;\n",
       "}\n",
       "\n",
       ".xr-section-inline-details {\n",
       "  grid-column: 2 / -1;\n",
       "}\n",
       "\n",
       ".xr-section-details {\n",
       "  display: none;\n",
       "  grid-column: 1 / -1;\n",
       "  margin-bottom: 5px;\n",
       "}\n",
       "\n",
       ".xr-section-summary-in:checked ~ .xr-section-details {\n",
       "  display: contents;\n",
       "}\n",
       "\n",
       ".xr-array-wrap {\n",
       "  grid-column: 1 / -1;\n",
       "  display: grid;\n",
       "  grid-template-columns: 20px auto;\n",
       "}\n",
       "\n",
       ".xr-array-wrap > label {\n",
       "  grid-column: 1;\n",
       "  vertical-align: top;\n",
       "}\n",
       "\n",
       ".xr-preview {\n",
       "  color: var(--xr-font-color3);\n",
       "}\n",
       "\n",
       ".xr-array-preview,\n",
       ".xr-array-data {\n",
       "  padding: 0 5px !important;\n",
       "  grid-column: 2;\n",
       "}\n",
       "\n",
       ".xr-array-data,\n",
       ".xr-array-in:checked ~ .xr-array-preview {\n",
       "  display: none;\n",
       "}\n",
       "\n",
       ".xr-array-in:checked ~ .xr-array-data,\n",
       ".xr-array-preview {\n",
       "  display: inline-block;\n",
       "}\n",
       "\n",
       ".xr-dim-list {\n",
       "  display: inline-block !important;\n",
       "  list-style: none;\n",
       "  padding: 0 !important;\n",
       "  margin: 0;\n",
       "}\n",
       "\n",
       ".xr-dim-list li {\n",
       "  display: inline-block;\n",
       "  padding: 0;\n",
       "  margin: 0;\n",
       "}\n",
       "\n",
       ".xr-dim-list:before {\n",
       "  content: '(';\n",
       "}\n",
       "\n",
       ".xr-dim-list:after {\n",
       "  content: ')';\n",
       "}\n",
       "\n",
       ".xr-dim-list li:not(:last-child):after {\n",
       "  content: ',';\n",
       "  padding-right: 5px;\n",
       "}\n",
       "\n",
       ".xr-has-index {\n",
       "  font-weight: bold;\n",
       "}\n",
       "\n",
       ".xr-var-list,\n",
       ".xr-var-item {\n",
       "  display: contents;\n",
       "}\n",
       "\n",
       ".xr-var-item > div,\n",
       ".xr-var-item label,\n",
       ".xr-var-item > .xr-var-name span {\n",
       "  background-color: var(--xr-background-color-row-even);\n",
       "  margin-bottom: 0;\n",
       "}\n",
       "\n",
       ".xr-var-item > .xr-var-name:hover span {\n",
       "  padding-right: 5px;\n",
       "}\n",
       "\n",
       ".xr-var-list > li:nth-child(odd) > div,\n",
       ".xr-var-list > li:nth-child(odd) > label,\n",
       ".xr-var-list > li:nth-child(odd) > .xr-var-name span {\n",
       "  background-color: var(--xr-background-color-row-odd);\n",
       "}\n",
       "\n",
       ".xr-var-name {\n",
       "  grid-column: 1;\n",
       "}\n",
       "\n",
       ".xr-var-dims {\n",
       "  grid-column: 2;\n",
       "}\n",
       "\n",
       ".xr-var-dtype {\n",
       "  grid-column: 3;\n",
       "  text-align: right;\n",
       "  color: var(--xr-font-color2);\n",
       "}\n",
       "\n",
       ".xr-var-preview {\n",
       "  grid-column: 4;\n",
       "}\n",
       "\n",
       ".xr-index-preview {\n",
       "  grid-column: 2 / 5;\n",
       "  color: var(--xr-font-color2);\n",
       "}\n",
       "\n",
       ".xr-var-name,\n",
       ".xr-var-dims,\n",
       ".xr-var-dtype,\n",
       ".xr-preview,\n",
       ".xr-attrs dt {\n",
       "  white-space: nowrap;\n",
       "  overflow: hidden;\n",
       "  text-overflow: ellipsis;\n",
       "  padding-right: 10px;\n",
       "}\n",
       "\n",
       ".xr-var-name:hover,\n",
       ".xr-var-dims:hover,\n",
       ".xr-var-dtype:hover,\n",
       ".xr-attrs dt:hover {\n",
       "  overflow: visible;\n",
       "  width: auto;\n",
       "  z-index: 1;\n",
       "}\n",
       "\n",
       ".xr-var-attrs,\n",
       ".xr-var-data,\n",
       ".xr-index-data {\n",
       "  display: none;\n",
       "  background-color: var(--xr-background-color) !important;\n",
       "  padding-bottom: 5px !important;\n",
       "}\n",
       "\n",
       ".xr-var-attrs-in:checked ~ .xr-var-attrs,\n",
       ".xr-var-data-in:checked ~ .xr-var-data,\n",
       ".xr-index-data-in:checked ~ .xr-index-data {\n",
       "  display: block;\n",
       "}\n",
       "\n",
       ".xr-var-data > table {\n",
       "  float: right;\n",
       "}\n",
       "\n",
       ".xr-var-name span,\n",
       ".xr-var-data,\n",
       ".xr-index-name div,\n",
       ".xr-index-data,\n",
       ".xr-attrs {\n",
       "  padding-left: 25px !important;\n",
       "}\n",
       "\n",
       ".xr-attrs,\n",
       ".xr-var-attrs,\n",
       ".xr-var-data,\n",
       ".xr-index-data {\n",
       "  grid-column: 1 / -1;\n",
       "}\n",
       "\n",
       "dl.xr-attrs {\n",
       "  padding: 0;\n",
       "  margin: 0;\n",
       "  display: grid;\n",
       "  grid-template-columns: 125px auto;\n",
       "}\n",
       "\n",
       ".xr-attrs dt,\n",
       ".xr-attrs dd {\n",
       "  padding: 0;\n",
       "  margin: 0;\n",
       "  float: left;\n",
       "  padding-right: 10px;\n",
       "  width: auto;\n",
       "}\n",
       "\n",
       ".xr-attrs dt {\n",
       "  font-weight: normal;\n",
       "  grid-column: 1;\n",
       "}\n",
       "\n",
       ".xr-attrs dt:hover span {\n",
       "  display: inline-block;\n",
       "  background: var(--xr-background-color);\n",
       "  padding-right: 10px;\n",
       "}\n",
       "\n",
       ".xr-attrs dd {\n",
       "  grid-column: 2;\n",
       "  white-space: pre-wrap;\n",
       "  word-break: break-all;\n",
       "}\n",
       "\n",
       ".xr-icon-database,\n",
       ".xr-icon-file-text2,\n",
       ".xr-no-icon {\n",
       "  display: inline-block;\n",
       "  vertical-align: middle;\n",
       "  width: 1em;\n",
       "  height: 1.5em !important;\n",
       "  stroke-width: 0;\n",
       "  stroke: currentColor;\n",
       "  fill: currentColor;\n",
       "}\n",
       "</style><pre class='xr-text-repr-fallback'>&lt;xarray.Dataset&gt;\n",
       "Dimensions:      (_sequence: 6792, _alphabet: 4, _length: 262)\n",
       "Coordinates:\n",
       "  * _sequence    (_sequence) int64 1277 5763 6044 7344 ... 4589 578 7085 4572\n",
       "Dimensions without coordinates: _alphabet, _length\n",
       "Data variables: (12/16)\n",
       "    CRS          (_sequence) object &#x27;LibA.Seq2464&#x27; ... &#x27;LibA.Seq6656&#x27;\n",
       "    Seq          (_sequence) object &#x27;aggaccggatcaactgtgaggggcgataagtttcctacat...\n",
       "    nrepeats     (_sequence) int64 3 5 5 2 4 4 6 1 2 4 5 ... 6 5 3 3 5 4 6 1 4 5\n",
       "    affinitynum  (_sequence) float64 0.75 0.75 0.25 0.75 1.0 ... 0.5 1.0 1.0 0.1\n",
       "    spacer       (_sequence) int64 4 20 20 10 20 20 4 4 ... 20 4 4 4 4 20 20 10\n",
       "    orientation  (_sequence) object &#x27;rev&#x27; &#x27;fwd&#x27; &#x27;tandem&#x27; ... &#x27;tandem&#x27; &#x27;fwd&#x27;\n",
       "    ...           ...\n",
       "    State_5M     (_sequence) float64 nan nan nan nan ... nan -0.1226 0.485 nan\n",
       "    State_6N     (_sequence) float64 -0.03158 nan 0.331 ... -0.16 0.6755 0.1631\n",
       "    State_7M     (_sequence) float64 nan nan nan nan ... -0.0527 0.355 nan\n",
       "    seq          (_sequence) object &#x27;AGGACCGGATCAACTGTGAGGGGCGATAAGTTTCCTACAT...\n",
       "    target       (_sequence) float64 0.03162 -0.01204 0.008192 ... 0.5149 0.1374\n",
       "    ohe_seq      (_sequence, _alphabet, _length) uint8 1 0 0 1 0 0 ... 0 0 0 0 0</pre><div class='xr-wrap' style='display:none'><div class='xr-header'><div class='xr-obj-type'>xarray.Dataset</div></div><ul class='xr-sections'><li class='xr-section-item'><input id='section-4983f6f2-2425-4a28-b8f9-0e2e8300b537' class='xr-section-summary-in' type='checkbox' disabled ><label for='section-4983f6f2-2425-4a28-b8f9-0e2e8300b537' class='xr-section-summary'  title='Expand/collapse section'>Dimensions:</label><div class='xr-section-inline-details'><ul class='xr-dim-list'><li><span class='xr-has-index'>_sequence</span>: 6792</li><li><span>_alphabet</span>: 4</li><li><span>_length</span>: 262</li></ul></div><div class='xr-section-details'></div></li><li class='xr-section-item'><input id='section-a266f397-5d4e-490f-bae4-89eefbbedfc7' class='xr-section-summary-in' type='checkbox'  checked><label for='section-a266f397-5d4e-490f-bae4-89eefbbedfc7' class='xr-section-summary' >Coordinates: <span>(1)</span></label><div class='xr-section-inline-details'></div><div class='xr-section-details'><ul class='xr-var-list'><li class='xr-var-item'><div class='xr-var-name'><span class='xr-has-index'>_sequence</span></div><div class='xr-var-dims'>(_sequence)</div><div class='xr-var-dtype'>int64</div><div class='xr-var-preview xr-preview'>1277 5763 6044 ... 578 7085 4572</div><input id='attrs-55bd76d3-2b43-4f19-b616-22ab23b02406' class='xr-var-attrs-in' type='checkbox' disabled><label for='attrs-55bd76d3-2b43-4f19-b616-22ab23b02406' title='Show/Hide attributes'><svg class='icon xr-icon-file-text2'><use xlink:href='#icon-file-text2'></use></svg></label><input id='data-5c63e1bc-cdc7-4452-82a4-25aa7affba3a' class='xr-var-data-in' type='checkbox'><label for='data-5c63e1bc-cdc7-4452-82a4-25aa7affba3a' title='Show/Hide data repr'><svg class='icon xr-icon-database'><use xlink:href='#icon-database'></use></svg></label><div class='xr-var-attrs'><dl class='xr-attrs'></dl></div><div class='xr-var-data'><pre>array([1277, 5763, 6044, ...,  578, 7085, 4572])</pre></div></li></ul></div></li><li class='xr-section-item'><input id='section-0b95706d-e3d4-47f5-91bd-d5754663bfbb' class='xr-section-summary-in' type='checkbox'  ><label for='section-0b95706d-e3d4-47f5-91bd-d5754663bfbb' class='xr-section-summary' >Data variables: <span>(16)</span></label><div class='xr-section-inline-details'></div><div class='xr-section-details'><ul class='xr-var-list'><li class='xr-var-item'><div class='xr-var-name'><span>CRS</span></div><div class='xr-var-dims'>(_sequence)</div><div class='xr-var-dtype'>object</div><div class='xr-var-preview xr-preview'>&#x27;LibA.Seq2464&#x27; ... &#x27;LibA.Seq6656&#x27;</div><input id='attrs-05db2bfe-968a-4a03-b9f4-5c11c8395a30' class='xr-var-attrs-in' type='checkbox' disabled><label for='attrs-05db2bfe-968a-4a03-b9f4-5c11c8395a30' title='Show/Hide attributes'><svg class='icon xr-icon-file-text2'><use xlink:href='#icon-file-text2'></use></svg></label><input id='data-58067e1f-641e-46bf-a3d7-78a6c7f21924' class='xr-var-data-in' type='checkbox'><label for='data-58067e1f-641e-46bf-a3d7-78a6c7f21924' title='Show/Hide data repr'><svg class='icon xr-icon-database'><use xlink:href='#icon-database'></use></svg></label><div class='xr-var-attrs'><dl class='xr-attrs'></dl></div><div class='xr-var-data'><pre>array([&#x27;LibA.Seq2464&#x27;, &#x27;LibA.Seq807&#x27;, &#x27;LibA.Seq8457&#x27;, ..., &#x27;LibA.Seq1518&#x27;,\n",
       "       &#x27;LibA.Seq9831&#x27;, &#x27;LibA.Seq6656&#x27;], dtype=object)</pre></div></li><li class='xr-var-item'><div class='xr-var-name'><span>Seq</span></div><div class='xr-var-dims'>(_sequence)</div><div class='xr-var-dtype'>object</div><div class='xr-var-preview xr-preview'>&#x27;aggaccggatcaactgtgaggggcgataagt...</div><input id='attrs-94fe6840-356a-42cd-9386-783000a2c362' class='xr-var-attrs-in' type='checkbox' disabled><label for='attrs-94fe6840-356a-42cd-9386-783000a2c362' title='Show/Hide attributes'><svg class='icon xr-icon-file-text2'><use xlink:href='#icon-file-text2'></use></svg></label><input id='data-767b7a14-ae51-4bdc-9a78-b3acd0a57bf9' class='xr-var-data-in' type='checkbox'><label for='data-767b7a14-ae51-4bdc-9a78-b3acd0a57bf9' title='Show/Hide data repr'><svg class='icon xr-icon-database'><use xlink:href='#icon-database'></use></svg></label><div class='xr-var-attrs'><dl class='xr-attrs'></dl></div><div class='xr-var-data'><pre>array([&#x27;aggaccggatcaactgtgaggggcgataagtttcctacatttgtacgtcctcgtcgtcacagcgtgaagtcaagctacgccttctttgaaccacttcatgaaacctcacaagctgagtaacacttgtagtagggttaagatagttgaatacccgagagggcgcggaccatgatctgagcggattcaggcacggaatacatctagtattaaacggaTCTCCCACtgggTCTCCCACcacaCCTCCCAGcattgcgtgaaccga&#x27;,\n",
       "       &#x27;aggaccggatcaacttcctaatatgccgttgctgcttcaggcaccctactgcatgtgcgtcttccagtctgctctaagagggagcttcaagggtgtcctgacactggaatataaggcCTGATGTAATtgtatgcgtgcaggaaggagATGATGCAACcttgtctcacgcttggatcgCTGATGTAATcgatccagtctaggagtaccATGATGCAACgtgtagaatgaggggcgacgATGATGCAACcattgcgtgaaccga&#x27;,\n",
       "       &#x27;aggaccggatcaactgggccagcgacctggggatatatgtagctattgcacatcatttggttgtaatacgttcaaaaaagacaaccacattgaggggagagcgctaagcgtcTACGGAAGTAGagtcgaacgtgactattaggACATTTCCGGGttgacgccgccgctactcagACTGGAAGCGAtaaaccaagacgatcctcatTTGCTTCCGGAcaagaatacttgtggcataaGCCGGAATTGTcattgcgtgaaccga&#x27;,\n",
       "       ...,\n",
       "       &#x27;aggaccggatcaactctgttgcgttacccggttcagatagcatcgtattctgggcaagatcgcgcgtactgcccggtattttacctcggcagtttgggggcaacaagtaagtaaaaccgctgctactttaccagttcgttatattcgctacaacttctagtcataagcgatttgagttggttgacacctacttgcagtgccgttgtgggagttgtatctgtccttagtCCCTTATCTGCCCCCCCCAcattgcgtgaaccga&#x27;,\n",
       "       &#x27;aggaccggatcaactgggcatcacaagaggttgtacactcaaatggggtaggatcaccgtcctcgcgtgggattacctttagggctccaatatcatcattgtccgcaacctccgcagttagattggcAAAAAGAGGAAGTGAgtcttgcgatcggaaggaagTCACTTCCTCTTTTTggtcagtaacctaactcagcAAAAAGAGGAAGTGAcctcgccacacataacatccTCACTTCCTCTTTTTcattgcgtgaaccga&#x27;,\n",
       "       &#x27;aggaccggatcaactaaagagttaaaaatacagggatttcaaggacaaatatcaagtgtatagcctgccagttactttaaactctaggagggcaccactatctatatagttcccatactcgagaggcttgaaTCAATCAGGAAGTCGgttggtcgccGGGATGAGGAACCGGcacggcatcaTGAAAGGCGAAGTGAtgacgggtttCGGGAGGGGAAGACAcattataacaACAAAAGGGAAGGGCcattgcgtgaaccga&#x27;],\n",
       "      dtype=object)</pre></div></li><li class='xr-var-item'><div class='xr-var-name'><span>nrepeats</span></div><div class='xr-var-dims'>(_sequence)</div><div class='xr-var-dtype'>int64</div><div class='xr-var-preview xr-preview'>3 5 5 2 4 4 6 1 ... 3 3 5 4 6 1 4 5</div><input id='attrs-d44b2ee4-bd49-434d-80c8-b0430f29ef0f' class='xr-var-attrs-in' type='checkbox' disabled><label for='attrs-d44b2ee4-bd49-434d-80c8-b0430f29ef0f' title='Show/Hide attributes'><svg class='icon xr-icon-file-text2'><use xlink:href='#icon-file-text2'></use></svg></label><input id='data-807eda49-2e3e-4700-a933-098b848d187e' class='xr-var-data-in' type='checkbox'><label for='data-807eda49-2e3e-4700-a933-098b848d187e' title='Show/Hide data repr'><svg class='icon xr-icon-database'><use xlink:href='#icon-database'></use></svg></label><div class='xr-var-attrs'><dl class='xr-attrs'></dl></div><div class='xr-var-data'><pre>array([3, 5, 5, ..., 1, 4, 5])</pre></div></li><li class='xr-var-item'><div class='xr-var-name'><span>affinitynum</span></div><div class='xr-var-dims'>(_sequence)</div><div class='xr-var-dtype'>float64</div><div class='xr-var-preview xr-preview'>0.75 0.75 0.25 0.75 ... 1.0 1.0 0.1</div><input id='attrs-21c7986d-d65d-4d3b-a05a-5a87310d8a5c' class='xr-var-attrs-in' type='checkbox' disabled><label for='attrs-21c7986d-d65d-4d3b-a05a-5a87310d8a5c' title='Show/Hide attributes'><svg class='icon xr-icon-file-text2'><use xlink:href='#icon-file-text2'></use></svg></label><input id='data-ad1b9a4a-e1f0-40eb-9838-87077266a532' class='xr-var-data-in' type='checkbox'><label for='data-ad1b9a4a-e1f0-40eb-9838-87077266a532' title='Show/Hide data repr'><svg class='icon xr-icon-database'><use xlink:href='#icon-database'></use></svg></label><div class='xr-var-attrs'><dl class='xr-attrs'></dl></div><div class='xr-var-data'><pre>array([0.75, 0.75, 0.25, ..., 1.  , 1.  , 0.1 ])</pre></div></li><li class='xr-var-item'><div class='xr-var-name'><span>spacer</span></div><div class='xr-var-dims'>(_sequence)</div><div class='xr-var-dtype'>int64</div><div class='xr-var-preview xr-preview'>4 20 20 10 20 20 ... 4 4 4 20 20 10</div><input id='attrs-187b91c6-77bf-4e05-af3f-9df1d54cc1f6' class='xr-var-attrs-in' type='checkbox' disabled><label for='attrs-187b91c6-77bf-4e05-af3f-9df1d54cc1f6' title='Show/Hide attributes'><svg class='icon xr-icon-file-text2'><use xlink:href='#icon-file-text2'></use></svg></label><input id='data-be9660d6-e255-4446-aa0c-ec08568dd2bb' class='xr-var-data-in' type='checkbox'><label for='data-be9660d6-e255-4446-aa0c-ec08568dd2bb' title='Show/Hide data repr'><svg class='icon xr-icon-database'><use xlink:href='#icon-database'></use></svg></label><div class='xr-var-attrs'><dl class='xr-attrs'></dl></div><div class='xr-var-data'><pre>array([ 4, 20, 20, ..., 20, 20, 10])</pre></div></li><li class='xr-var-item'><div class='xr-var-name'><span>orientation</span></div><div class='xr-var-dims'>(_sequence)</div><div class='xr-var-dtype'>object</div><div class='xr-var-preview xr-preview'>&#x27;rev&#x27; &#x27;fwd&#x27; ... &#x27;tandem&#x27; &#x27;fwd&#x27;</div><input id='attrs-e46ed549-5c2a-4c39-8642-b03b893e88bb' class='xr-var-attrs-in' type='checkbox' disabled><label for='attrs-e46ed549-5c2a-4c39-8642-b03b893e88bb' title='Show/Hide attributes'><svg class='icon xr-icon-file-text2'><use xlink:href='#icon-file-text2'></use></svg></label><input id='data-d562f70e-bcae-4d13-ad1e-3d3a44654363' class='xr-var-data-in' type='checkbox'><label for='data-d562f70e-bcae-4d13-ad1e-3d3a44654363' title='Show/Hide data repr'><svg class='icon xr-icon-database'><use xlink:href='#icon-database'></use></svg></label><div class='xr-var-attrs'><dl class='xr-attrs'></dl></div><div class='xr-var-data'><pre>array([&#x27;rev&#x27;, &#x27;fwd&#x27;, &#x27;tandem&#x27;, ..., &#x27;rev&#x27;, &#x27;tandem&#x27;, &#x27;fwd&#x27;], dtype=object)</pre></div></li><li class='xr-var-item'><div class='xr-var-name'><span>State_1M</span></div><div class='xr-var-dims'>(_sequence)</div><div class='xr-var-dtype'>float64</div><div class='xr-var-preview xr-preview'>-0.05629 0.07413 ... 0.2608 0.06013</div><input id='attrs-c6741e2a-e5d3-46c1-9bf6-543a732f5f1e' class='xr-var-attrs-in' type='checkbox' disabled><label for='attrs-c6741e2a-e5d3-46c1-9bf6-543a732f5f1e' title='Show/Hide attributes'><svg class='icon xr-icon-file-text2'><use xlink:href='#icon-file-text2'></use></svg></label><input id='data-958fdd64-3b7b-4a5a-ba99-98e839d2d99c' class='xr-var-data-in' type='checkbox'><label for='data-958fdd64-3b7b-4a5a-ba99-98e839d2d99c' title='Show/Hide data repr'><svg class='icon xr-icon-database'><use xlink:href='#icon-database'></use></svg></label><div class='xr-var-attrs'><dl class='xr-attrs'></dl></div><div class='xr-var-data'><pre>array([-0.05629483,  0.07412885,  0.20335712, ...,  0.04710012,\n",
       "        0.26083461,  0.06012771])</pre></div></li><li class='xr-var-item'><div class='xr-var-name'><span>State_2D</span></div><div class='xr-var-dims'>(_sequence)</div><div class='xr-var-dtype'>float64</div><div class='xr-var-preview xr-preview'>-0.005702 0.06109 ... 0.445 0.116</div><input id='attrs-d6f0b84d-06dd-4d3c-a312-e2ccf3691532' class='xr-var-attrs-in' type='checkbox' disabled><label for='attrs-d6f0b84d-06dd-4d3c-a312-e2ccf3691532' title='Show/Hide attributes'><svg class='icon xr-icon-file-text2'><use xlink:href='#icon-file-text2'></use></svg></label><input id='data-0629adfd-b3f8-430f-8945-003ccce9ca69' class='xr-var-data-in' type='checkbox'><label for='data-0629adfd-b3f8-430f-8945-003ccce9ca69' title='Show/Hide data repr'><svg class='icon xr-icon-database'><use xlink:href='#icon-database'></use></svg></label><div class='xr-var-attrs'><dl class='xr-attrs'></dl></div><div class='xr-var-data'><pre>array([-0.00570233,  0.06109418,  0.07122738, ..., -0.08909309,\n",
       "        0.44497269,  0.11604669])</pre></div></li><li class='xr-var-item'><div class='xr-var-name'><span>State_3E</span></div><div class='xr-var-dims'>(_sequence)</div><div class='xr-var-dtype'>float64</div><div class='xr-var-preview xr-preview'>0.03162 -0.01204 ... 0.5149 0.1374</div><input id='attrs-7c273041-ee18-4e4a-a06a-522715a174a7' class='xr-var-attrs-in' type='checkbox' disabled><label for='attrs-7c273041-ee18-4e4a-a06a-522715a174a7' title='Show/Hide attributes'><svg class='icon xr-icon-file-text2'><use xlink:href='#icon-file-text2'></use></svg></label><input id='data-da93539d-8a7c-46f6-a97f-060c4d669d3a' class='xr-var-data-in' type='checkbox'><label for='data-da93539d-8a7c-46f6-a97f-060c4d669d3a' title='Show/Hide data repr'><svg class='icon xr-icon-database'><use xlink:href='#icon-database'></use></svg></label><div class='xr-var-attrs'><dl class='xr-attrs'></dl></div><div class='xr-var-data'><pre>array([ 0.03162121, -0.01203648,  0.00819219, ..., -0.07918241,\n",
       "        0.51490797,  0.13739889])</pre></div></li><li class='xr-var-item'><div class='xr-var-name'><span>State_4M</span></div><div class='xr-var-dims'>(_sequence)</div><div class='xr-var-dtype'>float64</div><div class='xr-var-preview xr-preview'>-0.05703 nan 0.04711 ... 0.3887 nan</div><input id='attrs-415195b5-c86c-4e43-b6c2-4c4d96e50ca5' class='xr-var-attrs-in' type='checkbox' disabled><label for='attrs-415195b5-c86c-4e43-b6c2-4c4d96e50ca5' title='Show/Hide attributes'><svg class='icon xr-icon-file-text2'><use xlink:href='#icon-file-text2'></use></svg></label><input id='data-c9b337a6-c431-4d11-8bdf-6fa066fc4bd4' class='xr-var-data-in' type='checkbox'><label for='data-c9b337a6-c431-4d11-8bdf-6fa066fc4bd4' title='Show/Hide data repr'><svg class='icon xr-icon-database'><use xlink:href='#icon-database'></use></svg></label><div class='xr-var-attrs'><dl class='xr-attrs'></dl></div><div class='xr-var-data'><pre>array([-0.05703153,         nan,  0.04710641, ..., -0.10750075,\n",
       "        0.38874401,         nan])</pre></div></li><li class='xr-var-item'><div class='xr-var-name'><span>State_5M</span></div><div class='xr-var-dims'>(_sequence)</div><div class='xr-var-dtype'>float64</div><div class='xr-var-preview xr-preview'>nan nan nan ... -0.1226 0.485 nan</div><input id='attrs-3697d98b-2c41-465c-ac88-341e59e4da14' class='xr-var-attrs-in' type='checkbox' disabled><label for='attrs-3697d98b-2c41-465c-ac88-341e59e4da14' title='Show/Hide attributes'><svg class='icon xr-icon-file-text2'><use xlink:href='#icon-file-text2'></use></svg></label><input id='data-00fb3c1c-0652-44c0-b824-c166459c8a91' class='xr-var-data-in' type='checkbox'><label for='data-00fb3c1c-0652-44c0-b824-c166459c8a91' title='Show/Hide data repr'><svg class='icon xr-icon-database'><use xlink:href='#icon-database'></use></svg></label><div class='xr-var-attrs'><dl class='xr-attrs'></dl></div><div class='xr-var-data'><pre>array([        nan,         nan,         nan, ..., -0.12261548,\n",
       "        0.48501049,         nan])</pre></div></li><li class='xr-var-item'><div class='xr-var-name'><span>State_6N</span></div><div class='xr-var-dims'>(_sequence)</div><div class='xr-var-dtype'>float64</div><div class='xr-var-preview xr-preview'>-0.03158 nan ... 0.6755 0.1631</div><input id='attrs-502ec5ad-b950-4a5a-b283-eabc953441b2' class='xr-var-attrs-in' type='checkbox' disabled><label for='attrs-502ec5ad-b950-4a5a-b283-eabc953441b2' title='Show/Hide attributes'><svg class='icon xr-icon-file-text2'><use xlink:href='#icon-file-text2'></use></svg></label><input id='data-905e89d5-aa73-469a-99cd-6c3fdbdd99dd' class='xr-var-data-in' type='checkbox'><label for='data-905e89d5-aa73-469a-99cd-6c3fdbdd99dd' title='Show/Hide data repr'><svg class='icon xr-icon-database'><use xlink:href='#icon-database'></use></svg></label><div class='xr-var-attrs'><dl class='xr-attrs'></dl></div><div class='xr-var-data'><pre>array([-0.03158189,         nan,  0.33097676, ..., -0.15997086,\n",
       "        0.67547167,  0.16311956])</pre></div></li><li class='xr-var-item'><div class='xr-var-name'><span>State_7M</span></div><div class='xr-var-dims'>(_sequence)</div><div class='xr-var-dtype'>float64</div><div class='xr-var-preview xr-preview'>nan nan nan ... -0.0527 0.355 nan</div><input id='attrs-f9cfed5f-a438-461e-853e-e40980e9cdb1' class='xr-var-attrs-in' type='checkbox' disabled><label for='attrs-f9cfed5f-a438-461e-853e-e40980e9cdb1' title='Show/Hide attributes'><svg class='icon xr-icon-file-text2'><use xlink:href='#icon-file-text2'></use></svg></label><input id='data-636017b9-9c99-4bb5-99a7-004648517967' class='xr-var-data-in' type='checkbox'><label for='data-636017b9-9c99-4bb5-99a7-004648517967' title='Show/Hide data repr'><svg class='icon xr-icon-database'><use xlink:href='#icon-database'></use></svg></label><div class='xr-var-attrs'><dl class='xr-attrs'></dl></div><div class='xr-var-data'><pre>array([        nan,         nan,         nan, ..., -0.05269601,\n",
       "        0.35499692,         nan])</pre></div></li><li class='xr-var-item'><div class='xr-var-name'><span>seq</span></div><div class='xr-var-dims'>(_sequence)</div><div class='xr-var-dtype'>object</div><div class='xr-var-preview xr-preview'>&#x27;AGGACCGGATCAACTGTGAGGGGCGATAAGT...</div><input id='attrs-7b87aad1-5d98-48e5-a8e2-eda50df3ea6f' class='xr-var-attrs-in' type='checkbox' disabled><label for='attrs-7b87aad1-5d98-48e5-a8e2-eda50df3ea6f' title='Show/Hide attributes'><svg class='icon xr-icon-file-text2'><use xlink:href='#icon-file-text2'></use></svg></label><input id='data-a74c003d-c7ef-4880-8024-40154c3a3d0c' class='xr-var-data-in' type='checkbox'><label for='data-a74c003d-c7ef-4880-8024-40154c3a3d0c' title='Show/Hide data repr'><svg class='icon xr-icon-database'><use xlink:href='#icon-database'></use></svg></label><div class='xr-var-attrs'><dl class='xr-attrs'></dl></div><div class='xr-var-data'><pre>array([&#x27;AGGACCGGATCAACTGTGAGGGGCGATAAGTTTCCTACATTTGTACGTCCTCGTCGTCACAGCGTGAAGTCAAGCTACGCCTTCTTTGAACCACTTCATGAAACCTCACAAGCTGAGTAACACTTGTAGTAGGGTTAAGATAGTTGAATACCCGAGAGGGCGCGGACCATGATCTGAGCGGATTCAGGCACGGAATACATCTAGTATTAAACGGATCTCCCACTGGGTCTCCCACCACACCTCCCAGCATTGCGTGAACCGA&#x27;,\n",
       "       &#x27;AGGACCGGATCAACTTCCTAATATGCCGTTGCTGCTTCAGGCACCCTACTGCATGTGCGTCTTCCAGTCTGCTCTAAGAGGGAGCTTCAAGGGTGTCCTGACACTGGAATATAAGGCCTGATGTAATTGTATGCGTGCAGGAAGGAGATGATGCAACCTTGTCTCACGCTTGGATCGCTGATGTAATCGATCCAGTCTAGGAGTACCATGATGCAACGTGTAGAATGAGGGGCGACGATGATGCAACCATTGCGTGAACCGA&#x27;,\n",
       "       &#x27;AGGACCGGATCAACTGGGCCAGCGACCTGGGGATATATGTAGCTATTGCACATCATTTGGTTGTAATACGTTCAAAAAAGACAACCACATTGAGGGGAGAGCGCTAAGCGTCTACGGAAGTAGAGTCGAACGTGACTATTAGGACATTTCCGGGTTGACGCCGCCGCTACTCAGACTGGAAGCGATAAACCAAGACGATCCTCATTTGCTTCCGGACAAGAATACTTGTGGCATAAGCCGGAATTGTCATTGCGTGAACCGA&#x27;,\n",
       "       ...,\n",
       "       &#x27;AGGACCGGATCAACTCTGTTGCGTTACCCGGTTCAGATAGCATCGTATTCTGGGCAAGATCGCGCGTACTGCCCGGTATTTTACCTCGGCAGTTTGGGGGCAACAAGTAAGTAAAACCGCTGCTACTTTACCAGTTCGTTATATTCGCTACAACTTCTAGTCATAAGCGATTTGAGTTGGTTGACACCTACTTGCAGTGCCGTTGTGGGAGTTGTATCTGTCCTTAGTCCCTTATCTGCCCCCCCCACATTGCGTGAACCGA&#x27;,\n",
       "       &#x27;AGGACCGGATCAACTGGGCATCACAAGAGGTTGTACACTCAAATGGGGTAGGATCACCGTCCTCGCGTGGGATTACCTTTAGGGCTCCAATATCATCATTGTCCGCAACCTCCGCAGTTAGATTGGCAAAAAGAGGAAGTGAGTCTTGCGATCGGAAGGAAGTCACTTCCTCTTTTTGGTCAGTAACCTAACTCAGCAAAAAGAGGAAGTGACCTCGCCACACATAACATCCTCACTTCCTCTTTTTCATTGCGTGAACCGA&#x27;,\n",
       "       &#x27;AGGACCGGATCAACTAAAGAGTTAAAAATACAGGGATTTCAAGGACAAATATCAAGTGTATAGCCTGCCAGTTACTTTAAACTCTAGGAGGGCACCACTATCTATATAGTTCCCATACTCGAGAGGCTTGAATCAATCAGGAAGTCGGTTGGTCGCCGGGATGAGGAACCGGCACGGCATCATGAAAGGCGAAGTGATGACGGGTTTCGGGAGGGGAAGACACATTATAACAACAAAAGGGAAGGGCCATTGCGTGAACCGA&#x27;],\n",
       "      dtype=object)</pre></div></li><li class='xr-var-item'><div class='xr-var-name'><span>target</span></div><div class='xr-var-dims'>(_sequence)</div><div class='xr-var-dtype'>float64</div><div class='xr-var-preview xr-preview'>0.03162 -0.01204 ... 0.5149 0.1374</div><input id='attrs-66f422d0-02a2-4126-a1b7-f5d9b0cc4d84' class='xr-var-attrs-in' type='checkbox' disabled><label for='attrs-66f422d0-02a2-4126-a1b7-f5d9b0cc4d84' title='Show/Hide attributes'><svg class='icon xr-icon-file-text2'><use xlink:href='#icon-file-text2'></use></svg></label><input id='data-27341d23-6c05-4569-b8c4-7d237c9506b4' class='xr-var-data-in' type='checkbox'><label for='data-27341d23-6c05-4569-b8c4-7d237c9506b4' title='Show/Hide data repr'><svg class='icon xr-icon-database'><use xlink:href='#icon-database'></use></svg></label><div class='xr-var-attrs'><dl class='xr-attrs'></dl></div><div class='xr-var-data'><pre>array([ 0.03162121, -0.01203648,  0.00819219, ..., -0.07918241,\n",
       "        0.51490797,  0.13739889])</pre></div></li><li class='xr-var-item'><div class='xr-var-name'><span>ohe_seq</span></div><div class='xr-var-dims'>(_sequence, _alphabet, _length)</div><div class='xr-var-dtype'>uint8</div><div class='xr-var-preview xr-preview'>1 0 0 1 0 0 0 0 ... 1 0 0 0 0 0 0 0</div><input id='attrs-fb87c4df-fd6c-4c47-a795-5b2437f4da59' class='xr-var-attrs-in' type='checkbox' disabled><label for='attrs-fb87c4df-fd6c-4c47-a795-5b2437f4da59' title='Show/Hide attributes'><svg class='icon xr-icon-file-text2'><use xlink:href='#icon-file-text2'></use></svg></label><input id='data-63a51294-8874-4cf3-bd8a-0e225ecffe30' class='xr-var-data-in' type='checkbox'><label for='data-63a51294-8874-4cf3-bd8a-0e225ecffe30' title='Show/Hide data repr'><svg class='icon xr-icon-database'><use xlink:href='#icon-database'></use></svg></label><div class='xr-var-attrs'><dl class='xr-attrs'></dl></div><div class='xr-var-data'><pre>array([[[1, 0, 0, ..., 0, 0, 1],\n",
       "        [0, 0, 0, ..., 1, 0, 0],\n",
       "        [0, 1, 1, ..., 0, 1, 0],\n",
       "        [0, 0, 0, ..., 0, 0, 0]],\n",
       "\n",
       "       [[1, 0, 0, ..., 0, 0, 1],\n",
       "        [0, 0, 0, ..., 1, 0, 0],\n",
       "        [0, 1, 1, ..., 0, 1, 0],\n",
       "        [0, 0, 0, ..., 0, 0, 0]],\n",
       "\n",
       "       [[1, 0, 0, ..., 0, 0, 1],\n",
       "        [0, 0, 0, ..., 1, 0, 0],\n",
       "        [0, 1, 1, ..., 0, 1, 0],\n",
       "        [0, 0, 0, ..., 0, 0, 0]],\n",
       "\n",
       "       ...,\n",
       "\n",
       "       [[1, 0, 0, ..., 0, 0, 1],\n",
       "        [0, 0, 0, ..., 1, 0, 0],\n",
       "        [0, 1, 1, ..., 0, 1, 0],\n",
       "        [0, 0, 0, ..., 0, 0, 0]],\n",
       "\n",
       "       [[1, 0, 0, ..., 0, 0, 1],\n",
       "        [0, 0, 0, ..., 1, 0, 0],\n",
       "        [0, 1, 1, ..., 0, 1, 0],\n",
       "        [0, 0, 0, ..., 0, 0, 0]],\n",
       "\n",
       "       [[1, 0, 0, ..., 0, 0, 1],\n",
       "        [0, 0, 0, ..., 1, 0, 0],\n",
       "        [0, 1, 1, ..., 0, 1, 0],\n",
       "        [0, 0, 0, ..., 0, 0, 0]]], dtype=uint8)</pre></div></li></ul></div></li><li class='xr-section-item'><input id='section-d7bc9819-d607-40b8-804c-7c248dc9fc3d' class='xr-section-summary-in' type='checkbox'  ><label for='section-d7bc9819-d607-40b8-804c-7c248dc9fc3d' class='xr-section-summary' >Indexes: <span>(1)</span></label><div class='xr-section-inline-details'></div><div class='xr-section-details'><ul class='xr-var-list'><li class='xr-var-item'><div class='xr-index-name'><div>_sequence</div></div><div class='xr-index-preview'>PandasIndex</div><div></div><input id='index-2a59d6fd-7d3d-45ec-992a-9edcccc2b0c6' class='xr-index-data-in' type='checkbox'/><label for='index-2a59d6fd-7d3d-45ec-992a-9edcccc2b0c6' title='Show/Hide index repr'><svg class='icon xr-icon-database'><use xlink:href='#icon-database'></use></svg></label><div class='xr-index-data'><pre>PandasIndex(Int64Index([1277, 5763, 6044, 7344, 6623, 7093, 1714, 7943, 3293, 2507,\n",
       "            ...\n",
       "              35, 6322, 3502, 5389, 6357, 7896, 4589,  578, 7085, 4572],\n",
       "           dtype=&#x27;int64&#x27;, name=&#x27;_sequence&#x27;, length=6792))</pre></div></li></ul></div></li><li class='xr-section-item'><input id='section-c7e3522c-0450-4526-b045-12edad6a75c3' class='xr-section-summary-in' type='checkbox' disabled ><label for='section-c7e3522c-0450-4526-b045-12edad6a75c3' class='xr-section-summary'  title='Expand/collapse section'>Attributes: <span>(0)</span></label><div class='xr-section-inline-details'></div><div class='xr-section-details'><dl class='xr-attrs'></dl></div></li></ul></div></div>"
      ],
      "text/plain": [
       "<xarray.Dataset>\n",
       "Dimensions:      (_sequence: 6792, _alphabet: 4, _length: 262)\n",
       "Coordinates:\n",
       "  * _sequence    (_sequence) int64 1277 5763 6044 7344 ... 4589 578 7085 4572\n",
       "Dimensions without coordinates: _alphabet, _length\n",
       "Data variables: (12/16)\n",
       "    CRS          (_sequence) object 'LibA.Seq2464' ... 'LibA.Seq6656'\n",
       "    Seq          (_sequence) object 'aggaccggatcaactgtgaggggcgataagtttcctacat...\n",
       "    nrepeats     (_sequence) int64 3 5 5 2 4 4 6 1 2 4 5 ... 6 5 3 3 5 4 6 1 4 5\n",
       "    affinitynum  (_sequence) float64 0.75 0.75 0.25 0.75 1.0 ... 0.5 1.0 1.0 0.1\n",
       "    spacer       (_sequence) int64 4 20 20 10 20 20 4 4 ... 20 4 4 4 4 20 20 10\n",
       "    orientation  (_sequence) object 'rev' 'fwd' 'tandem' ... 'tandem' 'fwd'\n",
       "    ...           ...\n",
       "    State_5M     (_sequence) float64 nan nan nan nan ... nan -0.1226 0.485 nan\n",
       "    State_6N     (_sequence) float64 -0.03158 nan 0.331 ... -0.16 0.6755 0.1631\n",
       "    State_7M     (_sequence) float64 nan nan nan nan ... -0.0527 0.355 nan\n",
       "    seq          (_sequence) object 'AGGACCGGATCAACTGTGAGGGGCGATAAGTTTCCTACAT...\n",
       "    target       (_sequence) float64 0.03162 -0.01204 0.008192 ... 0.5149 0.1374\n",
       "    ohe_seq      (_sequence, _alphabet, _length) uint8 1 0 0 1 0 0 ... 0 0 0 0 0"
      ]
     },
     "execution_count": 19,
     "metadata": {},
     "output_type": "execute_result"
    }
   ],
   "source": [
    "# Drop Nan values from target\n",
    "train_sdata = train_sdata.dropna(dim=\"_sequence\", subset=[\"target\"])\n",
    "train_sdata"
   ]
  },
  {
   "cell_type": "code",
   "execution_count": 20,
   "metadata": {},
   "outputs": [
    {
     "name": "stderr",
     "output_type": "stream",
     "text": [
      "/cellar/users/aklie/opt/miniconda3/envs/ml4gland/lib/python3.9/site-packages/xarray/core/utils.py:494: FutureWarning: The return type of `Dataset.dims` will be changed to return a set of dimension names in future, in order to be more consistent with `DataArray.dims`. To access a mapping from dimension names to lengths, please use `Dataset.sizes`.\n",
      "  warnings.warn(\n"
     ]
    },
    {
     "data": {
      "text/plain": [
       "(torch.Size([128, 4, 262]), torch.Size([128]))"
      ]
     },
     "execution_count": 20,
     "metadata": {},
     "output_type": "execute_result"
    }
   ],
   "source": [
    "# Train dataloader\n",
    "train_dl = sd.get_torch_dataloader(\n",
    "    train_sdata.load(),\n",
    "    sample_dims=\"_sequence\",\n",
    "    variables=[\"ohe_seq\", \"target\"],\n",
    "    batch_size=128,\n",
    "    shuffle=True,\n",
    "    num_workers=0,\n",
    "    drop_last=False,\n",
    "    pin_memory=True,\n",
    ")\n",
    "batch = next(iter(train_dl))\n",
    "batch[\"ohe_seq\"].shape, batch[\"target\"].shape"
   ]
  },
  {
   "cell_type": "code",
   "execution_count": 21,
   "metadata": {},
   "outputs": [],
   "source": [
    "batch_dict = {\"ohe_seq\": batch[\"ohe_seq\"]}"
   ]
  },
  {
   "cell_type": "code",
   "execution_count": 22,
   "metadata": {},
   "outputs": [
    {
     "data": {
      "text/plain": [
       "{'loss': tensor(0.3020, grad_fn=<MseLossBackward0>)}"
      ]
     },
     "execution_count": 22,
     "metadata": {},
     "output_type": "execute_result"
    }
   ],
   "source": [
    "outputs = module(batch_dict)\n",
    "if len(module.output_vars) == 1:\n",
    "    outputs_dict = {module.output_vars[0]: outputs}\n",
    "else:\n",
    "    outputs_dict = {var: outputs[ind] for ind, var in enumerate(module.output_vars)}\n",
    "if module.squeeze_output:\n",
    "    outputs_dict = {k: v.squeeze() for k, v in outputs_dict.items()}\n",
    "module.loss_fxn(outputs_dict, batch)"
   ]
  },
  {
   "cell_type": "code",
   "execution_count": 23,
   "metadata": {},
   "outputs": [
    {
     "data": {
      "text/plain": [
       "{'r2': tensor(-7.8051, grad_fn=<MeanBackward0>),\n",
       " 'pearson': tensor(0.0851, grad_fn=<ClampBackward1>),\n",
       " 'spearman': tensor(0.0855)}"
      ]
     },
     "execution_count": 23,
     "metadata": {},
     "output_type": "execute_result"
    }
   ],
   "source": [
    "module.train_metrics_fxn(outputs_dict, batch)"
   ]
  },
  {
   "cell_type": "code",
   "execution_count": 24,
   "metadata": {},
   "outputs": [
    {
     "data": {
      "text/plain": [
       "{'r2': tensor(-7.8051, grad_fn=<MeanBackward0>),\n",
       " 'pearson': tensor(0.0851, grad_fn=<ClampBackward1>),\n",
       " 'spearman': tensor(0.0855)}"
      ]
     },
     "execution_count": 24,
     "metadata": {},
     "output_type": "execute_result"
    }
   ],
   "source": [
    "module.val_metrics_fxn(outputs_dict, batch)"
   ]
  },
  {
   "cell_type": "code",
   "execution_count": 25,
   "metadata": {},
   "outputs": [
    {
     "data": {
      "text/plain": [
       "(torch.Size([128, 4, 262]), torch.Size([128]))"
      ]
     },
     "execution_count": 25,
     "metadata": {},
     "output_type": "execute_result"
    }
   ],
   "source": [
    "# Validation dataloader\n",
    "valid_dl = sd.get_torch_dataloader(\n",
    "    valid_sdata.load(),\n",
    "    sample_dims=\"_sequence\",\n",
    "    variables=[\"ohe_seq\", \"target\"],\n",
    "    batch_size=128,\n",
    "    shuffle=False,\n",
    "    num_workers=0,\n",
    "    drop_last=False,\n",
    "    pin_memory=True,\n",
    ")\n",
    "batch = next(iter(valid_dl))\n",
    "batch[\"ohe_seq\"].shape, batch[\"target\"].shape"
   ]
  },
  {
   "cell_type": "markdown",
   "metadata": {},
   "source": [
    "# Trainer"
   ]
  },
  {
   "cell_type": "code",
   "execution_count": 26,
   "metadata": {},
   "outputs": [],
   "source": [
    "path_log = \"/cellar/users/aklie/data/datasets/Fromel2024_hematopoietic-differentiation_MPRA/models/libA_test\""
   ]
  },
  {
   "cell_type": "code",
   "execution_count": 27,
   "metadata": {},
   "outputs": [],
   "source": [
    "from pytorch_lightning import Trainer"
   ]
  },
  {
   "cell_type": "code",
   "execution_count": 28,
   "metadata": {},
   "outputs": [],
   "source": [
    "# Logger\n",
    "from pytorch_lightning.loggers import CSVLogger\n",
    "logger = CSVLogger(save_dir=os.path.join(path_log, \"log\"), name=\"\", version=\"\")"
   ]
  },
  {
   "cell_type": "code",
   "execution_count": 29,
   "metadata": {},
   "outputs": [],
   "source": [
    "# Add ModelCheckpoint, EarlyStopping and LearningRateMonitor callbacks\n",
    "from pytorch_lightning.callbacks import ModelCheckpoint, EarlyStopping, LearningRateMonitor\n",
    "callbacks = [\n",
    "ModelCheckpoint(\n",
    "    dirpath=os.path.join(\n",
    "        logger.save_dir, \n",
    "        logger.name, \n",
    "        logger.version, \n",
    "        \"checkpoints\"\n",
    "    ),\n",
    "    save_top_k=5,\n",
    "    monitor=\"val_loss_epoch\",\n",
    "    mode=\"min\",\n",
    "),\n",
    "    EarlyStopping(\n",
    "        monitor=\"val_loss_epoch\",\n",
    "        patience=10,\n",
    "        mode=\"min\",\n",
    "    ),\n",
    "    LearningRateMonitor(),\n",
    "]"
   ]
  },
  {
   "cell_type": "code",
   "execution_count": 30,
   "metadata": {},
   "outputs": [
    {
     "name": "stderr",
     "output_type": "stream",
     "text": [
      "/cellar/users/aklie/opt/miniconda3/envs/ml4gland/lib/python3.9/site-packages/lightning_fabric/plugins/environments/slurm.py:165: PossibleUserWarning: The `srun` command is available on your system but is not used. HINT: If your intention is to run Lightning on SLURM, prepend your python command with `srun` like so: srun python /cellar/users/aklie/opt/miniconda3/envs/ml4gland/lib ...\n",
      "  rank_zero_warn(\n",
      "GPU available: True (cuda), used: True\n",
      "TPU available: False, using: 0 TPU cores\n",
      "IPU available: False, using: 0 IPUs\n",
      "HPU available: False, using: 0 HPUs\n",
      "TPU available: False, using: 0 TPU cores\n",
      "IPU available: False, using: 0 IPUs\n",
      "HPU available: False, using: 0 HPUs\n"
     ]
    }
   ],
   "source": [
    "# Trainer\n",
    "trainer = Trainer(\n",
    "    logger=logger,\n",
    "    callbacks=callbacks,\n",
    "    max_epochs=100,\n",
    "    check_val_every_n_epoch=1,\n",
    ")"
   ]
  },
  {
   "cell_type": "markdown",
   "metadata": {},
   "source": [
    "# Fit"
   ]
  },
  {
   "cell_type": "code",
   "execution_count": 31,
   "metadata": {},
   "outputs": [
    {
     "name": "stderr",
     "output_type": "stream",
     "text": [
      "/cellar/users/aklie/opt/miniconda3/envs/ml4gland/lib/python3.9/site-packages/lightning_fabric/plugins/environments/slurm.py:165: PossibleUserWarning: The `srun` command is available on your system but is not used. HINT: If your intention is to run Lightning on SLURM, prepend your python command with `srun` like so: srun python /cellar/users/aklie/opt/miniconda3/envs/ml4gland/lib ...\n",
      "  rank_zero_warn(\n",
      "/cellar/users/aklie/opt/miniconda3/envs/ml4gland/lib/python3.9/site-packages/pytorch_lightning/callbacks/model_checkpoint.py:612: UserWarning: Checkpoint directory /cellar/users/aklie/data/datasets/Fromel2024_hematopoietic-differentiation_MPRA/models/libA_test/log/checkpoints exists and is not empty.\n",
      "  rank_zero_warn(f\"Checkpoint directory {dirpath} exists and is not empty.\")\n",
      "LOCAL_RANK: 0 - CUDA_VISIBLE_DEVICES: [0]\n",
      "\n",
      "  | Name              | Type          | Params\n",
      "----------------------------------------------------\n",
      "0 | arch              | ResidualBind  | 6.1 M \n",
      "1 | loss_fxn          | GeneralLoss   | 0     \n",
      "2 | train_metrics_fxn | GeneralMetric | 0     \n",
      "3 | val_metrics_fxn   | GeneralMetric | 0     \n",
      "----------------------------------------------------\n",
      "6.1 M     Trainable params\n",
      "0         Non-trainable params\n",
      "6.1 M     Total params\n",
      "24.244    Total estimated model params size (MB)\n",
      "/cellar/users/aklie/opt/miniconda3/envs/ml4gland/lib/python3.9/site-packages/lightning_fabric/loggers/csv_logs.py:188: UserWarning: Experiment logs directory /cellar/users/aklie/data/datasets/Fromel2024_hematopoietic-differentiation_MPRA/models/libA_test/log/ exists and is not empty. Previous log files in this directory will be deleted when the new ones are saved!\n",
      "  rank_zero_warn(\n"
     ]
    },
    {
     "data": {
      "application/vnd.jupyter.widget-view+json": {
       "model_id": "b0c9077bbf984a62b1ef98a1e8929943",
       "version_major": 2,
       "version_minor": 0
      },
      "text/plain": [
       "Sanity Checking: 0it [00:00, ?it/s]"
      ]
     },
     "metadata": {},
     "output_type": "display_data"
    },
    {
     "name": "stderr",
     "output_type": "stream",
     "text": [
      "/cellar/users/aklie/opt/miniconda3/envs/ml4gland/lib/python3.9/site-packages/pytorch_lightning/trainer/connectors/data_connector.py:430: PossibleUserWarning: The dataloader, val_dataloader, does not have many workers which may be a bottleneck. Consider increasing the value of the `num_workers` argument` (try 16 which is the number of cpus on this machine) in the `DataLoader` init to improve performance.\n",
      "  rank_zero_warn(\n",
      "/cellar/users/aklie/opt/miniconda3/envs/ml4gland/lib/python3.9/site-packages/torchmetrics/utilities/prints.py:43: UserWarning: The variance of predictions or target is close to zero. This can cause instability in Pearson correlationcoefficient, leading to wrong results. Consider re-scaling the input if possible or computing using alarger dtype (currently using torch.float32).\n",
      "  warnings.warn(*args, **kwargs)  # noqa: B028\n",
      "/cellar/users/aklie/opt/miniconda3/envs/ml4gland/lib/python3.9/site-packages/pytorch_lightning/trainer/connectors/data_connector.py:430: PossibleUserWarning: The dataloader, train_dataloader, does not have many workers which may be a bottleneck. Consider increasing the value of the `num_workers` argument` (try 16 which is the number of cpus on this machine) in the `DataLoader` init to improve performance.\n",
      "  rank_zero_warn(\n"
     ]
    },
    {
     "data": {
      "application/vnd.jupyter.widget-view+json": {
       "model_id": "b43b4dacf89643b2843325187d7c6b04",
       "version_major": 2,
       "version_minor": 0
      },
      "text/plain": [
       "Training: 0it [00:00, ?it/s]"
      ]
     },
     "metadata": {},
     "output_type": "display_data"
    },
    {
     "data": {
      "application/vnd.jupyter.widget-view+json": {
       "model_id": "d9f7f277d4ce41c18dc10a7a9a27a39e",
       "version_major": 2,
       "version_minor": 0
      },
      "text/plain": [
       "Validation: 0it [00:00, ?it/s]"
      ]
     },
     "metadata": {},
     "output_type": "display_data"
    },
    {
     "data": {
      "application/vnd.jupyter.widget-view+json": {
       "model_id": "26967318fc9849fdbcf8e6fa81c4706a",
       "version_major": 2,
       "version_minor": 0
      },
      "text/plain": [
       "Validation: 0it [00:00, ?it/s]"
      ]
     },
     "metadata": {},
     "output_type": "display_data"
    },
    {
     "data": {
      "application/vnd.jupyter.widget-view+json": {
       "model_id": "e44c4ecf802d428d8bb6233a669f2c2e",
       "version_major": 2,
       "version_minor": 0
      },
      "text/plain": [
       "Validation: 0it [00:00, ?it/s]"
      ]
     },
     "metadata": {},
     "output_type": "display_data"
    },
    {
     "data": {
      "application/vnd.jupyter.widget-view+json": {
       "model_id": "af276c2ddfca40eba4b828f813b15b1b",
       "version_major": 2,
       "version_minor": 0
      },
      "text/plain": [
       "Validation: 0it [00:00, ?it/s]"
      ]
     },
     "metadata": {},
     "output_type": "display_data"
    },
    {
     "data": {
      "application/vnd.jupyter.widget-view+json": {
       "model_id": "cd4160cc708245c38ed913dd48874c96",
       "version_major": 2,
       "version_minor": 0
      },
      "text/plain": [
       "Validation: 0it [00:00, ?it/s]"
      ]
     },
     "metadata": {},
     "output_type": "display_data"
    },
    {
     "data": {
      "application/vnd.jupyter.widget-view+json": {
       "model_id": "e5b8442efd27422882da2bd7cfdc602f",
       "version_major": 2,
       "version_minor": 0
      },
      "text/plain": [
       "Validation: 0it [00:00, ?it/s]"
      ]
     },
     "metadata": {},
     "output_type": "display_data"
    },
    {
     "data": {
      "application/vnd.jupyter.widget-view+json": {
       "model_id": "b58da1bd38c44dfbbfd530a106811d05",
       "version_major": 2,
       "version_minor": 0
      },
      "text/plain": [
       "Validation: 0it [00:00, ?it/s]"
      ]
     },
     "metadata": {},
     "output_type": "display_data"
    },
    {
     "data": {
      "application/vnd.jupyter.widget-view+json": {
       "model_id": "b953a5d7804c4c53a42fd9551f3b931f",
       "version_major": 2,
       "version_minor": 0
      },
      "text/plain": [
       "Validation: 0it [00:00, ?it/s]"
      ]
     },
     "metadata": {},
     "output_type": "display_data"
    },
    {
     "data": {
      "application/vnd.jupyter.widget-view+json": {
       "model_id": "81c32d77ca6f499dbccad1cf63d071da",
       "version_major": 2,
       "version_minor": 0
      },
      "text/plain": [
       "Validation: 0it [00:00, ?it/s]"
      ]
     },
     "metadata": {},
     "output_type": "display_data"
    },
    {
     "data": {
      "application/vnd.jupyter.widget-view+json": {
       "model_id": "873d4690910d4d9dba67c18bd9b456c0",
       "version_major": 2,
       "version_minor": 0
      },
      "text/plain": [
       "Validation: 0it [00:00, ?it/s]"
      ]
     },
     "metadata": {},
     "output_type": "display_data"
    },
    {
     "data": {
      "application/vnd.jupyter.widget-view+json": {
       "model_id": "3776c7becec04cb3a8d5c0d641dbff96",
       "version_major": 2,
       "version_minor": 0
      },
      "text/plain": [
       "Validation: 0it [00:00, ?it/s]"
      ]
     },
     "metadata": {},
     "output_type": "display_data"
    },
    {
     "data": {
      "application/vnd.jupyter.widget-view+json": {
       "model_id": "7425165cba334ab78ea3db56d501ba8c",
       "version_major": 2,
       "version_minor": 0
      },
      "text/plain": [
       "Validation: 0it [00:00, ?it/s]"
      ]
     },
     "metadata": {},
     "output_type": "display_data"
    },
    {
     "data": {
      "application/vnd.jupyter.widget-view+json": {
       "model_id": "ae2a7af9544649febf7deb83a154f3fc",
       "version_major": 2,
       "version_minor": 0
      },
      "text/plain": [
       "Validation: 0it [00:00, ?it/s]"
      ]
     },
     "metadata": {},
     "output_type": "display_data"
    },
    {
     "data": {
      "application/vnd.jupyter.widget-view+json": {
       "model_id": "6ce4ec556e7f42a692b0503d197412bd",
       "version_major": 2,
       "version_minor": 0
      },
      "text/plain": [
       "Validation: 0it [00:00, ?it/s]"
      ]
     },
     "metadata": {},
     "output_type": "display_data"
    },
    {
     "data": {
      "application/vnd.jupyter.widget-view+json": {
       "model_id": "64d11490dae84d26adbf19f4ca2e4c4c",
       "version_major": 2,
       "version_minor": 0
      },
      "text/plain": [
       "Validation: 0it [00:00, ?it/s]"
      ]
     },
     "metadata": {},
     "output_type": "display_data"
    },
    {
     "data": {
      "application/vnd.jupyter.widget-view+json": {
       "model_id": "9e9d278fbd62480bbb0e3244e364765c",
       "version_major": 2,
       "version_minor": 0
      },
      "text/plain": [
       "Validation: 0it [00:00, ?it/s]"
      ]
     },
     "metadata": {},
     "output_type": "display_data"
    },
    {
     "data": {
      "application/vnd.jupyter.widget-view+json": {
       "model_id": "89dfe8c3d7e945cd8c5eb2cadd964e7d",
       "version_major": 2,
       "version_minor": 0
      },
      "text/plain": [
       "Validation: 0it [00:00, ?it/s]"
      ]
     },
     "metadata": {},
     "output_type": "display_data"
    },
    {
     "data": {
      "application/vnd.jupyter.widget-view+json": {
       "model_id": "92d9d6698f194ac4a3d1a55a572173b9",
       "version_major": 2,
       "version_minor": 0
      },
      "text/plain": [
       "Validation: 0it [00:00, ?it/s]"
      ]
     },
     "metadata": {},
     "output_type": "display_data"
    },
    {
     "data": {
      "application/vnd.jupyter.widget-view+json": {
       "model_id": "9c7273db7f554bb59b60077f27f97d91",
       "version_major": 2,
       "version_minor": 0
      },
      "text/plain": [
       "Validation: 0it [00:00, ?it/s]"
      ]
     },
     "metadata": {},
     "output_type": "display_data"
    },
    {
     "data": {
      "application/vnd.jupyter.widget-view+json": {
       "model_id": "3d66ff0c3849454fb0975a757b17f95b",
       "version_major": 2,
       "version_minor": 0
      },
      "text/plain": [
       "Validation: 0it [00:00, ?it/s]"
      ]
     },
     "metadata": {},
     "output_type": "display_data"
    },
    {
     "data": {
      "application/vnd.jupyter.widget-view+json": {
       "model_id": "6dc547ae885541aaa445ad6dfd2ba947",
       "version_major": 2,
       "version_minor": 0
      },
      "text/plain": [
       "Validation: 0it [00:00, ?it/s]"
      ]
     },
     "metadata": {},
     "output_type": "display_data"
    },
    {
     "data": {
      "application/vnd.jupyter.widget-view+json": {
       "model_id": "6b9ad45770ad4aebad6a98952826c3f7",
       "version_major": 2,
       "version_minor": 0
      },
      "text/plain": [
       "Validation: 0it [00:00, ?it/s]"
      ]
     },
     "metadata": {},
     "output_type": "display_data"
    },
    {
     "data": {
      "application/vnd.jupyter.widget-view+json": {
       "model_id": "50f76043315342e4ae5a903b5b72cc2e",
       "version_major": 2,
       "version_minor": 0
      },
      "text/plain": [
       "Validation: 0it [00:00, ?it/s]"
      ]
     },
     "metadata": {},
     "output_type": "display_data"
    }
   ],
   "source": [
    "# Fit the weigths\n",
    "trainer.fit(module, train_dl, valid_dl)"
   ]
  },
  {
   "cell_type": "code",
   "execution_count": 32,
   "metadata": {},
   "outputs": [
    {
     "data": {
      "text/plain": [
       "0"
      ]
     },
     "execution_count": 32,
     "metadata": {},
     "output_type": "execute_result"
    }
   ],
   "source": [
    "# Get the best model weights\n",
    "best_model_path = trainer.checkpoint_callback.best_model_path\n",
    "copy_path = os.path.join(path_log, \"best_model.ckpt\")\n",
    "os.system(f\"cp {best_model_path} {copy_path}\")"
   ]
  },
  {
   "cell_type": "markdown",
   "metadata": {},
   "source": [
    "# Training Summary"
   ]
  },
  {
   "cell_type": "code",
   "execution_count": 33,
   "metadata": {},
   "outputs": [],
   "source": [
    "from utils import training_summary"
   ]
  },
  {
   "cell_type": "code",
   "execution_count": 34,
   "metadata": {},
   "outputs": [],
   "source": [
    "# Plot loss and metric curves\n",
    "training_summary(logger.save_dir, logger=\"csv\", metrics=[\"r2\", \"pearson\", \"spearman\"], save=os.path.join(path_log, \"training_summary.png\"))"
   ]
  },
  {
   "cell_type": "markdown",
   "metadata": {},
   "source": [
    "# Performance"
   ]
  },
  {
   "cell_type": "code",
   "execution_count": 35,
   "metadata": {},
   "outputs": [],
   "source": [
    "from utils import scatter"
   ]
  },
  {
   "cell_type": "code",
   "execution_count": 36,
   "metadata": {},
   "outputs": [],
   "source": [
    "# Load the best model weights\n",
    "module = Module.load_from_checkpoint(os.path.join(path_log, \"best_model.ckpt\"), arch=arch).eval().cuda()"
   ]
  },
  {
   "cell_type": "code",
   "execution_count": 37,
   "metadata": {},
   "outputs": [
    {
     "data": {
      "application/vnd.jupyter.widget-view+json": {
       "model_id": "92ea59ca95d84b9284c2c880b0bebc3b",
       "version_major": 2,
       "version_minor": 0
      },
      "text/plain": [
       "Predicting on batches:   0%|          | 0/53 [00:00<?, ?it/s]"
      ]
     },
     "metadata": {},
     "output_type": "display_data"
    }
   ],
   "source": [
    "# Get predictions and targets as arrays\n",
    "preds_dict = module.predict({\"seq\": valid_sdata[\"ohe_seq\"].values.astype(\"float32\")})\n",
    "preds = preds_dict[\"output\"].cpu().numpy().squeeze()\n",
    "targets = valid_sdata[\"target\"].values"
   ]
  },
  {
   "cell_type": "code",
   "execution_count": 38,
   "metadata": {},
   "outputs": [],
   "source": [
    "# Save the predictions\n",
    "df = pd.DataFrame({\n",
    "    \"target\": targets,\n",
    "    \"pred\": preds,\n",
    "})\n",
    "df.to_csv(\"test_predictions.csv\", index=False)"
   ]
  },
  {
   "cell_type": "code",
   "execution_count": 39,
   "metadata": {},
   "outputs": [],
   "source": [
    "# Plot a nice blue color\n",
    "scatter(\n",
    "    x=targets,\n",
    "    y=preds,\n",
    "    c=\"#4682B4\",\n",
    "    alpha=0.8,\n",
    "    xlabel=\"Experimental activity\",\n",
    "    ylabel=\"Predicted activity\",\n",
    "    density=True,\n",
    "    rasterized=True,\n",
    "    s=5,\n",
    "    save=os.path.join(path_log, \"test_scatter.png\"),\n",
    ")"
   ]
  },
  {
   "cell_type": "markdown",
   "metadata": {},
   "source": [
    "# Attribution"
   ]
  },
  {
   "cell_type": "code",
   "execution_count": 40,
   "metadata": {},
   "outputs": [],
   "source": [
    "from tangermeme.deep_lift_shap import deep_lift_shap"
   ]
  },
  {
   "cell_type": "code",
   "execution_count": 41,
   "metadata": {},
   "outputs": [],
   "source": [
    "X = torch.tensor(valid_sdata[\"ohe_seq\"].values.astype(\"float32\"), device=device)"
   ]
  },
  {
   "cell_type": "code",
   "execution_count": 44,
   "metadata": {},
   "outputs": [],
   "source": [
    "model = module.arch"
   ]
  },
  {
   "cell_type": "code",
   "execution_count": 45,
   "metadata": {},
   "outputs": [],
   "source": [
    "X_attr = deep_lift_shap(model, X, random_state=1234)"
   ]
  },
  {
   "cell_type": "code",
   "execution_count": 48,
   "metadata": {},
   "outputs": [],
   "source": [
    "# Find index of highest predicted value\n",
    "idx = np.argmax(preds)"
   ]
  },
  {
   "cell_type": "code",
   "execution_count": 49,
   "metadata": {},
   "outputs": [
    {
     "data": {
      "image/png": "[encoded data removed]",
      "text/plain": [
       "<Figure size 1000x200 with 1 Axes>"
      ]
     },
     "metadata": {},
     "output_type": "display_data"
    }
   ],
   "source": [
    "from matplotlib import pyplot as plt\n",
    "import seaborn; seaborn.set_style('whitegrid')\n",
    "from tangermeme.plot import plot_logo\n",
    "\n",
    "plt.figure(figsize=(10, 2))\n",
    "ax = plt.subplot(111)\n",
    "plot_logo(X_attr[idx, :, :], ax=ax)\n",
    "\n",
    "plt.xlabel(\"Genomic Coordinate\")\n",
    "plt.ylabel(\"Attributions\")\n",
    "plt.title(\"DeepLIFT Attributions\")\n",
    "plt.show()"
   ]
  },
  {
   "cell_type": "code",
   "execution_count": 53,
   "metadata": {},
   "outputs": [],
   "source": [
    "# Save ohe seqs as npz\n",
    "np.savez_compressed(os.path.join(path_log, \"valid_ohe.npz\"), X.cpu().numpy())\n",
    "np.savez_compressed(os.path.join(path_log, \"valid_shap.npz\"), X_attr.cpu().numpy())"
   ]
  },
  {
   "cell_type": "code",
   "execution_count": 59,
   "metadata": {},
   "outputs": [
    {
     "name": "stderr",
     "output_type": "stream",
     "text": [
      "OMP: Info #276: omp_set_nested routine deprecated, please use omp_set_max_active_levels instead.\n"
     ]
    },
    {
     "name": "stdout",
     "output_type": "stream",
     "text": [
      "usage: modisco motifs [-h] [-s SEQUENCES] [-a ATTRIBUTIONS] [-i H5PY] -n\n",
      "                      MAX_SEQLETS [-l N_LEIDEN] [-w WINDOW] [-o OUTPUT] [-v]\n",
      "\n",
      "optional arguments:\n",
      "  -h, --help            show this help message and exit\n",
      "  -s SEQUENCES, --sequences SEQUENCES\n",
      "                        A .npy or .npz file containing the one-hot encoded\n",
      "                        sequences.\n",
      "  -a ATTRIBUTIONS, --attributions ATTRIBUTIONS\n",
      "                        A .npy or .npz file containing the hypothetical\n",
      "                        attributions, i.e., the attributions for all\n",
      "                        nucleotides at all positions.\n",
      "  -i H5PY, --h5py H5PY  A legacy h5py file containing the one-hot encoded\n",
      "                        sequences and shap scores.\n",
      "  -n MAX_SEQLETS, --max_seqlets MAX_SEQLETS\n",
      "                        The maximum number of seqlets per metacluster.\n",
      "                      MAX_SEQLETS [-l N_LEIDEN] [-w WINDOW] [-o OUTPUT] [-v]\n",
      "\n",
      "optional arguments:\n",
      "  -h, --help            show this help message and exit\n",
      "  -s SEQUENCES, --sequences SEQUENCES\n",
      "                        A .npy or .npz file containing the one-hot encoded\n",
      "                        sequences.\n",
      "  -a ATTRIBUTIONS, --attributions ATTRIBUTIONS\n",
      "                        A .npy or .npz file containing the hypothetical\n",
      "                        attributions, i.e., the attributions for all\n",
      "                        nucleotides at all positions.\n",
      "  -i H5PY, --h5py H5PY  A legacy h5py file containing the one-hot encoded\n",
      "                        sequences and shap scores.\n",
      "  -n MAX_SEQLETS, --max_seqlets MAX_SEQLETS\n",
      "                        The maximum number of seqlets per metacluster.\n",
      "  -l N_LEIDEN, --n_leiden N_LEIDEN\n",
      "                        The number of Leiden clusterings to perform with\n",
      "                        different random seeds.\n",
      "  -w WINDOW, --window WINDOW\n",
      "                        The window surrounding the peak center that will be\n",
      "                        considered for motif discovery.\n",
      "  -o OUTPUT, --output OUTPUT\n",
      "                        The path to the output file.\n",
      "  -v, --verbose         Controls the amount of output from the code.\n"
     ]
    }
   ],
   "source": [
    "%%bash\n",
    "source activate ml4gland\n",
    "modisco motifs --help"
   ]
  },
  {
   "cell_type": "code",
   "execution_count": 60,
   "metadata": {},
   "outputs": [
    {
     "name": "stderr",
     "output_type": "stream",
     "text": [
      "OMP: Info #276: omp_set_nested routine deprecated, please use omp_set_max_active_levels instead.\n"
     ]
    }
   ],
   "source": [
    "%%bash\n",
    "source activate ml4gland\n",
    "modisco motifs -s /cellar/users/aklie/data/datasets/Fromel2024_hematopoietic-differentiation_MPRA/models/libA_test/valid_ohe.npz -a /cellar/users/aklie/data/datasets/Fromel2024_hematopoietic-differentiation_MPRA/models/libA_test/valid_shap.npz -n 50000 -w 262 -o /cellar/users/aklie/data/datasets/Fromel2024_hematopoietic-differentiation_MPRA/models/libA_test/valid_modisco_results.h5"
   ]
  },
  {
   "cell_type": "code",
   "execution_count": 62,
   "metadata": {},
   "outputs": [
    {
     "name": "stderr",
     "output_type": "stream",
     "text": [
      "OMP: Info #276: omp_set_nested routine deprecated, please use omp_set_max_active_levels instead.\n"
     ]
    }
   ],
   "source": [
    "%%bash\n",
    "source activate ml4gland\n",
    "modisco report -i /cellar/users/aklie/data/datasets/Fromel2024_hematopoietic-differentiation_MPRA/models/libA_test/valid_modisco_results.h5 -o /cellar/users/aklie/data/datasets/Fromel2024_hematopoietic-differentiation_MPRA/models/libA_test/valid_modisco_report -s /cellar/users/aklie/data/datasets/Fromel2024_hematopoietic-differentiation_MPRA/models/libA_test/valid_modisco_report -m /cellar/users/aklie/data/ref/motifs/hocomoco_meme.meme"
   ]
  },
  {
   "cell_type": "markdown",
   "metadata": {},
   "source": [
    "# DONE!"
   ]
  },
  {
   "cell_type": "markdown",
   "metadata": {},
   "source": [
    "---"
   ]
  }
 ],
 "metadata": {
  "kernelspec": {
   "display_name": "Python 3.9 ml4gland",
   "language": "python",
   "name": "ml4gland"
  }
 },
 "nbformat": 4,
 "nbformat_minor": 2
}
