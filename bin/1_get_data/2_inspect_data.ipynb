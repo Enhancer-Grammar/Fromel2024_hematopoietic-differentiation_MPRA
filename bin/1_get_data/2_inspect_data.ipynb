{
 "cells": [
  {
   "cell_type": "code",
   "execution_count": 17,
   "metadata": {
    "vscode": {
     "languageId": "r"
    }
   },
   "outputs": [],
   "source": [
    "# \n",
    "path_rda <- \"/cellar/users/aklie/data/datasets/Fromel2024_hematopoietic-differentiation_MPRA/results/publication_data/Fromel2024_hematopoietic-differentiation_MPRA.rda\"\n",
    "path_out <- \"/cellar/users/aklie/data/datasets/Fromel2024_hematopoietic-differentiation_MPRA/processed\""
   ]
  },
  {
   "cell_type": "code",
   "execution_count": 4,
   "metadata": {
    "vscode": {
     "languageId": "r"
    }
   },
   "outputs": [],
   "source": [
    "# read in the data\n",
    "load(path_rda)"
   ]
  },
  {
   "cell_type": "code",
   "execution_count": 5,
   "metadata": {
    "vscode": {
     "languageId": "r"
    }
   },
   "outputs": [
    {
     "data": {
      "text/html": [
       "<style>\n",
       ".list-inline {list-style: none; margin:0; padding: 0}\n",
       ".list-inline>li {display: inline-block}\n",
       ".list-inline>li:not(:last-child)::after {content: \"\\00b7\"; padding: 0 .5ex}\n",
       "</style>\n",
       "<ol class=list-inline><li>'K562.libA.minP.tra'</li><li>'K562.libB.minP.tra'</li><li>'K562.libB.minCMV.tra'</li><li>'K562.libC.minP.tra'</li><li>'K562.libB.minP.int'</li><li>'HSPC.libA'</li><li>'HSPC.libB'</li><li>'HSPC.libC'</li><li>'HSPC.libC.aggregate'</li></ol>\n"
      ],
      "text/latex": [
       "\\begin{enumerate*}\n",
       "\\item 'K562.libA.minP.tra'\n",
       "\\item 'K562.libB.minP.tra'\n",
       "\\item 'K562.libB.minCMV.tra'\n",
       "\\item 'K562.libC.minP.tra'\n",
       "\\item 'K562.libB.minP.int'\n",
       "\\item 'HSPC.libA'\n",
       "\\item 'HSPC.libB'\n",
       "\\item 'HSPC.libC'\n",
       "\\item 'HSPC.libC.aggregate'\n",
       "\\end{enumerate*}\n"
      ],
      "text/markdown": [
       "1. 'K562.libA.minP.tra'\n",
       "2. 'K562.libB.minP.tra'\n",
       "3. 'K562.libB.minCMV.tra'\n",
       "4. 'K562.libC.minP.tra'\n",
       "5. 'K562.libB.minP.int'\n",
       "6. 'HSPC.libA'\n",
       "7. 'HSPC.libB'\n",
       "8. 'HSPC.libC'\n",
       "9. 'HSPC.libC.aggregate'\n",
       "\n",
       "\n"
      ],
      "text/plain": [
       "[1] \"K562.libA.minP.tra\"   \"K562.libB.minP.tra\"   \"K562.libB.minCMV.tra\"\n",
       "[4] \"K562.libC.minP.tra\"   \"K562.libB.minP.int\"   \"HSPC.libA\"           \n",
       "[7] \"HSPC.libB\"            \"HSPC.libC\"            \"HSPC.libC.aggregate\" "
      ]
     },
     "metadata": {},
     "output_type": "display_data"
    }
   ],
   "source": [
    "names(mpra.data)"
   ]
  },
  {
   "cell_type": "code",
   "execution_count": 7,
   "metadata": {
    "vscode": {
     "languageId": "r"
    }
   },
   "outputs": [
    {
     "data": {
      "text/html": [
       "'data.frame'"
      ],
      "text/latex": [
       "'data.frame'"
      ],
      "text/markdown": [
       "'data.frame'"
      ],
      "text/plain": [
       "[1] \"data.frame\""
      ]
     },
     "metadata": {},
     "output_type": "display_data"
    }
   ],
   "source": [
    "class(mpra.data$HSPC.libB$DATA)"
   ]
  },
  {
   "cell_type": "code",
   "execution_count": 10,
   "metadata": {
    "vscode": {
     "languageId": "r"
    }
   },
   "outputs": [
    {
     "data": {
      "text/html": [
       "<style>\n",
       ".list-inline {list-style: none; margin:0; padding: 0}\n",
       ".list-inline>li {display: inline-block}\n",
       ".list-inline>li:not(:last-child)::after {content: \"\\00b7\"; padding: 0 .5ex}\n",
       "</style>\n",
       "<ol class=list-inline><li>43673</li><li>25</li></ol>\n"
      ],
      "text/latex": [
       "\\begin{enumerate*}\n",
       "\\item 43673\n",
       "\\item 25\n",
       "\\end{enumerate*}\n"
      ],
      "text/markdown": [
       "1. 43673\n",
       "2. 25\n",
       "\n",
       "\n"
      ],
      "text/plain": [
       "[1] 43673    25"
      ]
     },
     "metadata": {},
     "output_type": "display_data"
    }
   ],
   "source": [
    "dim(mpra.data$HSPC.libA$DATA)"
   ]
  },
  {
   "cell_type": "code",
   "execution_count": 9,
   "metadata": {
    "vscode": {
     "languageId": "r"
    }
   },
   "outputs": [
    {
     "data": {
      "text/html": [
       "<style>\n",
       ".list-inline {list-style: none; margin:0; padding: 0}\n",
       ".list-inline>li {display: inline-block}\n",
       ".list-inline>li:not(:last-child)::after {content: \"\\00b7\"; padding: 0 .5ex}\n",
       "</style>\n",
       "<ol class=list-inline><li>138824</li><li>28</li></ol>\n"
      ],
      "text/latex": [
       "\\begin{enumerate*}\n",
       "\\item 138824\n",
       "\\item 28\n",
       "\\end{enumerate*}\n"
      ],
      "text/markdown": [
       "1. 138824\n",
       "2. 28\n",
       "\n",
       "\n"
      ],
      "text/plain": [
       "[1] 138824     28"
      ]
     },
     "metadata": {},
     "output_type": "display_data"
    }
   ],
   "source": [
    "dim(mpra.data$HSPC.libB$DATA)"
   ]
  },
  {
   "cell_type": "code",
   "execution_count": 9,
   "metadata": {
    "vscode": {
     "languageId": "r"
    }
   },
   "outputs": [
    {
     "data": {
      "text/html": [
       "<style>\n",
       ".list-inline {list-style: none; margin:0; padding: 0}\n",
       ".list-inline>li {display: inline-block}\n",
       ".list-inline>li:not(:last-child)::after {content: \"\\00b7\"; padding: 0 .5ex}\n",
       "</style>\n",
       "<ol class=list-inline><li>7</li><li>13</li></ol>\n"
      ],
      "text/latex": [
       "\\begin{enumerate*}\n",
       "\\item 7\n",
       "\\item 13\n",
       "\\end{enumerate*}\n"
      ],
      "text/markdown": [
       "1. 7\n",
       "2. 13\n",
       "\n",
       "\n"
      ],
      "text/plain": [
       "[1]  7 13"
      ]
     },
     "metadata": {},
     "output_type": "display_data"
    }
   ],
   "source": [
    "dim(mpra.data$HSPC.libA$BACKGROUND)"
   ]
  },
  {
   "cell_type": "code",
   "execution_count": 10,
   "metadata": {
    "vscode": {
     "languageId": "r"
    }
   },
   "outputs": [
    {
     "name": "stderr",
     "output_type": "stream",
     "text": [
      "Loading required package: reshape2\n",
      "\n"
     ]
    }
   ],
   "source": [
    "require(reshape2)"
   ]
  },
  {
   "cell_type": "markdown",
   "metadata": {},
   "source": [
    "# Library A"
   ]
  },
  {
   "cell_type": "code",
   "execution_count": 13,
   "metadata": {
    "vscode": {
     "languageId": "r"
    }
   },
   "outputs": [
    {
     "data": {
      "text/html": [
       "<table class=\"dataframe\">\n",
       "<caption>A data.frame: 6 × 25</caption>\n",
       "<thead>\n",
       "\t<tr><th></th><th scope=col>clusterID</th><th scope=col>CRS</th><th scope=col>TF</th><th scope=col>RNA.1</th><th scope=col>DNA.1</th><th scope=col>RNA.norm.1</th><th scope=col>DNA.norm.1</th><th scope=col>RNA.2</th><th scope=col>DNA.2</th><th scope=col>RNA.norm.2</th><th scope=col>⋯</th><th scope=col>orientation</th><th scope=col>spacer</th><th scope=col>mean.norm.raw</th><th scope=col>mean.norm.adj</th><th scope=col>norm.1.raw</th><th scope=col>norm.2.raw</th><th scope=col>norm.1.adj</th><th scope=col>norm.2.adj</th><th scope=col>mean.scaled.final</th><th scope=col>sum.biophys.affinity</th></tr>\n",
       "\t<tr><th></th><th scope=col>&lt;chr&gt;</th><th scope=col>&lt;chr&gt;</th><th scope=col>&lt;chr&gt;</th><th scope=col>&lt;dbl&gt;</th><th scope=col>&lt;int&gt;</th><th scope=col>&lt;dbl&gt;</th><th scope=col>&lt;dbl&gt;</th><th scope=col>&lt;dbl&gt;</th><th scope=col>&lt;int&gt;</th><th scope=col>&lt;dbl&gt;</th><th scope=col>⋯</th><th scope=col>&lt;chr&gt;</th><th scope=col>&lt;int&gt;</th><th scope=col>&lt;dbl&gt;</th><th scope=col>&lt;dbl&gt;</th><th scope=col>&lt;dbl&gt;</th><th scope=col>&lt;dbl&gt;</th><th scope=col>&lt;dbl&gt;</th><th scope=col>&lt;dbl&gt;</th><th scope=col>&lt;dbl&gt;</th><th scope=col>&lt;dbl&gt;</th></tr>\n",
       "</thead>\n",
       "<tbody>\n",
       "\t<tr><th scope=row>1</th><td>State_1M</td><td>LibA.Seq1    </td><td>Cebpa</td><td>217</td><td> 77</td><td> 32.21755</td><td> 60.39846</td><td>161</td><td> 55</td><td> 30.43085</td><td>⋯</td><td>fwd   </td><td> 4</td><td>-0.7496966</td><td>-0.244353683</td><td>-0.8862569</td><td>-0.61313635</td><td>-0.374034514</td><td>-0.1260653</td><td>-0.06920187</td><td> 9.60606</td></tr>\n",
       "\t<tr><th scope=row>2</th><td>State_1M</td><td>LibA.Seq10   </td><td>Cebpa</td><td>357</td><td> 97</td><td> 53.00306</td><td> 76.08637</td><td>297</td><td> 69</td><td> 56.13641</td><td>⋯</td><td>rev   </td><td> 4</td><td>-0.2927025</td><td> 0.212640473</td><td>-0.5134346</td><td>-0.07197034</td><td>-0.001212218</td><td> 0.4151007</td><td> 0.06022057</td><td> 9.60606</td></tr>\n",
       "\t<tr><th scope=row>3</th><td>State_1M</td><td>LibA.Seq1000 </td><td>Elk1 </td><td>411</td><td> 49</td><td> 61.02033</td><td> 38.43538</td><td>363</td><td> 43</td><td> 68.61117</td><td>⋯</td><td>rev   </td><td> 4</td><td> 0.7669982</td><td> 1.272341170</td><td> 0.6532506</td><td> 0.88074587</td><td> 1.165472963</td><td> 1.3678169</td><td> 0.36033176</td><td>29.06621</td></tr>\n",
       "\t<tr><th scope=row>4</th><td>State_1M</td><td>LibA.Seq10000</td><td>Tcf3 </td><td>313</td><td> 77</td><td> 46.47047</td><td> 60.39846</td><td>203</td><td> 70</td><td> 38.36933</td><td>⋯</td><td>tandem</td><td> 4</td><td>-0.5004480</td><td> 0.004894957</td><td>-0.3711720</td><td>-0.62972390</td><td> 0.141050311</td><td>-0.1426529</td><td> 0.00138627</td><td>27.08827</td></tr>\n",
       "\t<tr><th scope=row>5</th><td>State_1M</td><td>LibA.Seq10001</td><td>Tcf3 </td><td>526</td><td> 87</td><td> 78.09415</td><td> 68.24241</td><td>432</td><td> 85</td><td> 81.65296</td><td>⋯</td><td>tandem</td><td>10</td><td> 0.1781315</td><td> 0.683474408</td><td> 0.1919149</td><td> 0.16434803</td><td> 0.704137280</td><td> 0.6514190</td><td> 0.19356250</td><td>27.16827</td></tr>\n",
       "\t<tr><th scope=row>6</th><td>State_1M</td><td>LibA.Seq10002</td><td>Tcf3 </td><td>978</td><td>260</td><td>145.20166</td><td>203.94284</td><td>684</td><td>237</td><td>129.28385</td><td>⋯</td><td>tandem</td><td>20</td><td>-0.5665730</td><td>-0.061230061</td><td>-0.4872619</td><td>-0.64588409</td><td> 0.024960471</td><td>-0.1588131</td><td>-0.01734058</td><td>27.11827</td></tr>\n",
       "</tbody>\n",
       "</table>\n"
      ],
      "text/latex": [
       "A data.frame: 6 × 25\n",
       "\\begin{tabular}{r|lllllllllllllllllllll}\n",
       "  & clusterID & CRS & TF & RNA.1 & DNA.1 & RNA.norm.1 & DNA.norm.1 & RNA.2 & DNA.2 & RNA.norm.2 & ⋯ & orientation & spacer & mean.norm.raw & mean.norm.adj & norm.1.raw & norm.2.raw & norm.1.adj & norm.2.adj & mean.scaled.final & sum.biophys.affinity\\\\\n",
       "  & <chr> & <chr> & <chr> & <dbl> & <int> & <dbl> & <dbl> & <dbl> & <int> & <dbl> & ⋯ & <chr> & <int> & <dbl> & <dbl> & <dbl> & <dbl> & <dbl> & <dbl> & <dbl> & <dbl>\\\\\n",
       "\\hline\n",
       "\t1 & State\\_1M & LibA.Seq1     & Cebpa & 217 &  77 &  32.21755 &  60.39846 & 161 &  55 &  30.43085 & ⋯ & fwd    &  4 & -0.7496966 & -0.244353683 & -0.8862569 & -0.61313635 & -0.374034514 & -0.1260653 & -0.06920187 &  9.60606\\\\\n",
       "\t2 & State\\_1M & LibA.Seq10    & Cebpa & 357 &  97 &  53.00306 &  76.08637 & 297 &  69 &  56.13641 & ⋯ & rev    &  4 & -0.2927025 &  0.212640473 & -0.5134346 & -0.07197034 & -0.001212218 &  0.4151007 &  0.06022057 &  9.60606\\\\\n",
       "\t3 & State\\_1M & LibA.Seq1000  & Elk1  & 411 &  49 &  61.02033 &  38.43538 & 363 &  43 &  68.61117 & ⋯ & rev    &  4 &  0.7669982 &  1.272341170 &  0.6532506 &  0.88074587 &  1.165472963 &  1.3678169 &  0.36033176 & 29.06621\\\\\n",
       "\t4 & State\\_1M & LibA.Seq10000 & Tcf3  & 313 &  77 &  46.47047 &  60.39846 & 203 &  70 &  38.36933 & ⋯ & tandem &  4 & -0.5004480 &  0.004894957 & -0.3711720 & -0.62972390 &  0.141050311 & -0.1426529 &  0.00138627 & 27.08827\\\\\n",
       "\t5 & State\\_1M & LibA.Seq10001 & Tcf3  & 526 &  87 &  78.09415 &  68.24241 & 432 &  85 &  81.65296 & ⋯ & tandem & 10 &  0.1781315 &  0.683474408 &  0.1919149 &  0.16434803 &  0.704137280 &  0.6514190 &  0.19356250 & 27.16827\\\\\n",
       "\t6 & State\\_1M & LibA.Seq10002 & Tcf3  & 978 & 260 & 145.20166 & 203.94284 & 684 & 237 & 129.28385 & ⋯ & tandem & 20 & -0.5665730 & -0.061230061 & -0.4872619 & -0.64588409 &  0.024960471 & -0.1588131 & -0.01734058 & 27.11827\\\\\n",
       "\\end{tabular}\n"
      ],
      "text/markdown": [
       "\n",
       "A data.frame: 6 × 25\n",
       "\n",
       "| <!--/--> | clusterID &lt;chr&gt; | CRS &lt;chr&gt; | TF &lt;chr&gt; | RNA.1 &lt;dbl&gt; | DNA.1 &lt;int&gt; | RNA.norm.1 &lt;dbl&gt; | DNA.norm.1 &lt;dbl&gt; | RNA.2 &lt;dbl&gt; | DNA.2 &lt;int&gt; | RNA.norm.2 &lt;dbl&gt; | ⋯ ⋯ | orientation &lt;chr&gt; | spacer &lt;int&gt; | mean.norm.raw &lt;dbl&gt; | mean.norm.adj &lt;dbl&gt; | norm.1.raw &lt;dbl&gt; | norm.2.raw &lt;dbl&gt; | norm.1.adj &lt;dbl&gt; | norm.2.adj &lt;dbl&gt; | mean.scaled.final &lt;dbl&gt; | sum.biophys.affinity &lt;dbl&gt; |\n",
       "|---|---|---|---|---|---|---|---|---|---|---|---|---|---|---|---|---|---|---|---|---|---|\n",
       "| 1 | State_1M | LibA.Seq1     | Cebpa | 217 |  77 |  32.21755 |  60.39846 | 161 |  55 |  30.43085 | ⋯ | fwd    |  4 | -0.7496966 | -0.244353683 | -0.8862569 | -0.61313635 | -0.374034514 | -0.1260653 | -0.06920187 |  9.60606 |\n",
       "| 2 | State_1M | LibA.Seq10    | Cebpa | 357 |  97 |  53.00306 |  76.08637 | 297 |  69 |  56.13641 | ⋯ | rev    |  4 | -0.2927025 |  0.212640473 | -0.5134346 | -0.07197034 | -0.001212218 |  0.4151007 |  0.06022057 |  9.60606 |\n",
       "| 3 | State_1M | LibA.Seq1000  | Elk1  | 411 |  49 |  61.02033 |  38.43538 | 363 |  43 |  68.61117 | ⋯ | rev    |  4 |  0.7669982 |  1.272341170 |  0.6532506 |  0.88074587 |  1.165472963 |  1.3678169 |  0.36033176 | 29.06621 |\n",
       "| 4 | State_1M | LibA.Seq10000 | Tcf3  | 313 |  77 |  46.47047 |  60.39846 | 203 |  70 |  38.36933 | ⋯ | tandem |  4 | -0.5004480 |  0.004894957 | -0.3711720 | -0.62972390 |  0.141050311 | -0.1426529 |  0.00138627 | 27.08827 |\n",
       "| 5 | State_1M | LibA.Seq10001 | Tcf3  | 526 |  87 |  78.09415 |  68.24241 | 432 |  85 |  81.65296 | ⋯ | tandem | 10 |  0.1781315 |  0.683474408 |  0.1919149 |  0.16434803 |  0.704137280 |  0.6514190 |  0.19356250 | 27.16827 |\n",
       "| 6 | State_1M | LibA.Seq10002 | Tcf3  | 978 | 260 | 145.20166 | 203.94284 | 684 | 237 | 129.28385 | ⋯ | tandem | 20 | -0.5665730 | -0.061230061 | -0.4872619 | -0.64588409 |  0.024960471 | -0.1588131 | -0.01734058 | 27.11827 |\n",
       "\n"
      ],
      "text/plain": [
       "  clusterID CRS           TF    RNA.1 DNA.1 RNA.norm.1 DNA.norm.1 RNA.2 DNA.2\n",
       "1 State_1M  LibA.Seq1     Cebpa 217    77    32.21755   60.39846  161    55  \n",
       "2 State_1M  LibA.Seq10    Cebpa 357    97    53.00306   76.08637  297    69  \n",
       "3 State_1M  LibA.Seq1000  Elk1  411    49    61.02033   38.43538  363    43  \n",
       "4 State_1M  LibA.Seq10000 Tcf3  313    77    46.47047   60.39846  203    70  \n",
       "5 State_1M  LibA.Seq10001 Tcf3  526    87    78.09415   68.24241  432    85  \n",
       "6 State_1M  LibA.Seq10002 Tcf3  978   260   145.20166  203.94284  684   237  \n",
       "  RNA.norm.2 ⋯ orientation spacer mean.norm.raw mean.norm.adj norm.1.raw\n",
       "1  30.43085  ⋯ fwd          4     -0.7496966    -0.244353683  -0.8862569\n",
       "2  56.13641  ⋯ rev          4     -0.2927025     0.212640473  -0.5134346\n",
       "3  68.61117  ⋯ rev          4      0.7669982     1.272341170   0.6532506\n",
       "4  38.36933  ⋯ tandem       4     -0.5004480     0.004894957  -0.3711720\n",
       "5  81.65296  ⋯ tandem      10      0.1781315     0.683474408   0.1919149\n",
       "6 129.28385  ⋯ tandem      20     -0.5665730    -0.061230061  -0.4872619\n",
       "  norm.2.raw  norm.1.adj   norm.2.adj mean.scaled.final sum.biophys.affinity\n",
       "1 -0.61313635 -0.374034514 -0.1260653 -0.06920187        9.60606            \n",
       "2 -0.07197034 -0.001212218  0.4151007  0.06022057        9.60606            \n",
       "3  0.88074587  1.165472963  1.3678169  0.36033176       29.06621            \n",
       "4 -0.62972390  0.141050311 -0.1426529  0.00138627       27.08827            \n",
       "5  0.16434803  0.704137280  0.6514190  0.19356250       27.16827            \n",
       "6 -0.64588409  0.024960471 -0.1588131 -0.01734058       27.11827            "
      ]
     },
     "metadata": {},
     "output_type": "display_data"
    }
   ],
   "source": [
    "dataframe <- mpra.data$HSPC.libA$DATA\n",
    "head(dataframe)"
   ]
  },
  {
   "cell_type": "code",
   "execution_count": 20,
   "metadata": {
    "vscode": {
     "languageId": "r"
    }
   },
   "outputs": [
    {
     "data": {
      "text/plain": [
       "\n",
       " Cebpa    Cic  Creb1  Ddit3   Elk1   Fli1    Fos  Gata1  Gata2   Gfi1  Gfi1b \n",
       "   998   1163    946    946   1237   1173   1070    963   1035    994   1129 \n",
       " Ikzf1   Irf7   Klf1   Klf4   Lyl1  Mecom  Meis1  Meis2    Myb    Myc   Nfix \n",
       "  1396   1016   1357   1194   1197    884   1201   1069   1157   1019   1308 \n",
       " Nfkb1   Nfyc  Nr2c2   Pbx1  Runx1   Rxrg    Sp1  Spdef   Spi1 Stat5a  Tcf12 \n",
       "  1117   1210   1309    939   1277   1269    908   1247   1353   1236   1206 \n",
       "  Tcf3 Tfap2a  Trp53    Yy1 Zbtb7a \n",
       "  1207   1272   1365   1194   1112 "
      ]
     },
     "metadata": {},
     "output_type": "display_data"
    }
   ],
   "source": [
    "table(dataframe$TF)"
   ]
  },
  {
   "cell_type": "code",
   "execution_count": 15,
   "metadata": {
    "vscode": {
     "languageId": "r"
    }
   },
   "outputs": [
    {
     "data": {
      "text/html": [
       "<style>\n",
       ".list-inline {list-style: none; margin:0; padding: 0}\n",
       ".list-inline>li {display: inline-block}\n",
       ".list-inline>li:not(:last-child)::after {content: \"\\00b7\"; padding: 0 .5ex}\n",
       "</style>\n",
       "<ol class=list-inline><li>'clusterID'</li><li>'CRS'</li><li>'TF'</li><li>'RNA.1'</li><li>'DNA.1'</li><li>'RNA.norm.1'</li><li>'DNA.norm.1'</li><li>'RNA.2'</li><li>'DNA.2'</li><li>'RNA.norm.2'</li><li>'DNA.norm.2'</li><li>'Library'</li><li>'Seq'</li><li>'nrepeats'</li><li>'affinitynum'</li><li>'orientation'</li><li>'spacer'</li><li>'mean.norm.raw'</li><li>'mean.norm.adj'</li><li>'norm.1.raw'</li><li>'norm.2.raw'</li><li>'norm.1.adj'</li><li>'norm.2.adj'</li><li>'mean.scaled.final'</li><li>'sum.biophys.affinity'</li></ol>\n"
      ],
      "text/latex": [
       "\\begin{enumerate*}\n",
       "\\item 'clusterID'\n",
       "\\item 'CRS'\n",
       "\\item 'TF'\n",
       "\\item 'RNA.1'\n",
       "\\item 'DNA.1'\n",
       "\\item 'RNA.norm.1'\n",
       "\\item 'DNA.norm.1'\n",
       "\\item 'RNA.2'\n",
       "\\item 'DNA.2'\n",
       "\\item 'RNA.norm.2'\n",
       "\\item 'DNA.norm.2'\n",
       "\\item 'Library'\n",
       "\\item 'Seq'\n",
       "\\item 'nrepeats'\n",
       "\\item 'affinitynum'\n",
       "\\item 'orientation'\n",
       "\\item 'spacer'\n",
       "\\item 'mean.norm.raw'\n",
       "\\item 'mean.norm.adj'\n",
       "\\item 'norm.1.raw'\n",
       "\\item 'norm.2.raw'\n",
       "\\item 'norm.1.adj'\n",
       "\\item 'norm.2.adj'\n",
       "\\item 'mean.scaled.final'\n",
       "\\item 'sum.biophys.affinity'\n",
       "\\end{enumerate*}\n"
      ],
      "text/markdown": [
       "1. 'clusterID'\n",
       "2. 'CRS'\n",
       "3. 'TF'\n",
       "4. 'RNA.1'\n",
       "5. 'DNA.1'\n",
       "6. 'RNA.norm.1'\n",
       "7. 'DNA.norm.1'\n",
       "8. 'RNA.2'\n",
       "9. 'DNA.2'\n",
       "10. 'RNA.norm.2'\n",
       "11. 'DNA.norm.2'\n",
       "12. 'Library'\n",
       "13. 'Seq'\n",
       "14. 'nrepeats'\n",
       "15. 'affinitynum'\n",
       "16. 'orientation'\n",
       "17. 'spacer'\n",
       "18. 'mean.norm.raw'\n",
       "19. 'mean.norm.adj'\n",
       "20. 'norm.1.raw'\n",
       "21. 'norm.2.raw'\n",
       "22. 'norm.1.adj'\n",
       "23. 'norm.2.adj'\n",
       "24. 'mean.scaled.final'\n",
       "25. 'sum.biophys.affinity'\n",
       "\n",
       "\n"
      ],
      "text/plain": [
       " [1] \"clusterID\"            \"CRS\"                  \"TF\"                  \n",
       " [4] \"RNA.1\"                \"DNA.1\"                \"RNA.norm.1\"          \n",
       " [7] \"DNA.norm.1\"           \"RNA.2\"                \"DNA.2\"               \n",
       "[10] \"RNA.norm.2\"           \"DNA.norm.2\"           \"Library\"             \n",
       "[13] \"Seq\"                  \"nrepeats\"             \"affinitynum\"         \n",
       "[16] \"orientation\"          \"spacer\"               \"mean.norm.raw\"       \n",
       "[19] \"mean.norm.adj\"        \"norm.1.raw\"           \"norm.2.raw\"          \n",
       "[22] \"norm.1.adj\"           \"norm.2.adj\"           \"mean.scaled.final\"   \n",
       "[25] \"sum.biophys.affinity\""
      ]
     },
     "metadata": {},
     "output_type": "display_data"
    }
   ],
   "source": [
    "colnames(dataframe)"
   ]
  },
  {
   "cell_type": "code",
   "execution_count": 11,
   "metadata": {
    "vscode": {
     "languageId": "r"
    }
   },
   "outputs": [],
   "source": [
    "casted.dataframe <- dcast(mpra.data$HSPC.libA$DATA, CRS + Seq + nrepeats + affinitynum + spacer + orientation ~ clusterID, value.var = \"mean.scaled.final\")"
   ]
  },
  {
   "cell_type": "code",
   "execution_count": 19,
   "metadata": {
    "vscode": {
     "languageId": "r"
    }
   },
   "outputs": [
    {
     "data": {
      "text/html": [
       "<table class=\"dataframe\">\n",
       "<caption>A data.frame: 6 × 13</caption>\n",
       "<thead>\n",
       "\t<tr><th></th><th scope=col>CRS</th><th scope=col>Seq</th><th scope=col>nrepeats</th><th scope=col>affinitynum</th><th scope=col>spacer</th><th scope=col>orientation</th><th scope=col>State_1M</th><th scope=col>State_2D</th><th scope=col>State_3E</th><th scope=col>State_4M</th><th scope=col>State_5M</th><th scope=col>State_6N</th><th scope=col>State_7M</th></tr>\n",
       "\t<tr><th></th><th scope=col>&lt;chr&gt;</th><th scope=col>&lt;chr&gt;</th><th scope=col>&lt;int&gt;</th><th scope=col>&lt;dbl&gt;</th><th scope=col>&lt;int&gt;</th><th scope=col>&lt;chr&gt;</th><th scope=col>&lt;dbl&gt;</th><th scope=col>&lt;dbl&gt;</th><th scope=col>&lt;dbl&gt;</th><th scope=col>&lt;dbl&gt;</th><th scope=col>&lt;dbl&gt;</th><th scope=col>&lt;dbl&gt;</th><th scope=col>&lt;dbl&gt;</th></tr>\n",
       "</thead>\n",
       "<tbody>\n",
       "\t<tr><th scope=row>8487</th><td>LibA.Seq9863</td><td>aggaccggatcaactggctactgagccgaatagccttctcctattacctcgtggcttcgaggggaaatgcgagacctgtagtcaacaaaatctgttgtaacacgcacgtcgttcacggtctgattgttatccGTGATGAGGAACAGAcagctttcttTGACTTCTTCTATGTtgggcctcctAGTATAAGGAAATGGcccccaataaCCACTTCTTTAGTCTtggagaacacAGCATGAGGAACTCTcattgcgtgaaccga</td><td>5</td><td>0.10000</td><td>10</td><td>tandem</td><td>NA</td><td>NA</td><td>-0.08976720</td><td>NA</td><td>NA</td><td>NA</td><td>NA</td></tr>\n",
       "\t<tr><th scope=row>8488</th><td>LibA.Seq9894</td><td>aggaccggatcaactagcgccgcatggatagcataggtcccatcaacggctgcgtaaggctcgaagaggattaacgcgctggtgtcaaagagtgatatctaaagtaccctgatcgctcttcgttcaggatgatacagtctattgtttTTCCCAGAAGttactgaaattgctcatcatCTTCCGGGAAtgactgtaagaattccatccTTCTCAGAAAcaagcaatgattatgcccttCTTCCGGGAAcattgcgtgaaccga</td><td>4</td><td>0.50000</td><td>20</td><td>tandem</td><td>NA</td><td>NA</td><td> 0.03857918</td><td>NA</td><td>NA</td><td>NA</td><td>NA</td></tr>\n",
       "\t<tr><th scope=row>8489</th><td>LibA.Seq9904</td><td>aggaccggatcaactgaaaggcttactgcggataatgataaatcagcttcggctctccaggcgcgtgccggggacttcgtggacggtggcacgtttcggccctcgaacattatccgattaagacgaccggactccagatctcgtttacccaaacctacattacgaaataccctcgcaagttTTCCAGGAAAtaagTTTCCTGGAAtgcaTTCCAGGAAAgtcaTTTCCTGGAAcattTTCCAGGAAAcattgcgtgaaccga</td><td>5</td><td>0.89375</td><td> 4</td><td>tandem</td><td>NA</td><td>NA</td><td> 0.27502730</td><td>NA</td><td>NA</td><td>NA</td><td>NA</td></tr>\n",
       "\t<tr><th scope=row>8490</th><td>LibA.Seq9941</td><td>aggaccggatcaactttgacaattatctcataccacctagctgtcctgttcgagtggcagaagagagcgagcaaatcaggtagaagaacctcagatagctacacgctctaccataatttagcgaacgatcgctgtttcatacgaacaaacggccgtcccctcgtagaaccttatgtgccacGCAGGTGCGagatgtagcaAACACCTGTgctcaccagtACAGGTGTGtgagggttccTACACCTGCcattgcgtgaaccga</td><td>4</td><td>0.89375</td><td>10</td><td>tandem</td><td>NA</td><td>NA</td><td> 0.19538522</td><td>NA</td><td>NA</td><td>NA</td><td>NA</td></tr>\n",
       "\t<tr><th scope=row>8491</th><td>LibA.Seq9987</td><td>aggaccggatcaacttagaacgtccccatttagtactcttcgcagcgttgaaaattggtagcgaagtgtgtctaaacgttctagacgccatcaTCACATGTGatgcttgataaacgcgcaaaTCCACTTGGtacttgggcaagacctagttTCACATGTAttcccgtaatcgcataccccTACATATGGactaaaatctaaacgacggtCCAGATATTtctgtagttcagcttaggctAACATCTTCcattgcgtgaaccga</td><td>6</td><td>0.25000</td><td>20</td><td>tandem</td><td>NA</td><td>NA</td><td> 0.06312395</td><td>NA</td><td>NA</td><td>NA</td><td>NA</td></tr>\n",
       "\t<tr><th scope=row>8492</th><td>LibA.Seq9988</td><td>aggaccggatcaactcgttagctttttgtatcacaccacgtcggggaaaagtgtccaagcgtaaaccctgaggctataactgattcctacttaaggggtacccaagagaatgaacgcgacaagacgtagggaaactcagttgtagccgtacgttcctttcgggaggatcgtccCAACGTGGAcccaTAGACCTGCaataGCCGCTGATatatAACATCAGAccgcAAACATGTTgctcCAAATCTGGcattgcgtgaaccga</td><td>6</td><td>0.10000</td><td> 4</td><td>tandem</td><td>NA</td><td>NA</td><td>-0.03689421</td><td>NA</td><td>NA</td><td>NA</td><td>NA</td></tr>\n",
       "</tbody>\n",
       "</table>\n"
      ],
      "text/latex": [
       "A data.frame: 6 × 13\n",
       "\\begin{tabular}{r|lllllllllllll}\n",
       "  & CRS & Seq & nrepeats & affinitynum & spacer & orientation & State\\_1M & State\\_2D & State\\_3E & State\\_4M & State\\_5M & State\\_6N & State\\_7M\\\\\n",
       "  & <chr> & <chr> & <int> & <dbl> & <int> & <chr> & <dbl> & <dbl> & <dbl> & <dbl> & <dbl> & <dbl> & <dbl>\\\\\n",
       "\\hline\n",
       "\t8487 & LibA.Seq9863 & aggaccggatcaactggctactgagccgaatagccttctcctattacctcgtggcttcgaggggaaatgcgagacctgtagtcaacaaaatctgttgtaacacgcacgtcgttcacggtctgattgttatccGTGATGAGGAACAGAcagctttcttTGACTTCTTCTATGTtgggcctcctAGTATAAGGAAATGGcccccaataaCCACTTCTTTAGTCTtggagaacacAGCATGAGGAACTCTcattgcgtgaaccga & 5 & 0.10000 & 10 & tandem & NA & NA & -0.08976720 & NA & NA & NA & NA\\\\\n",
       "\t8488 & LibA.Seq9894 & aggaccggatcaactagcgccgcatggatagcataggtcccatcaacggctgcgtaaggctcgaagaggattaacgcgctggtgtcaaagagtgatatctaaagtaccctgatcgctcttcgttcaggatgatacagtctattgtttTTCCCAGAAGttactgaaattgctcatcatCTTCCGGGAAtgactgtaagaattccatccTTCTCAGAAAcaagcaatgattatgcccttCTTCCGGGAAcattgcgtgaaccga & 4 & 0.50000 & 20 & tandem & NA & NA &  0.03857918 & NA & NA & NA & NA\\\\\n",
       "\t8489 & LibA.Seq9904 & aggaccggatcaactgaaaggcttactgcggataatgataaatcagcttcggctctccaggcgcgtgccggggacttcgtggacggtggcacgtttcggccctcgaacattatccgattaagacgaccggactccagatctcgtttacccaaacctacattacgaaataccctcgcaagttTTCCAGGAAAtaagTTTCCTGGAAtgcaTTCCAGGAAAgtcaTTTCCTGGAAcattTTCCAGGAAAcattgcgtgaaccga & 5 & 0.89375 &  4 & tandem & NA & NA &  0.27502730 & NA & NA & NA & NA\\\\\n",
       "\t8490 & LibA.Seq9941 & aggaccggatcaactttgacaattatctcataccacctagctgtcctgttcgagtggcagaagagagcgagcaaatcaggtagaagaacctcagatagctacacgctctaccataatttagcgaacgatcgctgtttcatacgaacaaacggccgtcccctcgtagaaccttatgtgccacGCAGGTGCGagatgtagcaAACACCTGTgctcaccagtACAGGTGTGtgagggttccTACACCTGCcattgcgtgaaccga & 4 & 0.89375 & 10 & tandem & NA & NA &  0.19538522 & NA & NA & NA & NA\\\\\n",
       "\t8491 & LibA.Seq9987 & aggaccggatcaacttagaacgtccccatttagtactcttcgcagcgttgaaaattggtagcgaagtgtgtctaaacgttctagacgccatcaTCACATGTGatgcttgataaacgcgcaaaTCCACTTGGtacttgggcaagacctagttTCACATGTAttcccgtaatcgcataccccTACATATGGactaaaatctaaacgacggtCCAGATATTtctgtagttcagcttaggctAACATCTTCcattgcgtgaaccga & 6 & 0.25000 & 20 & tandem & NA & NA &  0.06312395 & NA & NA & NA & NA\\\\\n",
       "\t8492 & LibA.Seq9988 & aggaccggatcaactcgttagctttttgtatcacaccacgtcggggaaaagtgtccaagcgtaaaccctgaggctataactgattcctacttaaggggtacccaagagaatgaacgcgacaagacgtagggaaactcagttgtagccgtacgttcctttcgggaggatcgtccCAACGTGGAcccaTAGACCTGCaataGCCGCTGATatatAACATCAGAccgcAAACATGTTgctcCAAATCTGGcattgcgtgaaccga & 6 & 0.10000 &  4 & tandem & NA & NA & -0.03689421 & NA & NA & NA & NA\\\\\n",
       "\\end{tabular}\n"
      ],
      "text/markdown": [
       "\n",
       "A data.frame: 6 × 13\n",
       "\n",
       "| <!--/--> | CRS &lt;chr&gt; | Seq &lt;chr&gt; | nrepeats &lt;int&gt; | affinitynum &lt;dbl&gt; | spacer &lt;int&gt; | orientation &lt;chr&gt; | State_1M &lt;dbl&gt; | State_2D &lt;dbl&gt; | State_3E &lt;dbl&gt; | State_4M &lt;dbl&gt; | State_5M &lt;dbl&gt; | State_6N &lt;dbl&gt; | State_7M &lt;dbl&gt; |\n",
       "|---|---|---|---|---|---|---|---|---|---|---|---|---|---|\n",
       "| 8487 | LibA.Seq9863 | aggaccggatcaactggctactgagccgaatagccttctcctattacctcgtggcttcgaggggaaatgcgagacctgtagtcaacaaaatctgttgtaacacgcacgtcgttcacggtctgattgttatccGTGATGAGGAACAGAcagctttcttTGACTTCTTCTATGTtgggcctcctAGTATAAGGAAATGGcccccaataaCCACTTCTTTAGTCTtggagaacacAGCATGAGGAACTCTcattgcgtgaaccga | 5 | 0.10000 | 10 | tandem | NA | NA | -0.08976720 | NA | NA | NA | NA |\n",
       "| 8488 | LibA.Seq9894 | aggaccggatcaactagcgccgcatggatagcataggtcccatcaacggctgcgtaaggctcgaagaggattaacgcgctggtgtcaaagagtgatatctaaagtaccctgatcgctcttcgttcaggatgatacagtctattgtttTTCCCAGAAGttactgaaattgctcatcatCTTCCGGGAAtgactgtaagaattccatccTTCTCAGAAAcaagcaatgattatgcccttCTTCCGGGAAcattgcgtgaaccga | 4 | 0.50000 | 20 | tandem | NA | NA |  0.03857918 | NA | NA | NA | NA |\n",
       "| 8489 | LibA.Seq9904 | aggaccggatcaactgaaaggcttactgcggataatgataaatcagcttcggctctccaggcgcgtgccggggacttcgtggacggtggcacgtttcggccctcgaacattatccgattaagacgaccggactccagatctcgtttacccaaacctacattacgaaataccctcgcaagttTTCCAGGAAAtaagTTTCCTGGAAtgcaTTCCAGGAAAgtcaTTTCCTGGAAcattTTCCAGGAAAcattgcgtgaaccga | 5 | 0.89375 |  4 | tandem | NA | NA |  0.27502730 | NA | NA | NA | NA |\n",
       "| 8490 | LibA.Seq9941 | aggaccggatcaactttgacaattatctcataccacctagctgtcctgttcgagtggcagaagagagcgagcaaatcaggtagaagaacctcagatagctacacgctctaccataatttagcgaacgatcgctgtttcatacgaacaaacggccgtcccctcgtagaaccttatgtgccacGCAGGTGCGagatgtagcaAACACCTGTgctcaccagtACAGGTGTGtgagggttccTACACCTGCcattgcgtgaaccga | 4 | 0.89375 | 10 | tandem | NA | NA |  0.19538522 | NA | NA | NA | NA |\n",
       "| 8491 | LibA.Seq9987 | aggaccggatcaacttagaacgtccccatttagtactcttcgcagcgttgaaaattggtagcgaagtgtgtctaaacgttctagacgccatcaTCACATGTGatgcttgataaacgcgcaaaTCCACTTGGtacttgggcaagacctagttTCACATGTAttcccgtaatcgcataccccTACATATGGactaaaatctaaacgacggtCCAGATATTtctgtagttcagcttaggctAACATCTTCcattgcgtgaaccga | 6 | 0.25000 | 20 | tandem | NA | NA |  0.06312395 | NA | NA | NA | NA |\n",
       "| 8492 | LibA.Seq9988 | aggaccggatcaactcgttagctttttgtatcacaccacgtcggggaaaagtgtccaagcgtaaaccctgaggctataactgattcctacttaaggggtacccaagagaatgaacgcgacaagacgtagggaaactcagttgtagccgtacgttcctttcgggaggatcgtccCAACGTGGAcccaTAGACCTGCaataGCCGCTGATatatAACATCAGAccgcAAACATGTTgctcCAAATCTGGcattgcgtgaaccga | 6 | 0.10000 |  4 | tandem | NA | NA | -0.03689421 | NA | NA | NA | NA |\n",
       "\n"
      ],
      "text/plain": [
       "     CRS         \n",
       "8487 LibA.Seq9863\n",
       "8488 LibA.Seq9894\n",
       "8489 LibA.Seq9904\n",
       "8490 LibA.Seq9941\n",
       "8491 LibA.Seq9987\n",
       "8492 LibA.Seq9988\n",
       "     Seq                                                                                                                                                                                                                                                                   \n",
       "8487 aggaccggatcaactggctactgagccgaatagccttctcctattacctcgtggcttcgaggggaaatgcgagacctgtagtcaacaaaatctgttgtaacacgcacgtcgttcacggtctgattgttatccGTGATGAGGAACAGAcagctttcttTGACTTCTTCTATGTtgggcctcctAGTATAAGGAAATGGcccccaataaCCACTTCTTTAGTCTtggagaacacAGCATGAGGAACTCTcattgcgtgaaccga\n",
       "8488 aggaccggatcaactagcgccgcatggatagcataggtcccatcaacggctgcgtaaggctcgaagaggattaacgcgctggtgtcaaagagtgatatctaaagtaccctgatcgctcttcgttcaggatgatacagtctattgtttTTCCCAGAAGttactgaaattgctcatcatCTTCCGGGAAtgactgtaagaattccatccTTCTCAGAAAcaagcaatgattatgcccttCTTCCGGGAAcattgcgtgaaccga\n",
       "8489 aggaccggatcaactgaaaggcttactgcggataatgataaatcagcttcggctctccaggcgcgtgccggggacttcgtggacggtggcacgtttcggccctcgaacattatccgattaagacgaccggactccagatctcgtttacccaaacctacattacgaaataccctcgcaagttTTCCAGGAAAtaagTTTCCTGGAAtgcaTTCCAGGAAAgtcaTTTCCTGGAAcattTTCCAGGAAAcattgcgtgaaccga\n",
       "8490 aggaccggatcaactttgacaattatctcataccacctagctgtcctgttcgagtggcagaagagagcgagcaaatcaggtagaagaacctcagatagctacacgctctaccataatttagcgaacgatcgctgtttcatacgaacaaacggccgtcccctcgtagaaccttatgtgccacGCAGGTGCGagatgtagcaAACACCTGTgctcaccagtACAGGTGTGtgagggttccTACACCTGCcattgcgtgaaccga\n",
       "8491 aggaccggatcaacttagaacgtccccatttagtactcttcgcagcgttgaaaattggtagcgaagtgtgtctaaacgttctagacgccatcaTCACATGTGatgcttgataaacgcgcaaaTCCACTTGGtacttgggcaagacctagttTCACATGTAttcccgtaatcgcataccccTACATATGGactaaaatctaaacgacggtCCAGATATTtctgtagttcagcttaggctAACATCTTCcattgcgtgaaccga\n",
       "8492 aggaccggatcaactcgttagctttttgtatcacaccacgtcggggaaaagtgtccaagcgtaaaccctgaggctataactgattcctacttaaggggtacccaagagaatgaacgcgacaagacgtagggaaactcagttgtagccgtacgttcctttcgggaggatcgtccCAACGTGGAcccaTAGACCTGCaataGCCGCTGATatatAACATCAGAccgcAAACATGTTgctcCAAATCTGGcattgcgtgaaccga\n",
       "     nrepeats affinitynum spacer orientation State_1M State_2D State_3E   \n",
       "8487 5        0.10000     10     tandem      NA       NA       -0.08976720\n",
       "8488 4        0.50000     20     tandem      NA       NA        0.03857918\n",
       "8489 5        0.89375      4     tandem      NA       NA        0.27502730\n",
       "8490 4        0.89375     10     tandem      NA       NA        0.19538522\n",
       "8491 6        0.25000     20     tandem      NA       NA        0.06312395\n",
       "8492 6        0.10000      4     tandem      NA       NA       -0.03689421\n",
       "     State_4M State_5M State_6N State_7M\n",
       "8487 NA       NA       NA       NA      \n",
       "8488 NA       NA       NA       NA      \n",
       "8489 NA       NA       NA       NA      \n",
       "8490 NA       NA       NA       NA      \n",
       "8491 NA       NA       NA       NA      \n",
       "8492 NA       NA       NA       NA      "
      ]
     },
     "metadata": {},
     "output_type": "display_data"
    }
   ],
   "source": [
    "tail(casted.dataframe)"
   ]
  },
  {
   "cell_type": "code",
   "execution_count": 18,
   "metadata": {
    "vscode": {
     "languageId": "r"
    }
   },
   "outputs": [],
   "source": [
    "# Save as tsv\n",
    "write.table(casted.dataframe, file = file.path(path_out, \"HSPC.libA.DATA.tsv\"), sep = \"\\t\", quote = FALSE, row.names = FALSE)"
   ]
  },
  {
   "cell_type": "code",
   "execution_count": null,
   "metadata": {
    "vscode": {
     "languageId": "r"
    }
   },
   "outputs": [],
   "source": []
  }
 ],
 "metadata": {
  "kernelspec": {
   "display_name": "R 4.3.3 scverse",
   "language": "R",
   "name": "scverse-r433"
  },
  "language_info": {
   "codemirror_mode": "r",
   "file_extension": ".r",
   "mimetype": "text/x-r-source",
   "name": "R",
   "pygments_lexer": "r",
   "version": "4.3.1"
  }
 },
 "nbformat": 4,
 "nbformat_minor": 2
}
